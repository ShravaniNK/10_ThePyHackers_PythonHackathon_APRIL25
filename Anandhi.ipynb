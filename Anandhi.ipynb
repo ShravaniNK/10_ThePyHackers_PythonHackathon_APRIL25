{
 "cells": [
  {
   "cell_type": "markdown",
   "id": "df12879a-83d0-41d0-8412-1f7c830a75c8",
   "metadata": {},
   "source": [
    "Python Hackathon 2025 : question 33 to 48"
   ]
  },
  {
   "cell_type": "code",
   "execution_count": 5,
   "id": "35e0c52d-5271-4e34-9545-140e8397403c",
   "metadata": {},
   "outputs": [
    {
     "name": "stdout",
     "output_type": "stream",
     "text": [
      "Requirement already satisfied: pandas in c:\\users\\itsma\\new folder\\lib\\site-packages (2.2.2)\n",
      "Requirement already satisfied: numpy>=1.26.0 in c:\\users\\itsma\\new folder\\lib\\site-packages (from pandas) (1.26.4)\n",
      "Requirement already satisfied: python-dateutil>=2.8.2 in c:\\users\\itsma\\new folder\\lib\\site-packages (from pandas) (2.9.0.post0)\n",
      "Requirement already satisfied: pytz>=2020.1 in c:\\users\\itsma\\new folder\\lib\\site-packages (from pandas) (2024.1)\n",
      "Requirement already satisfied: tzdata>=2022.7 in c:\\users\\itsma\\new folder\\lib\\site-packages (from pandas) (2023.3)\n",
      "Requirement already satisfied: six>=1.5 in c:\\users\\itsma\\new folder\\lib\\site-packages (from python-dateutil>=2.8.2->pandas) (1.16.0)\n"
     ]
    }
   ],
   "source": [
    "#import the CSv file\n",
    "!pip install pandas\n"
   ]
  },
  {
   "cell_type": "code",
   "execution_count": 11,
   "id": "f8ac52a3-3339-4a04-8f9a-610cb5b555db",
   "metadata": {},
   "outputs": [],
   "source": [
    "import numpy as np\n",
    "import pandas as pd\n",
    "import matplotlib.pyplot as plt"
   ]
  },
  {
   "cell_type": "code",
   "execution_count": 13,
   "id": "cee6c0fb-48ad-4362-bc90-82789af2e7db",
   "metadata": {},
   "outputs": [],
   "source": [
    "test_m = pd.read_csv('test_measure.csv')"
   ]
  },
  {
   "cell_type": "code",
   "execution_count": 15,
   "id": "5e31ef21-bfe7-4b3b-b2c1-9b45ae1ce93d",
   "metadata": {},
   "outputs": [],
   "source": [
    "subject_i = pd.read_csv('subject-info.csv')"
   ]
  },
  {
   "cell_type": "code",
   "execution_count": 23,
   "id": "be52a53b-69d3-4bff-8c94-0af5076ca02f",
   "metadata": {},
   "outputs": [
    {
     "data": {
      "text/html": [
       "<div>\n",
       "<style scoped>\n",
       "    .dataframe tbody tr th:only-of-type {\n",
       "        vertical-align: middle;\n",
       "    }\n",
       "\n",
       "    .dataframe tbody tr th {\n",
       "        vertical-align: top;\n",
       "    }\n",
       "\n",
       "    .dataframe thead th {\n",
       "        text-align: right;\n",
       "    }\n",
       "</style>\n",
       "<table border=\"1\" class=\"dataframe\">\n",
       "  <thead>\n",
       "    <tr style=\"text-align: right;\">\n",
       "      <th></th>\n",
       "      <th>time</th>\n",
       "      <th>Speed</th>\n",
       "      <th>HR</th>\n",
       "      <th>VO2</th>\n",
       "      <th>VCO2</th>\n",
       "      <th>RR</th>\n",
       "      <th>VE</th>\n",
       "      <th>ID_test</th>\n",
       "      <th>ID</th>\n",
       "    </tr>\n",
       "  </thead>\n",
       "  <tbody>\n",
       "    <tr>\n",
       "      <th>0</th>\n",
       "      <td>0</td>\n",
       "      <td>5.0</td>\n",
       "      <td>63.0</td>\n",
       "      <td>478.0</td>\n",
       "      <td>360.0</td>\n",
       "      <td>27</td>\n",
       "      <td>13.3</td>\n",
       "      <td>2_1</td>\n",
       "      <td>2</td>\n",
       "    </tr>\n",
       "    <tr>\n",
       "      <th>1</th>\n",
       "      <td>2</td>\n",
       "      <td>5.0</td>\n",
       "      <td>75.0</td>\n",
       "      <td>401.0</td>\n",
       "      <td>295.0</td>\n",
       "      <td>23</td>\n",
       "      <td>10.3</td>\n",
       "      <td>2_1</td>\n",
       "      <td>2</td>\n",
       "    </tr>\n",
       "    <tr>\n",
       "      <th>2</th>\n",
       "      <td>4</td>\n",
       "      <td>5.0</td>\n",
       "      <td>82.0</td>\n",
       "      <td>449.0</td>\n",
       "      <td>319.0</td>\n",
       "      <td>29</td>\n",
       "      <td>12.2</td>\n",
       "      <td>2_1</td>\n",
       "      <td>2</td>\n",
       "    </tr>\n",
       "    <tr>\n",
       "      <th>3</th>\n",
       "      <td>7</td>\n",
       "      <td>5.0</td>\n",
       "      <td>87.0</td>\n",
       "      <td>461.0</td>\n",
       "      <td>340.0</td>\n",
       "      <td>28</td>\n",
       "      <td>12.8</td>\n",
       "      <td>2_1</td>\n",
       "      <td>2</td>\n",
       "    </tr>\n",
       "    <tr>\n",
       "      <th>4</th>\n",
       "      <td>9</td>\n",
       "      <td>5.0</td>\n",
       "      <td>92.0</td>\n",
       "      <td>574.0</td>\n",
       "      <td>417.0</td>\n",
       "      <td>28</td>\n",
       "      <td>14.6</td>\n",
       "      <td>2_1</td>\n",
       "      <td>2</td>\n",
       "    </tr>\n",
       "  </tbody>\n",
       "</table>\n",
       "</div>"
      ],
      "text/plain": [
       "   time  Speed    HR    VO2   VCO2  RR    VE ID_test  ID\n",
       "0     0    5.0  63.0  478.0  360.0  27  13.3     2_1   2\n",
       "1     2    5.0  75.0  401.0  295.0  23  10.3     2_1   2\n",
       "2     4    5.0  82.0  449.0  319.0  29  12.2     2_1   2\n",
       "3     7    5.0  87.0  461.0  340.0  28  12.8     2_1   2\n",
       "4     9    5.0  92.0  574.0  417.0  28  14.6     2_1   2"
      ]
     },
     "execution_count": 23,
     "metadata": {},
     "output_type": "execute_result"
    }
   ],
   "source": [
    "test_m.head()\n",
    "\n"
   ]
  },
  {
   "cell_type": "code",
   "execution_count": 21,
   "id": "038f93f1-b550-415b-b34c-3c12e4a22c9d",
   "metadata": {},
   "outputs": [
    {
     "data": {
      "text/html": [
       "<div>\n",
       "<style scoped>\n",
       "    .dataframe tbody tr th:only-of-type {\n",
       "        vertical-align: middle;\n",
       "    }\n",
       "\n",
       "    .dataframe tbody tr th {\n",
       "        vertical-align: top;\n",
       "    }\n",
       "\n",
       "    .dataframe thead th {\n",
       "        text-align: right;\n",
       "    }\n",
       "</style>\n",
       "<table border=\"1\" class=\"dataframe\">\n",
       "  <thead>\n",
       "    <tr style=\"text-align: right;\">\n",
       "      <th></th>\n",
       "      <th>Age</th>\n",
       "      <th>Weight</th>\n",
       "      <th>Height</th>\n",
       "      <th>Humidity</th>\n",
       "      <th>Temperature</th>\n",
       "      <th>Sex</th>\n",
       "      <th>ID</th>\n",
       "      <th>ID_test</th>\n",
       "    </tr>\n",
       "  </thead>\n",
       "  <tbody>\n",
       "    <tr>\n",
       "      <th>0</th>\n",
       "      <td>10.8</td>\n",
       "      <td>48.8</td>\n",
       "      <td>163.0</td>\n",
       "      <td>39.0</td>\n",
       "      <td>20.7</td>\n",
       "      <td>1</td>\n",
       "      <td>543</td>\n",
       "      <td>543_1</td>\n",
       "    </tr>\n",
       "    <tr>\n",
       "      <th>1</th>\n",
       "      <td>11.8</td>\n",
       "      <td>41.0</td>\n",
       "      <td>150.0</td>\n",
       "      <td>41.0</td>\n",
       "      <td>22.3</td>\n",
       "      <td>1</td>\n",
       "      <td>11</td>\n",
       "      <td>11_1</td>\n",
       "    </tr>\n",
       "    <tr>\n",
       "      <th>2</th>\n",
       "      <td>12.2</td>\n",
       "      <td>46.0</td>\n",
       "      <td>160.0</td>\n",
       "      <td>37.0</td>\n",
       "      <td>21.5</td>\n",
       "      <td>0</td>\n",
       "      <td>829</td>\n",
       "      <td>829_1</td>\n",
       "    </tr>\n",
       "    <tr>\n",
       "      <th>3</th>\n",
       "      <td>13.2</td>\n",
       "      <td>71.0</td>\n",
       "      <td>190.0</td>\n",
       "      <td>49.0</td>\n",
       "      <td>23.8</td>\n",
       "      <td>1</td>\n",
       "      <td>284</td>\n",
       "      <td>284_1</td>\n",
       "    </tr>\n",
       "    <tr>\n",
       "      <th>4</th>\n",
       "      <td>13.7</td>\n",
       "      <td>53.8</td>\n",
       "      <td>169.7</td>\n",
       "      <td>40.0</td>\n",
       "      <td>25.3</td>\n",
       "      <td>0</td>\n",
       "      <td>341</td>\n",
       "      <td>341_1</td>\n",
       "    </tr>\n",
       "  </tbody>\n",
       "</table>\n",
       "</div>"
      ],
      "text/plain": [
       "    Age  Weight  Height  Humidity  Temperature  Sex   ID ID_test\n",
       "0  10.8    48.8   163.0      39.0         20.7    1  543   543_1\n",
       "1  11.8    41.0   150.0      41.0         22.3    1   11    11_1\n",
       "2  12.2    46.0   160.0      37.0         21.5    0  829   829_1\n",
       "3  13.2    71.0   190.0      49.0         23.8    1  284   284_1\n",
       "4  13.7    53.8   169.7      40.0         25.3    0  341   341_1"
      ]
     },
     "execution_count": 21,
     "metadata": {},
     "output_type": "execute_result"
    }
   ],
   "source": [
    "subject_i.head()"
   ]
  },
  {
   "cell_type": "markdown",
   "id": "4ec4ef7a-0153-4ea5-a6f4-748f24e09992",
   "metadata": {},
   "source": [
    "Question:35. Read 10 records from dataframe and convert into Json format and print the data"
   ]
  },
  {
   "cell_type": "code",
   "execution_count": null,
   "id": "ee5b54dc-ddb8-4dc7-bc79-697da157fe7f",
   "metadata": {},
   "outputs": [],
   "source": []
  }
 ],
 "metadata": {
  "kernelspec": {
   "display_name": "Python [conda env:base]",
   "language": "python",
   "name": "conda-base-py"
  },
  "language_info": {
   "codemirror_mode": {
    "name": "ipython",
    "version": 3
   },
   "file_extension": ".py",
   "mimetype": "text/x-python",
   "name": "python",
   "nbconvert_exporter": "python",
   "pygments_lexer": "ipython3",
   "version": "3.12.7"
  }
 },
 "nbformat": 4,
 "nbformat_minor": 5
}
