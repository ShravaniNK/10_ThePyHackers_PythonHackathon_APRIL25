{
 "cells": [
  {
   "cell_type": "code",
   "execution_count": 1,
   "id": "a7888907-a621-4956-9688-97b0b5ef436a",
   "metadata": {},
   "outputs": [],
   "source": [
    "import numpy as np\n",
    "import pandas as pd"
   ]
  },
  {
   "cell_type": "code",
   "execution_count": 9,
   "id": "8d082b51-febc-4766-9580-0d704ce5c0b3",
   "metadata": {},
   "outputs": [],
   "source": [
    "subject = pd.read_csv('subject-info.csv')\n",
    "test = pd.read_csv('test_measure.csv')"
   ]
  },
  {
   "cell_type": "code",
   "execution_count": 13,
   "id": "720c011a-2a14-4fa0-ae33-d9309d3b03a1",
   "metadata": {},
   "outputs": [
    {
     "name": "stdout",
     "output_type": "stream",
     "text": [
      "   time  Speed    HR    VO2   VCO2    RR    VE ID_test  ID\n",
      "0     0    5.0  63.0  478.0  360.0  27.0  13.3     2_1   2\n",
      "1     2    5.0  75.0  401.0  295.0  23.0  10.3     2_1   2\n",
      "2     4    5.0  82.0  449.0  319.0  29.0  12.2     2_1   2\n",
      "3     7    5.0  87.0  461.0  340.0  28.0  12.8     2_1   2\n",
      "4     9    5.0  92.0  574.0  417.0  28.0  14.6     2_1   2\n",
      "    Age  Weight  Height  Humidity  Temperature  Sex   ID ID_test\n",
      "0  10.8    48.8   163.0      39.0         20.7    1  543   543_1\n",
      "1  11.8    41.0   150.0      41.0         22.3    1   11    11_1\n",
      "2  12.2    46.0   160.0      37.0         21.5    0  829   829_1\n",
      "3  13.2    71.0   190.0      49.0         23.8    1  284   284_1\n",
      "4  13.7    53.8   169.7      40.0         25.3    0  341   341_1\n",
      "      Age  Weight  Height  Humidity  Temperature  Sex   ID ID_test\n",
      "987  59.1    64.7   172.0      38.0         24.4    0  856   856_2\n",
      "988  59.7    65.2   172.0      51.0         16.8    0  856   856_3\n",
      "989  61.3   102.0   185.0      56.0         20.5    0  390   390_1\n",
      "990  61.6    74.0   169.0      46.0         23.9    0  596   596_1\n",
      "991  63.0    83.5   171.5      48.0         22.2    0  296   296_1\n",
      "        time  Speed     HR     VO2    VCO2    RR    VE ID_test   ID\n",
      "575082   926    5.0  148.0  1350.0  1699.0  35.0  65.7   857_1  857\n",
      "575083   927    5.0  147.0  1275.0  1605.0  32.0  60.1   857_1  857\n",
      "575084   929    5.0  147.0  1259.0  1566.0  29.0  57.0   857_1  857\n",
      "575085   931    5.0  147.0  1278.0  1587.0  31.0  58.5   857_1  857\n",
      "575086   933    5.0  147.0  1299.0  1600.0  31.0  58.7   857_1  857\n"
     ]
    }
   ],
   "source": [
    "print(test.head())\n",
    "print(subject.head())\n",
    "print(subject.tail())\n",
    "print(test.tail())"
   ]
  },
  {
   "cell_type": "code",
   "execution_count": null,
   "id": "1b70e1b7-3b2d-4147-8b2a-0919d98dda6f",
   "metadata": {},
   "outputs": [],
   "source": []
  }
 ],
 "metadata": {
  "kernelspec": {
   "display_name": "Python [conda env:base] *",
   "language": "python",
   "name": "conda-base-py"
  },
  "language_info": {
   "codemirror_mode": {
    "name": "ipython",
    "version": 3
   },
   "file_extension": ".py",
   "mimetype": "text/x-python",
   "name": "python",
   "nbconvert_exporter": "python",
   "pygments_lexer": "ipython3",
   "version": "3.12.7"
  }
 },
 "nbformat": 4,
 "nbformat_minor": 5
}
