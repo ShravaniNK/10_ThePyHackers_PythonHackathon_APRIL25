{
 "cells": [
  {
   "cell_type": "code",
   "execution_count": 5,
   "id": "c15c8e59-6f48-4218-bbcb-90d66bcb7890",
   "metadata": {},
   "outputs": [
    {
     "name": "stdout",
     "output_type": "stream",
     "text": [
      "Requirement already satisfied: pywaffle in c:\\users\\jmsav\\anaconda3\\lib\\site-packages (1.1.1)\n",
      "Requirement already satisfied: fontawesomefree in c:\\users\\jmsav\\anaconda3\\lib\\site-packages (from pywaffle) (6.6.0)\n",
      "Requirement already satisfied: matplotlib in c:\\users\\jmsav\\anaconda3\\lib\\site-packages (from pywaffle) (3.9.2)\n",
      "Requirement already satisfied: contourpy>=1.0.1 in c:\\users\\jmsav\\anaconda3\\lib\\site-packages (from matplotlib->pywaffle) (1.2.0)\n",
      "Requirement already satisfied: cycler>=0.10 in c:\\users\\jmsav\\anaconda3\\lib\\site-packages (from matplotlib->pywaffle) (0.11.0)\n",
      "Requirement already satisfied: fonttools>=4.22.0 in c:\\users\\jmsav\\anaconda3\\lib\\site-packages (from matplotlib->pywaffle) (4.51.0)\n",
      "Requirement already satisfied: kiwisolver>=1.3.1 in c:\\users\\jmsav\\anaconda3\\lib\\site-packages (from matplotlib->pywaffle) (1.4.4)\n",
      "Requirement already satisfied: numpy>=1.23 in c:\\users\\jmsav\\anaconda3\\lib\\site-packages (from matplotlib->pywaffle) (1.26.4)\n",
      "Requirement already satisfied: packaging>=20.0 in c:\\users\\jmsav\\anaconda3\\lib\\site-packages (from matplotlib->pywaffle) (24.1)\n",
      "Requirement already satisfied: pillow>=8 in c:\\users\\jmsav\\anaconda3\\lib\\site-packages (from matplotlib->pywaffle) (10.4.0)\n",
      "Requirement already satisfied: pyparsing>=2.3.1 in c:\\users\\jmsav\\anaconda3\\lib\\site-packages (from matplotlib->pywaffle) (3.1.2)\n",
      "Requirement already satisfied: python-dateutil>=2.7 in c:\\users\\jmsav\\anaconda3\\lib\\site-packages (from matplotlib->pywaffle) (2.9.0.post0)\n",
      "Requirement already satisfied: six>=1.5 in c:\\users\\jmsav\\anaconda3\\lib\\site-packages (from python-dateutil>=2.7->matplotlib->pywaffle) (1.16.0)\n",
      "Note: you may need to restart the kernel to use updated packages.\n"
     ]
    }
   ],
   "source": [
    "pip install pywaffle"
   ]
  },
  {
   "cell_type": "markdown",
   "id": "b58997bc-1cd0-401a-b1a6-b985f58411eb",
   "metadata": {},
   "source": [
    "#### Importing Libraries"
   ]
  },
  {
   "cell_type": "code",
   "execution_count": 6,
   "id": "a7888907-a621-4956-9688-97b0b5ef436a",
   "metadata": {},
   "outputs": [],
   "source": [
    "import numpy as np\n",
    "import pandas as pd\n",
    "import matplotlib.pyplot as plt\n",
    "import plotly.express as px\n",
    "from IPython.display import display, HTML\n",
    "from pywaffle import Waffle"
   ]
  },
  {
   "cell_type": "code",
   "execution_count": 7,
   "id": "8d082b51-febc-4766-9580-0d704ce5c0b3",
   "metadata": {},
   "outputs": [],
   "source": [
    "# Importing CSV files into Pandas\n",
    "subject_i = pd.read_csv(r\"C:\\Users\\jmsav\\temp for python hackathaon\\subject-info.csv\")\n",
    "test_m = pd.read_csv(r\"C:\\Users\\jmsav\\temp for python hackathaon\\test_measure.csv\")"
   ]
  },
  {
   "cell_type": "code",
   "execution_count": 77,
   "id": "1b70e1b7-3b2d-4147-8b2a-0919d98dda6f",
   "metadata": {},
   "outputs": [
    {
     "name": "stdout",
     "output_type": "stream",
     "text": [
      "                time          Speed             HR            VO2  \\\n",
      "count  575087.000000  575087.000000  573985.000000  570215.000000   \n",
      "mean      628.126172       9.607958     146.965762    2313.621834   \n",
      "std       325.588844       4.520384      32.163833     978.099926   \n",
      "min         0.000000       0.000000      41.000000      52.000000   \n",
      "25%       375.000000       5.000000     123.000000    1464.000000   \n",
      "50%       646.000000       9.000000     153.000000    2309.000000   \n",
      "75%       875.000000      13.400000     174.000000    3060.000000   \n",
      "max      1712.000000      23.100000     226.000000    6217.000000   \n",
      "\n",
      "                VCO2             RR             VE             ID  \n",
      "count  570181.000000  575087.000000  575070.000000  575087.000000  \n",
      "mean     2390.216842      36.217884      69.301995     425.424579  \n",
      "std      1159.686504      11.509875      33.552127     245.443493  \n",
      "min       101.000000       8.000000       3.100000       1.000000  \n",
      "25%      1455.000000      27.000000      42.200000     208.000000  \n",
      "50%      2320.000000      36.000000      66.300000     431.000000  \n",
      "75%      3218.000000      44.000000      92.000000     630.000000  \n",
      "max      7566.000000      60.000000     198.600000     857.000000  \n",
      "              Age      Weight      Height    Humidity  Temperature  \\\n",
      "count  992.000000  992.000000  992.000000  962.000000   962.000000   \n",
      "mean    28.979133   73.383367  174.913508   48.211435    22.818565   \n",
      "std     10.076653   12.005361    7.950027    8.560991     2.784066   \n",
      "min     10.800000   41.000000  150.000000   23.700000    15.000000   \n",
      "25%     21.100000   66.000000  170.000000   42.000000    20.800000   \n",
      "50%     27.100000   73.000000  175.000000   47.000000    22.900000   \n",
      "75%     36.325000   80.225000  180.000000   54.000000    24.400000   \n",
      "max     63.000000  135.000000  203.000000   69.000000    32.300000   \n",
      "\n",
      "              Sex          ID  \n",
      "count  992.000000  992.000000  \n",
      "mean     0.150202  424.890121  \n",
      "std      0.357449  243.832478  \n",
      "min      0.000000    1.000000  \n",
      "25%      0.000000  214.750000  \n",
      "50%      0.000000  428.500000  \n",
      "75%      0.000000  626.250000  \n",
      "max      1.000000  857.000000  \n",
      "Age             0\n",
      "Weight          0\n",
      "Height          0\n",
      "Humidity       30\n",
      "Temperature    30\n",
      "Sex             0\n",
      "ID              0\n",
      "ID_test         0\n",
      "dtype: int64\n",
      "time          0\n",
      "Speed         0\n",
      "HR         1102\n",
      "VO2        4872\n",
      "VCO2       4906\n",
      "RR            0\n",
      "VE           17\n",
      "ID_test       0\n",
      "ID            0\n",
      "dtype: int64\n"
     ]
    }
   ],
   "source": [
    "print(test_m.describe())\n",
    "print(subject_i.describe())\n",
    "print(subject_i.isna().sum())\n",
    "print(test_m.isna().sum())"
   ]
  },
  {
   "cell_type": "markdown",
   "id": "0b4b2262-211c-45ec-9aa0-d01dea4c89d5",
   "metadata": {},
   "source": [
    "#### 17.Display a histogram showing the distribution of athletes by their BMI values."
   ]
  },
  {
   "cell_type": "code",
   "execution_count": 10,
   "id": "1cda0471-5634-4484-82a2-dd5e700f5597",
   "metadata": {},
   "outputs": [
    {
     "data": {
      "image/png": "[encoded data removed]",
      "text/plain": [
       "<Figure size 800x500 with 1 Axes>"
      ]
     },
     "metadata": {},
     "output_type": "display_data"
    }
   ],
   "source": [
    "#Calculating the BMI values\n",
    "subject_df = subject_i.copy()\n",
    "subject_df['BMI'] = round(subject_df['Weight'] / ((subject_df['Height'] /100) **2),1)\n",
    "#print(subject_i['BMI'])\n",
    "\n",
    "#histogram plot for BMI distribution\n",
    "plt.figure(figsize=(8,5))\n",
    "counts, bins, patches = plt.hist(subject_df['BMI'], bins=8, edgecolor='black')\n",
    "#print(\"Bin edges:\", bins)\n",
    "#print(\"Frequencies:\", counts)\n",
    "plt.title('Distribution of BMI Values')\n",
    "plt.xlabel('BMI')\n",
    "plt.ylabel('Frequency')\n",
    "plt.grid(axis='y', linestyle='--', alpha=0.7)\n",
    "\n",
    "# Label each bar with the count on top\n",
    "for count, patch in zip(counts, patches):\n",
    "    height = patch.get_height()\n",
    "    plt.text(\n",
    "        patch.get_x() + patch.get_width() / 2,  # X-position (center of bar)\n",
    "        height + 1,                             # Y-position (slightly above bar)\n",
    "        int(count),                             # Text (count value)\n",
    "        ha='center', va='bottom', fontsize=10, color='RED'  # Label alignment, fontsize and its color\n",
    "            )\n",
    "\n",
    "plt.show()"
   ]
  },
  {
   "cell_type": "markdown",
   "id": "ea55f2b8-688a-4681-a3c7-99f77d32d898",
   "metadata": {},
   "source": [
    "#### 18. \" Who is the tallest participant in the dataset? What is  his/her Vo2 kg/ml?\""
   ]
  },
  {
   "cell_type": "code",
   "execution_count": 12,
   "id": "d2551eb9-dd7f-465b-bdc7-dcf0c2b7f006",
   "metadata": {},
   "outputs": [
    {
     "name": "stdout",
     "output_type": "stream",
     "text": [
      "ID of the Tallest Person in the Dataset is: 94\n",
      "Peak VO₂ (mL/kg/min): 46.86\n"
     ]
    }
   ],
   "source": [
    "# Merge the two DataFrames on 'ID'\n",
    "combined_df = pd.merge(subject_i, test_m, on='ID')\n",
    "\n",
    "# Find the tallest person\n",
    "tallest_person = combined_df[combined_df['Height'] == combined_df['Height'].max()]\n",
    "print(f\"ID of the Tallest Person in the Dataset is: {tallest_person['ID'].values[0]}\")\n",
    "\n",
    "# Calculate peak VO2 per kg\n",
    "max_vo2 = tallest_person['VO2'].max()\n",
    "vo2_kg_ml = max_vo2 / tallest_person['Weight'].iloc[0]\n",
    "print(\"Peak VO₂ (mL/kg/min):\", round(vo2_kg_ml, 2))\n",
    "\n"
   ]
  },
  {
   "cell_type": "markdown",
   "id": "7c5c6b57-2299-469f-9475-f9a4174a7ef0",
   "metadata": {},
   "source": [
    "#### 19.\"What is the highest recorded heart rate ? Identify the patient with the highest recorded heart rate.\""
   ]
  },
  {
   "cell_type": "code",
   "execution_count": 14,
   "id": "d12bec67-c989-4dff-b55f-2e0ccd9b95f6",
   "metadata": {},
   "outputs": [
    {
     "name": "stdout",
     "output_type": "stream",
     "text": [
      "Highest Heart Rate:\n",
      "226.0\n",
      "ID, Sex, and Heart Rate of the individual(s) with the highest HR:\n",
      "         ID  Sex     HR\n",
      "670156  619    0  226.0\n"
     ]
    }
   ],
   "source": [
    "# Find the maximum heart rate value from the test data\n",
    "print(\"Highest Heart Rate:\")\n",
    "print(test_m['HR'].max())\n",
    "\n",
    "# Filter the combined DataFrame to get the row(s) with the highest heart rate\n",
    "Highest_HR = combined_df[combined_df['HR'] == combined_df['HR'].max()]\n",
    "\n",
    "# Display ID, Sex, and HR of the person(s) with the highest heart rate\n",
    "print(\"ID, Sex, and Heart Rate of the individual(s) with the highest HR:\")\n",
    "print(Highest_HR[['ID', 'Sex', 'HR']])\n"
   ]
  },
  {
   "cell_type": "markdown",
   "id": "5cae23d2-f240-4eb5-b7f6-c0ca6a985bea",
   "metadata": {},
   "source": [
    "#### 20.What is the VO2 max(mL/kg/min) of the shortest male athlete?"
   ]
  },
  {
   "cell_type": "code",
   "execution_count": 16,
   "id": "180afac9-fbdd-477c-9cc1-6e8c1e31c179",
   "metadata": {},
   "outputs": [
    {
     "name": "stdout",
     "output_type": "stream",
     "text": [
      "Shortest Male Athlete ID: 367\n",
      "Height: 159.0 cm\n",
      "Weight: 66.0 kg\n",
      "VO₂ max: 49.62 mL/kg/min\n"
     ]
    }
   ],
   "source": [
    "# Filter only male athletes\n",
    "male_athletes = subject_i[subject_i['Sex'] == 0]\n",
    "\n",
    "# Find the shortest height among male athletes\n",
    "shortest_height = male_athletes['Height'].min()\n",
    "\n",
    "# Get the male athlete with that shortest height\n",
    "shortest_male = male_athletes[male_athletes['Height'] == shortest_height]\n",
    "\n",
    "# Get the ID of the shortest male\n",
    "shortest_male_id = shortest_male['ID'].values[0]\n",
    "\n",
    "# Find all test records for that ID\n",
    "shortest_male_tests = test_m[test_m['ID'] == shortest_male_id]\n",
    "\n",
    "# Find the max VO2 from their test data\n",
    "max_vo2 = shortest_male_tests['VO2'].max()\n",
    "\n",
    "# Get their weight from subject_i\n",
    "weight_kg = shortest_male['Weight'].values[0]\n",
    "\n",
    "# Calculate VO2 max in mL/kg/min\n",
    "vo2_max_per_kg = max_vo2 / weight_kg\n",
    "\n",
    "# Print result\n",
    "print(f\"Shortest Male Athlete ID: {shortest_male_id}\")\n",
    "print(f\"Height: {shortest_height} cm\")\n",
    "print(f\"Weight: {weight_kg} kg\")\n",
    "print(f\"VO₂ max: {round(vo2_max_per_kg, 2)} mL/kg/min\")\n",
    "\n",
    "\n"
   ]
  },
  {
   "cell_type": "markdown",
   "id": "df071702-2f50-40cf-ae8b-fe1ae53735e7",
   "metadata": {},
   "source": [
    "#### 21.\"Analyze the mean VO2 and VCO2 values by humidity level using a Multiseries Bar Chart.\n",
    "#### Based on your findings, how does low humidity affect respiratory and cardiovascular function during exercise (VO2 and VCO2) ?\n",
    "#### Humidity level (<30 - Low) , (30 to 60 - Normal ) ,(>60 - High)\""
   ]
  },
  {
   "cell_type": "code",
   "execution_count": 18,
   "id": "cbc78b75-4fd8-46be-a73f-cfabd514e0a9",
   "metadata": {},
   "outputs": [
    {
     "data": {
      "image/png": "[encoded data removed]",
      "text/plain": [
       "<Figure size 800x500 with 1 Axes>"
      ]
     },
     "metadata": {},
     "output_type": "display_data"
    }
   ],
   "source": [
    "# Create Humidity Category\n",
    "def categorize_humidity(h):\n",
    "    if h < 30:\n",
    "        return 'Low'\n",
    "    elif h <= 60:\n",
    "        return 'Normal'\n",
    "    else:\n",
    "        return 'High'\n",
    "\n",
    "# Apply the categorization\n",
    "combined_df['Humidity_Level'] = combined_df['Humidity'].apply(categorize_humidity)\n",
    "\n",
    "# Group and calculate means\n",
    "mean_values = combined_df.groupby('Humidity_Level')[['VO2', 'VCO2']].mean().reset_index()\n",
    "\n",
    "# Plot multiseries bar chart\n",
    "x = mean_values['Humidity_Level']\n",
    "vo2 = mean_values['VO2']\n",
    "vco2 = mean_values['VCO2']\n",
    "\n",
    "bar_width = 0.35\n",
    "index = range(len(x))\n",
    "\n",
    "plt.figure(figsize=(8, 5))\n",
    "vo2_bars = plt.bar(index, vo2, bar_width, label='VO₂ (mL/min)')\n",
    "vco2_bars = plt.bar([i + bar_width for i in index], vco2, bar_width, label='VCO₂ (mL/min)')\n",
    "\n",
    "# Setting lables to vo2 bars\n",
    "for bar in vo2_bars:\n",
    "    height = bar.get_height()\n",
    "    plt.text(bar.get_x() + bar.get_width()/2, height + 10, f'{height:.1f}', ha='center', va='bottom', fontsize=9)\n",
    "\n",
    "# Setting lables to vco2 bars\n",
    "for bar in vco2_bars:\n",
    "    height = bar.get_height()\n",
    "    plt.text(bar.get_x() + bar.get_width()/2, height + 10, f'{height:.1f}', ha='center', va='bottom', fontsize=9)\n",
    "\n",
    "plt.xlabel('Humidity Level')\n",
    "plt.ylabel('Mean Values (mL/min)')\n",
    "plt.title('Mean VO₂ and VCO₂ by Humidity Level')\n",
    "plt.xticks([i + bar_width / 2 for i in index], x)\n",
    "plt.legend()\n",
    "plt.tight_layout()\n",
    "plt.grid(axis='y', linestyle='--', alpha=0.5)\n",
    "plt.show()\n"
   ]
  },
  {
   "cell_type": "markdown",
   "id": "2ded1794-fa11-40b4-a983-260e66ea269c",
   "metadata": {},
   "source": [
    "### Analysis Summary:\n",
    "##### <i>Based on mean values among different humidity level, Oxygen consumption(vo2) and Carbon Dioxide Output(vco2) values are lower in low humidity and higher in normal and high humidity level this shows that low humidity may reduce respiratory and cardiovascular stress during exercise, while high humidity increases the <br>physiological load, leading to greater oxygen utilization and metabolic output.</i> "
   ]
  },
  {
   "cell_type": "markdown",
   "id": "e30c4718-9b72-4820-8212-68f91bd1fe32",
   "metadata": {},
   "source": [
    "#### 22. \"Display the average speed of each participant  in ' peak exercise' based on RER (Following question no.14)\"\n",
    "\n"
   ]
  },
  {
   "cell_type": "code",
   "execution_count": null,
   "id": "6fa44bff-bed0-47c2-b92a-c1a22cf7ded0",
   "metadata": {},
   "outputs": [],
   "source": []
  },
  {
   "cell_type": "markdown",
   "id": "356776ae-b10a-47f0-8b17-742ebf009746",
   "metadata": {},
   "source": [
    "#### 23.\"Assign one of the following 5 heart rate zones for every Athletes  and add this as a column to a new table with all unique IDs. <br> Exclude Warm-Up Phase\n",
    "Zone 1 (recovery/easy)       <100 HR max\n",
    "<br> Zone 2 (aerobic/base)        100-120 HR max\n",
    "<br>Zone 3 (tempo)        120-135 HR max\n",
    "<br>Zone 4 (lactate threshold)        135-155 HR max\n",
    "<br>Zone 5 (anaerobic)        155+ HR max and above\"\"\""
   ]
  },
  {
   "cell_type": "code",
   "execution_count": 72,
   "id": "dd27961f-dbee-4166-b480-80cc08bf146e",
   "metadata": {},
   "outputs": [
    {
     "name": "stdout",
     "output_type": "stream",
     "text": [
      "Number of Unique IDs: 857\n",
      "      ID     Mean_HR                     HR_Zone\n",
      "0      1  133.051327              Zone 3 (Tempo)\n",
      "1      2  139.535836  Zone 4 (Lactate Threshold)\n",
      "2      3  169.722504          Zone 5 (Anaerobic)\n",
      "3      4  153.936508  Zone 4 (Lactate Threshold)\n",
      "4      5  159.785589          Zone 5 (Anaerobic)\n",
      "..   ...         ...                         ...\n",
      "852  853  167.138702          Zone 5 (Anaerobic)\n",
      "853  854  107.978967       Zone 2 (Aerobic/Base)\n",
      "854  855  133.969547              Zone 3 (Tempo)\n",
      "855  856  129.504905              Zone 3 (Tempo)\n",
      "856  857  168.656504          Zone 5 (Anaerobic)\n",
      "\n",
      "[857 rows x 3 columns]\n"
     ]
    }
   ],
   "source": [
    "# excluding warm up phase, based on time(assuming warm-up is first 60 seconds)\n",
    "filtered = test_m[test_m['time'] > 30]\n",
    "\n",
    "# Get Mean HR per athlete\n",
    "mean_hr_by_id = filtered.groupby('ID')['HR'].mean().reset_index()\n",
    "mean_hr_by_id.rename(columns={'HR': 'Mean_HR'}, inplace=True)\n",
    "\n",
    "# Define function to assign heart rate zone\n",
    "def assign_hr_zone(hr):\n",
    "    if hr < 100:\n",
    "        return 'Zone 1 (Recovery/Easy)'\n",
    "    elif hr < 120:\n",
    "        return 'Zone 2 (Aerobic/Base)'\n",
    "    elif hr < 135:\n",
    "        return 'Zone 3 (Tempo)'\n",
    "    elif hr < 155:\n",
    "        return 'Zone 4 (Lactate Threshold)'\n",
    "    else:\n",
    "        return 'Zone 5 (Anaerobic)'\n",
    "\n",
    "# Apply the zone function\n",
    "mean_hr_by_id['HR_Zone'] = mean_hr_by_id['Mean_HR'].apply(assign_hr_zone)\n",
    "\n",
    "# unique athletes with their mean HR and assigned zone\n",
    "print(f\"Number of Unique IDs: {test_m['ID'].nunique()}\")\n",
    "print(mean_hr_by_id)\n"
   ]
  },
  {
   "cell_type": "markdown",
   "id": "e0e5baf5-712d-4e70-ad0c-c7814c6802c0",
   "metadata": {},
   "source": [
    "#### 24. Find the athlete who has got optimal respiratory stability based on the measure of  Breathing Interval variability over time."
   ]
  },
  {
   "cell_type": "code",
   "execution_count": 66,
   "id": "26016bc0-797a-405d-bd72-d2db924265f4",
   "metadata": {},
   "outputs": [
    {
     "name": "stdout",
     "output_type": "stream",
     "text": [
      "Optimal Respiratory Stability Participant id is: 2\n"
     ]
    }
   ],
   "source": [
    "# RR field has 3.4% null values, interpolating RR values\n",
    "test_m['RR'] = test_m.groupby('ID')['RR'].transform(lambda x: x.interpolate().ffill().bfill())\n",
    "test_m['RR'].isna().sum()\n",
    "\n",
    "# Breathing Interval in seconds\n",
    "filtered = test_m.copy()\n",
    "filtered['RR_Seconds'] = 60 / filtered['RR']\n",
    "\n",
    "# Calculating Standard Deviation for each participant based on breathing interval(secs)\n",
    "stand_dev = filtered.groupby('ID')['RR_Seconds'].std().reset_index()\n",
    "filtered.rename(columns = {'RR_Seconds' : 'RR_Seconds_std'}, inplace = True)\n",
    "\n",
    "# Finding the minimum standard deviation value of RR(sec's) to identify the steady and consistent breathing\n",
    "optimal_athlete_row = filtered.loc[filtered['RR_Seconds_std'].idxmin()]\n",
    "print(f\"Optimal Respiratory Stability Participant id is: {optimal_athlete_row['ID']}\")"
   ]
  },
  {
   "cell_type": "markdown",
   "id": "70a976cb-55cb-4c14-a850-c3480ea94b40",
   "metadata": {},
   "source": [
    "#### 25. Generate a pie chart to show the gender-wise distribution of athletes."
   ]
  },
  {
   "cell_type": "code",
   "execution_count": null,
   "id": "de18b777-b322-4211-b88f-c98bec00de63",
   "metadata": {},
   "outputs": [],
   "source": [
    "# Count gender distribution\n",
    "gender_counts = subject_i['Sex'].value_counts()\n",
    "\n",
    "# Assigning lables\n",
    "lables = ['Male', 'Female']\n",
    "\n",
    "# Plotting Pie chart\n",
    "plt.figure(figsize=(6,6))\n",
    "plt.pie(gender_counts, \n",
    "        labels = lables, \n",
    "        autopct =\"%1.1f%%\", \n",
    "        startangle = 90, \n",
    "        colors =['skyblue', 'lightpink']\n",
    "       )\n",
    "plt.title(\"Gender-wise Distribution of Atheletes\")\n",
    "plt.show()"
   ]
  },
  {
   "cell_type": "markdown",
   "id": "1feaf8e3-82bf-40de-87e7-21590fce1047",
   "metadata": {},
   "source": [
    "#### 26. Use enumeration to print ID, Sex, and BMI of each athlete."
   ]
  },
  {
   "cell_type": "code",
   "execution_count": null,
   "id": "40bb7130-db37-4b80-bcdd-ad62117041a1",
   "metadata": {},
   "outputs": [],
   "source": [
    "# Enumerate() adds counter to any iterables, we can access both item and index\n",
    "output = \"\"\n",
    "for i, row in enumerate(subject_df.itertuples(index=False), start=1):\n",
    "    output += f\"{i}. ID: {row.ID} | Sex: {'Male' if row.Sex == 'Male' else 'Female'} | BMI: {row.BMI}<br>\"\n",
    "\n",
    "# Wrap the entire output in a scrollable div\n",
    "display(HTML(f\"\"\"\n",
    "<div style=\"height:300px; overflow:auto; border:1px solid #ccc; padding:10px; font-family:monospace;\">\n",
    "{output}\n",
    "</div>\n",
    "\"\"\"))\n",
    "\n",
    "  "
   ]
  },
  {
   "cell_type": "markdown",
   "id": "84924725-56b1-4b6a-8c36-cf1ad6571221",
   "metadata": {},
   "source": [
    "#### 27. Create a sunburst chart to show the distribution of athletes based on Sex, BMI levels, and Age ranges."
   ]
  },
  {
   "cell_type": "code",
   "execution_count": null,
   "id": "d26d5bbb-d9b4-4643-ba30-32594a34a138",
   "metadata": {},
   "outputs": [],
   "source": [
    "# Dropping null values \n",
    "subject_df1 = subject_df.copy()\n",
    "subject_df1 = subject_df1.dropna(subset = ['Sex', 'BMI', 'Age'])\n",
    "\n",
    "# Convert 0, 1 to Male, Female\n",
    "subject_df1['Sex'] = subject_df1['Sex'].map({0: 'Male', 1: 'Female'})\n",
    "\n",
    "# Categorize BMI levels\n",
    "def categ_bmi(bmi):\n",
    "     if bmi < 18.5:\n",
    "        return 'Underweight'\n",
    "     elif bmi < 25:\n",
    "        return 'Normal'\n",
    "     elif bmi < 30:\n",
    "        return 'Overweight'\n",
    "     else:\n",
    "        return 'Obese'\n",
    "\n",
    "subject_df1['BMI_level'] = subject_df1['BMI'].apply(categ_bmi)\n",
    "\n",
    "# Categorize age range\n",
    "def categ_age(age):\n",
    "    if age < 20:\n",
    "        return 'Teen'\n",
    "    elif age < 30:\n",
    "        return 'Young Adult'\n",
    "    elif age < 40:\n",
    "        return 'Adult'\n",
    "    elif age < 50:\n",
    "        return 'Mid_Age'\n",
    "    else:\n",
    "        return 'Older Adult'\n",
    "\n",
    "subject_df1['Age_range'] = subject_df1['Age'].apply(categ_age)\n",
    "\n",
    "# Plotting sunburst chart\n",
    "fig = px.sunburst(subject_df1,\n",
    "                  path = ['Sex', 'BMI_level', 'Age_range'],\n",
    "                  values = None,\n",
    "                  title = 'Distribution of Athletes Based on Sex, BMI and Age Ranges'\n",
    "                )\n",
    "\n",
    "# Increase the size of the chart\n",
    "fig.update_layout( width =800,\n",
    "                  height = 800\n",
    "                 )\n",
    "fig.show()\n"
   ]
  },
  {
   "cell_type": "markdown",
   "id": "8141a7be-356a-460c-ad6d-206de552644a",
   "metadata": {},
   "source": [
    "#### 28.\"Create a dictionary using any 5 random Athletes ID and their height. <br>Access any one height using the Athlete ID with get() function. \""
   ]
  },
  {
   "cell_type": "code",
   "execution_count": null,
   "id": "0e767181-5c87-43eb-9fc1-a5d5c550d596",
   "metadata": {},
   "outputs": [],
   "source": [
    "# Getting random 5 records\n",
    "sample_df = subject_i[['ID', 'Height']].dropna().sample(5, random_state = 42)\n",
    "\n",
    "# Converting into a Dictionary\n",
    "sample_df_dict = dict(zip(sample_df['ID'], sample_df['Height']))\n",
    "print(\"Athlete Height Dictionary--> \\nID: Height\")\n",
    "print(sample_df_dict)\n",
    "\n",
    "# Pick one ID from dictionary\n",
    "sample_keys = list(sample_df_dict.keys())[0]\n",
    "\n",
    "# Getting height Using get() function \n",
    "height = sample_df_dict.get(sample_keys)\n",
    "print(f\"Height of Athlete with ID {sample_keys} is : {height} cm\")"
   ]
  },
  {
   "cell_type": "markdown",
   "id": "acf417ed-e298-425f-8edc-d39e31c44638",
   "metadata": {},
   "source": [
    "#### 29. Find which age range has the highest number of obese athletes."
   ]
  },
  {
   "cell_type": "code",
   "execution_count": null,
   "id": "b1d7f362-44fb-4d1a-aec6-03ad6582a483",
   "metadata": {},
   "outputs": [],
   "source": [
    "# Getting obese count\n",
    "obese_counts = subject_df1[subject_df1['BMI_level'] == 'Obese'].groupby('Age_range').size()\n",
    "\n",
    "# Getting the age range that has the maximum obesity count\n",
    "max_age_range = obese_counts.idxmax()\n",
    "max_count = obese_counts.max()\n",
    "print(f\"{max_age_range} has the highest({max_count}-count) Obesity\")"
   ]
  },
  {
   "cell_type": "markdown",
   "id": "3e640fac-01d0-4389-92d5-9bbf33ef528d",
   "metadata": {},
   "source": [
    "#### 30. \"Create a waffle chart to show the percentage of participant in each HR zone (followed by question 23)\"\n",
    "\n"
   ]
  },
  {
   "cell_type": "code",
   "execution_count": 42,
   "id": "b13d338e-435a-454e-8ff6-a7cdb7ae7d87",
   "metadata": {},
   "outputs": [
    {
     "data": {
      "image/png": "[encoded data removed]",
      "text/plain": [
       "<Waffle size 1000x500 with 1 Axes>"
      ]
     },
     "metadata": {},
     "output_type": "display_data"
    }
   ],
   "source": [
    "zone_counts = mean_hr_by_id['HR_Zone'].value_counts().sort_index()\n",
    "\n",
    "# Create a Waffle Chart\n",
    "labels = [\n",
    "    f\"{zone} ({count}, {count / zone_counts.sum() * 100:.1f}%)\"\n",
    "    for zone, count in zone_counts.items()\n",
    "         ]\n",
    "fig = plt.figure(\n",
    "    FigureClass = Waffle,\n",
    "    rows = 5,  \n",
    "    values = zone_counts,\n",
    "    title = {'label': 'HR Zone Distribution of Participants', 'loc': 'center'},\n",
    "    labels = labels,\n",
    "    legend = {'loc': 'upper left', 'bbox_to_anchor': (1.1, 1)},\n",
    "    figsize  =(10, 5),\n",
    ")\n",
    "\n",
    "plt.show()"
   ]
  },
  {
   "cell_type": "markdown",
   "id": "b2f7512f-a510-4ee9-8825-b69a86baeaa4",
   "metadata": {},
   "source": [
    "#### 31. Calculate the Tidal volume of every athlete and display it as a list."
   ]
  },
  {
   "cell_type": "code",
   "execution_count": 53,
   "id": "ee8bed44-3b07-4cf3-865f-a37db6d3f96a",
   "metadata": {},
   "outputs": [
    {
     "name": "stdout",
     "output_type": "stream",
     "text": [
      "Average Tidal Volume per Athlete (in mL):\n",
      "      ID  Tidal_Volume_mL\n",
      "0      1           2027.3\n",
      "1      2           1373.2\n",
      "2      3           1598.7\n",
      "3      4           2180.7\n",
      "4      5           1897.9\n",
      "..   ...              ...\n",
      "852  853           1730.4\n",
      "853  854           2395.3\n",
      "854  855           1641.0\n",
      "855  856           2098.7\n",
      "856  857           2060.4\n",
      "\n",
      "[857 rows x 2 columns]\n"
     ]
    }
   ],
   "source": [
    "# Exclude rows where VE or RR is missing or RR is zero\n",
    "filtered = test_m[(test_m['VE'].notna()) & (test_m['RR'].notna()) & (test_m['RR'] > 0)].copy()\n",
    "\n",
    "# Calculate Tidal Volume\n",
    "filtered['Tidal_Volume_L'] = filtered['VE'] / filtered['RR']  # Result in Liters per breath\n",
    "\n",
    "# Converting to mL \n",
    "filtered['Tidal_Volume_mL'] = filtered['Tidal_Volume_L'] * 1000\n",
    "\n",
    "# Display as list (average tidal volume per athlete)\n",
    "tidal_volume_list = round(filtered.groupby('ID')['Tidal_Volume_mL'].mean().reset_index(),1)\n",
    "\n",
    "print(\"Average Tidal Volume per Athlete (in mL):\")\n",
    "print(tidal_volume_list)\n"
   ]
  },
  {
   "cell_type": "markdown",
   "id": "1c3a254c-5a3b-4118-be40-1b5e62e6d52d",
   "metadata": {},
   "source": [
    "#### 32.create a Pivot table to summarize the count of each HR Zone"
   ]
  },
  {
   "cell_type": "code",
   "execution_count": 74,
   "id": "37cefa70-c27a-4181-9753-e5ac68e2e0e0",
   "metadata": {},
   "outputs": [
    {
     "name": "stdout",
     "output_type": "stream",
     "text": [
      "ID         857\n",
      "Mean_HR    857\n",
      "HR_Zone      4\n",
      "dtype: int64\n",
      "                            Athlete_Count\n",
      "HR_Zone                                  \n",
      "Zone 2 (Aerobic/Base)                  11\n",
      "Zone 3 (Tempo)                        124\n",
      "Zone 4 (Lactate Threshold)            468\n",
      "Zone 5 (Anaerobic)                    254\n"
     ]
    }
   ],
   "source": [
    "print(mean_hr_by_id.nunique())\n",
    "# Create a pivot table to count athletes in each HR Zone\n",
    "hr_zone_pivot = pd.pivot_table(\n",
    "    mean_hr_by_id,\n",
    "    index='HR_Zone',         # Group by HR Zone\n",
    "    values='ID',             # Count IDs\n",
    "    aggfunc='count'          # Count how many athletes in each zone\n",
    ")\n",
    "\n",
    "# Rename column\n",
    "hr_zone_pivot.rename(columns={'ID': 'Athlete_Count'}, inplace=True)\n",
    "\n",
    "# Display the pivot table\n",
    "print(hr_zone_pivot)\n"
   ]
  },
  {
   "cell_type": "code",
   "execution_count": null,
   "id": "40b57d92-5f07-4cf5-9ebb-853c59a5f1a7",
   "metadata": {},
   "outputs": [],
   "source": []
  }
 ],
 "metadata": {
  "kernelspec": {
   "display_name": "Python [conda env:base] *",
   "language": "python",
   "name": "conda-base-py"
  },
  "language_info": {
   "codemirror_mode": {
    "name": "ipython",
    "version": 3
   },
   "file_extension": ".py",
   "mimetype": "text/x-python",
   "name": "python",
   "nbconvert_exporter": "python",
   "pygments_lexer": "ipython3",
   "version": "3.12.7"
  }
 },
 "nbformat": 4,
 "nbformat_minor": 5
}
