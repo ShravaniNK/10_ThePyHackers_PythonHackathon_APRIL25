{
 "cells": [
  {
   "cell_type": "code",
   "execution_count": 223,
   "id": "a7888907-a621-4956-9688-97b0b5ef436a",
   "metadata": {},
   "outputs": [],
   "source": [
    "import numpy as np\n",
    "import pandas as pd\n",
    "import matplotlib.pyplot as plt"
   ]
  },
  {
   "cell_type": "code",
   "execution_count": 224,
   "id": "8d082b51-febc-4766-9580-0d704ce5c0b3",
   "metadata": {},
   "outputs": [],
   "source": [
    "# Importing CSV files into Pandas\n",
    "subject_i = pd.read_csv(r\"C:\\Users\\jmsav\\temp for python hackathaon\\subject-info.csv\")\n",
    "test_m = pd.read_csv(r\"C:\\Users\\jmsav\\temp for python hackathaon\\test_measure.csv\")\n",
    "subject_copy = subject_i.copy()\n",
    "test_copy = test_m.copy()"
   ]
  },
  {
   "cell_type": "code",
   "execution_count": 225,
   "id": "1b70e1b7-3b2d-4147-8b2a-0919d98dda6f",
   "metadata": {},
   "outputs": [
    {
     "name": "stdout",
     "output_type": "stream",
     "text": [
      "(575087, 9)\n",
      "(992, 8)\n",
      "              Age      Weight      Height    Humidity  Temperature  \\\n",
      "count  992.000000  992.000000  992.000000  962.000000   962.000000   \n",
      "mean    28.979133   73.383367  174.913508   48.211435    22.818565   \n",
      "std     10.076653   12.005361    7.950027    8.560991     2.784066   \n",
      "min     10.800000   41.000000  150.000000   23.700000    15.000000   \n",
      "25%     21.100000   66.000000  170.000000   42.000000    20.800000   \n",
      "50%     27.100000   73.000000  175.000000   47.000000    22.900000   \n",
      "75%     36.325000   80.225000  180.000000   54.000000    24.400000   \n",
      "max     63.000000  135.000000  203.000000   69.000000    32.300000   \n",
      "\n",
      "              Sex          ID  \n",
      "count  992.000000  992.000000  \n",
      "mean     0.150202  424.890121  \n",
      "std      0.357449  243.832478  \n",
      "min      0.000000    1.000000  \n",
      "25%      0.000000  214.750000  \n",
      "50%      0.000000  428.500000  \n",
      "75%      0.000000  626.250000  \n",
      "max      1.000000  857.000000  \n",
      "Age             0\n",
      "Weight          0\n",
      "Height          0\n",
      "Humidity       30\n",
      "Temperature    30\n",
      "Sex             0\n",
      "ID              0\n",
      "ID_test         0\n",
      "dtype: int64\n",
      "time           0\n",
      "Speed          0\n",
      "HR          1102\n",
      "VO2         4872\n",
      "VCO2        4906\n",
      "RR         19784\n",
      "VE            17\n",
      "ID_test        0\n",
      "ID             0\n",
      "dtype: int64\n"
     ]
    }
   ],
   "source": [
    "print(test_copy.shape)\n",
    "print(subject_copy.shape)\n",
    "#print(test_m.describe())\n",
    "print(subject_i.describe())\n",
    "print(subject_i.isna().sum())\n",
    "print(test_m.isna().sum())"
   ]
  },
  {
   "cell_type": "markdown",
   "id": "0b4b2262-211c-45ec-9aa0-d01dea4c89d5",
   "metadata": {},
   "source": [
    "#### 17.Display a histogram showing the distribution of athletes by their BMI values."
   ]
  },
  {
   "cell_type": "code",
   "execution_count": 227,
   "id": "1cda0471-5634-4484-82a2-dd5e700f5597",
   "metadata": {},
   "outputs": [
    {
     "data": {
      "image/png": "[encoded data removed]",
      "text/plain": [
       "<Figure size 800x500 with 1 Axes>"
      ]
     },
     "metadata": {},
     "output_type": "display_data"
    }
   ],
   "source": [
    "#Calculating the BMI values\n",
    "subject_i['BMI'] = round(subject_i['Weight'] / ((subject_i['Height'] /100) **2),1)\n",
    "#print(subject_i['BMI'])\n",
    "\n",
    "#histogram plot for BMI distribution\n",
    "plt.figure(figsize=(8,5))\n",
    "counts, bins, patches = plt.hist(subject_i['BMI'], bins=8, edgecolor='black')\n",
    "#print(\"Bin edges:\", bins)\n",
    "#print(\"Frequencies:\", counts)\n",
    "plt.title('Distribution of BMI Values')\n",
    "plt.xlabel('BMI')\n",
    "plt.ylabel('Frequency')\n",
    "plt.grid(axis='y', linestyle='--', alpha=0.7)\n",
    "\n",
    "# Label each bar with the count on top\n",
    "for count, patch in zip(counts, patches):\n",
    "    height = patch.get_height()\n",
    "    plt.text(\n",
    "        patch.get_x() + patch.get_width() / 2,  # X-position (center of bar)\n",
    "        height + 1,                             # Y-position (slightly above bar)\n",
    "        int(count),                             # Text (count value)\n",
    "        ha='center', va='bottom', fontsize=10, color='RED'  # Label alignment, fontsize and its color\n",
    "            )\n",
    "\n",
    "plt.show()"
   ]
  },
  {
   "cell_type": "markdown",
   "id": "ea55f2b8-688a-4681-a3c7-99f77d32d898",
   "metadata": {},
   "source": [
    "#### 18. \" Who is the tallest participant in the dataset? What is  his/her Vo2 kg/ml?\""
   ]
  },
  {
   "cell_type": "code",
   "execution_count": 229,
   "id": "d2551eb9-dd7f-465b-bdc7-dcf0c2b7f006",
   "metadata": {},
   "outputs": [
    {
     "name": "stdout",
     "output_type": "stream",
     "text": [
      "ID of the Tallest Person in the Dataset is: 94\n",
      "Peak VO₂ (mL/kg/min): 46.86\n"
     ]
    }
   ],
   "source": [
    "# Merge the two DataFrames on 'ID'\n",
    "combined_df = pd.merge(subject_i, test_m, on='ID')\n",
    "\n",
    "# Find the tallest person\n",
    "tallest_person = combined_df[combined_df['Height'] == combined_df['Height'].max()]\n",
    "print(f\"ID of the Tallest Person in the Dataset is: {tallest_person['ID'].values[0]}\")\n",
    "\n",
    "# Calculate peak VO2 per kg\n",
    "max_vo2 = tallest_person['VO2'].max()\n",
    "vo2_kg_ml = max_vo2 / tallest_person['Weight'].iloc[0]\n",
    "print(\"Peak VO₂ (mL/kg/min):\", round(vo2_kg_ml, 2))\n",
    "\n"
   ]
  },
  {
   "cell_type": "markdown",
   "id": "7c5c6b57-2299-469f-9475-f9a4174a7ef0",
   "metadata": {},
   "source": [
    "#### 19.\"What is the highest recorded heart rate ? Identify the patient with the highest recorded heart rate.\""
   ]
  },
  {
   "cell_type": "code",
   "execution_count": 231,
   "id": "d12bec67-c989-4dff-b55f-2e0ccd9b95f6",
   "metadata": {},
   "outputs": [
    {
     "name": "stdout",
     "output_type": "stream",
     "text": [
      "Highest Heart Rate:\n",
      "226.0\n",
      "ID, Sex, and Heart Rate of the individual(s) with the highest HR:\n",
      "         ID  Sex     HR\n",
      "670156  619    0  226.0\n"
     ]
    }
   ],
   "source": [
    "# Find the maximum heart rate value from the test data\n",
    "print(\"Highest Heart Rate:\")\n",
    "print(test_m['HR'].max())\n",
    "\n",
    "# Filter the combined DataFrame to get the row(s) with the highest heart rate\n",
    "Highest_HR = combined_df[combined_df['HR'] == combined_df['HR'].max()]\n",
    "\n",
    "# Display ID, Sex, and HR of the person(s) with the highest heart rate\n",
    "print(\"ID, Sex, and Heart Rate of the individual(s) with the highest HR:\")\n",
    "print(Highest_HR[['ID', 'Sex', 'HR']])\n"
   ]
  },
  {
   "cell_type": "markdown",
   "id": "5cae23d2-f240-4eb5-b7f6-c0ca6a985bea",
   "metadata": {},
   "source": [
    "#### 20.What is the VO2 max(mL/kg/min) of the shortest male athlete?"
   ]
  },
  {
   "cell_type": "code",
   "execution_count": 233,
   "id": "180afac9-fbdd-477c-9cc1-6e8c1e31c179",
   "metadata": {},
   "outputs": [
    {
     "name": "stdout",
     "output_type": "stream",
     "text": [
      "Shortest Male Athlete ID: 367\n",
      "Height: 159.0 cm\n",
      "Weight: 66.0 kg\n",
      "VO₂ max: 49.62 mL/kg/min\n"
     ]
    }
   ],
   "source": [
    "# Filter only male athletes\n",
    "male_athletes = subject_i[subject_i['Sex'] == 0]\n",
    "\n",
    "# Find the shortest height among male athletes\n",
    "shortest_height = male_athletes['Height'].min()\n",
    "\n",
    "# Get the male athlete with that shortest height\n",
    "shortest_male = male_athletes[male_athletes['Height'] == shortest_height]\n",
    "\n",
    "# Get the ID of the shortest male\n",
    "shortest_male_id = shortest_male['ID'].values[0]\n",
    "\n",
    "# Find all test records for that ID\n",
    "shortest_male_tests = test_m[test_m['ID'] == shortest_male_id]\n",
    "\n",
    "# Find the max VO2 from their test data\n",
    "max_vo2 = shortest_male_tests['VO2'].max()\n",
    "\n",
    "# Get their weight from subject_i\n",
    "weight_kg = shortest_male['Weight'].values[0]\n",
    "\n",
    "# Calculate VO2 max in mL/kg/min\n",
    "vo2_max_per_kg = max_vo2 / weight_kg\n",
    "\n",
    "# Print result\n",
    "print(f\"Shortest Male Athlete ID: {shortest_male_id}\")\n",
    "print(f\"Height: {shortest_height} cm\")\n",
    "print(f\"Weight: {weight_kg} kg\")\n",
    "print(f\"VO₂ max: {round(vo2_max_per_kg, 2)} mL/kg/min\")\n",
    "\n",
    "\n"
   ]
  },
  {
   "cell_type": "markdown",
   "id": "df071702-2f50-40cf-ae8b-fe1ae53735e7",
   "metadata": {},
   "source": [
    "#### 21.\"Analyze the mean VO2 and VCO2 values by humidity level using a Multiseries Bar Chart.\n",
    "#### Based on your findings, how does low humidity affect respiratory and cardiovascular function during exercise (VO2 and VCO2) ?\n",
    "#### Humidity level (<30 - Low) , (30 to 60 - Normal ) ,(>60 - High)\""
   ]
  },
  {
   "cell_type": "code",
   "execution_count": 252,
   "id": "cbc78b75-4fd8-46be-a73f-cfabd514e0a9",
   "metadata": {},
   "outputs": [
    {
     "data": {
      "image/png": "[encoded data removed]",
      "text/plain": [
       "<Figure size 800x500 with 1 Axes>"
      ]
     },
     "metadata": {},
     "output_type": "display_data"
    }
   ],
   "source": [
    "# Create Humidity Category\n",
    "def categorize_humidity(h):\n",
    "    if h < 30:\n",
    "        return 'Low'\n",
    "    elif h <= 60:\n",
    "        return 'Normal'\n",
    "    else:\n",
    "        return 'High'\n",
    "\n",
    "# Apply the categorization\n",
    "combined_df['Humidity_Level'] = combined_df['Humidity'].apply(categorize_humidity)\n",
    "\n",
    "# Group and calculate means\n",
    "mean_values = combined_df.groupby('Humidity_Level')[['VO2', 'VCO2']].mean().reset_index()\n",
    "\n",
    "# Plot multiseries bar chart\n",
    "x = mean_values['Humidity_Level']\n",
    "vo2 = mean_values['VO2']\n",
    "vco2 = mean_values['VCO2']\n",
    "\n",
    "bar_width = 0.35\n",
    "index = range(len(x))\n",
    "\n",
    "plt.figure(figsize=(8, 5))\n",
    "vo2_bars = plt.bar(index, vo2, bar_width, label='VO₂ (mL/min)')\n",
    "vco2_bars = plt.bar([i + bar_width for i in index], vco2, bar_width, label='VCO₂ (mL/min)')\n",
    "\n",
    "# Setting lables to vo2 bars\n",
    "for bar in vo2_bars:\n",
    "    height = bar.get_height()\n",
    "    plt.text(bar.get_x() + bar.get_width()/2, height + 10, f'{height:.1f}', ha='center', va='bottom', fontsize=9)\n",
    "\n",
    "# Setting lables to vco2 bars\n",
    "for bar in vco2_bars:\n",
    "    height = bar.get_height()\n",
    "    plt.text(bar.get_x() + bar.get_width()/2, height + 10, f'{height:.1f}', ha='center', va='bottom', fontsize=9)\n",
    "\n",
    "plt.xlabel('Humidity Level')\n",
    "plt.ylabel('Mean Values (mL/min)')\n",
    "plt.title('Mean VO₂ and VCO₂ by Humidity Level')\n",
    "plt.xticks([i + bar_width / 2 for i in index], x)\n",
    "plt.legend()\n",
    "plt.tight_layout()\n",
    "plt.grid(axis='y', linestyle='--', alpha=0.5)\n",
    "plt.show()\n"
   ]
  },
  {
   "cell_type": "markdown",
   "id": "2ded1794-fa11-40b4-a983-260e66ea269c",
   "metadata": {},
   "source": [
    "### Analysis Summary:\n",
    "##### <i>Based on mean values among different humidity level, Oxygen consumption(vo2) and Carbon Dioxide Output(vco2) values are lower in low humidity and higher in normal and high humidity level this shows that low humidity may reduce respiratory and cardiovascular stress during exercise, while high humidity increases the <br>physiological load, leading to greater oxygen utilization and metabolic output.</i> "
   ]
  },
  {
   "cell_type": "markdown",
   "id": "e30c4718-9b72-4820-8212-68f91bd1fe32",
   "metadata": {},
   "source": [
    "#### 22. \"Display the average speed of each participant  in ' peak exercise' based on RER (Following question no.14)\"\n",
    "\n"
   ]
  },
  {
   "cell_type": "code",
   "execution_count": null,
   "id": "6fa44bff-bed0-47c2-b92a-c1a22cf7ded0",
   "metadata": {},
   "outputs": [],
   "source": []
  },
  {
   "cell_type": "markdown",
   "id": "356776ae-b10a-47f0-8b17-742ebf009746",
   "metadata": {},
   "source": [
    "#### 23.\"Assign one of the following 5 heart rate zones for every Athletes  and add this as a column to a new table with all unique IDs. <br> Exclude Warm-Up Phase\n",
    "Zone 1 (recovery/easy)       <100 HR max\n",
    "<br> Zone 2 (aerobic/base)        100-120 HR max\n",
    "<br>Zone 3 (tempo)        120-135 HR max\n",
    "<br>Zone 4 (lactate threshold)        135-155 HR max\n",
    "<br>Zone 5 (anaerobic)        155+ HR max and above\"\"\""
   ]
  },
  {
   "cell_type": "code",
   "execution_count": 319,
   "id": "dd27961f-dbee-4166-b480-80cc08bf146e",
   "metadata": {},
   "outputs": [
    {
     "name": "stdout",
     "output_type": "stream",
     "text": [
      "Number of Unique IDs: 857\n",
      "      ID     Mean_HR                     HR_Zone\n",
      "0      1  134.043088              Zone 3 (Tempo)\n",
      "1      2  140.446771  Zone 4 (Lactate Threshold)\n",
      "2      3  171.091854          Zone 5 (Anaerobic)\n",
      "3      4  154.860887  Zone 4 (Lactate Threshold)\n",
      "4      5  160.976619          Zone 5 (Anaerobic)\n",
      "..   ...         ...                         ...\n",
      "852  853  168.380734          Zone 5 (Anaerobic)\n",
      "853  854  108.455253       Zone 2 (Aerobic/Base)\n",
      "854  855  134.777870              Zone 3 (Tempo)\n",
      "855  856  130.033879              Zone 3 (Tempo)\n",
      "856  857  169.827083          Zone 5 (Anaerobic)\n",
      "\n",
      "[857 rows x 3 columns]\n"
     ]
    }
   ],
   "source": [
    "# excluding warm up phase, based on time(assuming warm-up is first 60 seconds)\n",
    "filtered = test_m[test_m['time'] > 60]\n",
    "\n",
    "# Get Mean HR per athlete\n",
    "mean_hr_by_id = filtered.groupby('ID')['HR'].mean().reset_index()\n",
    "mean_hr_by_id.rename(columns={'HR': 'Mean_HR'}, inplace=True)\n",
    "\n",
    "# Define function to assign heart rate zone\n",
    "def assign_hr_zone(hr):\n",
    "    if hr < 100:\n",
    "        return 'Zone 1 (Recovery/Easy)'\n",
    "    elif hr < 120:\n",
    "        return 'Zone 2 (Aerobic/Base)'\n",
    "    elif hr < 135:\n",
    "        return 'Zone 3 (Tempo)'\n",
    "    elif hr < 155:\n",
    "        return 'Zone 4 (Lactate Threshold)'\n",
    "    else:\n",
    "        return 'Zone 5 (Anaerobic)'\n",
    "\n",
    "# Apply the zone function\n",
    "mean_hr_by_id['HR_Zone'] = mean_hr_by_id['Mean_HR'].apply(assign_hr_zone)\n",
    "\n",
    "# unique athletes with their mean HR and assigned zone\n",
    "print(f\"Number of Unique IDs: {test_m['ID'].nunique()}\")\n",
    "print(mean_hr_by_id)\n"
   ]
  },
  {
   "cell_type": "markdown",
   "id": "e0e5baf5-712d-4e70-ad0c-c7814c6802c0",
   "metadata": {},
   "source": [
    "#### 24. Find the athlete who has got optimal respiratory stability based on the measure of  Breathing Interval variability over time."
   ]
  },
  {
   "cell_type": "code",
   "execution_count": 345,
   "id": "26016bc0-797a-405d-bd72-d2db924265f4",
   "metadata": {},
   "outputs": [
    {
     "name": "stdout",
     "output_type": "stream",
     "text": [
      "Optimal Respiratory Stability Participant id is: 2\n"
     ]
    }
   ],
   "source": [
    "# RR field has 3.4% null values, interpolating RR values\n",
    "test_i['RR'] = test_i.groupby('ID')['RR'].transform(lambda x: x.interpolate().ffill().bfill())\n",
    "test_i['RR'].isna().sum()\n",
    "\n",
    "# Breathing Interval in seconds\n",
    "filtered = test_i.copy()\n",
    "filtered['RR_Seconds'] = 60 / filtered['RR']\n",
    "\n",
    "# Calculating Standard Deviation for each participant based on breating interval(sec's)\n",
    "stand_dev = filtered.groupby('ID')['RR_Seconds'].std().reset_index()\n",
    "filtered.rename(columns = {'RR_Seconds' : 'RR_Seconds_std'}, inplace = True)\n",
    "\n",
    "# Finding the minimum standard deviation value of RR(sec's) to identify the steady and consistent breathing\n",
    "optimal_athlete_row = filtered.loc[filtered['RR_Seconds_std'].idxmin()]\n",
    "print(f\"Optimal Respiratory Stability Participant id is: {optimal_athlete_row['ID']}\")"
   ]
  },
  {
   "cell_type": "code",
   "execution_count": null,
   "id": "d87e94fb-06e3-4eb9-89b0-b5bbbf19623a",
   "metadata": {},
   "outputs": [],
   "source": []
  }
 ],
 "metadata": {
  "kernelspec": {
   "display_name": "Python [conda env:base] *",
   "language": "python",
   "name": "conda-base-py"
  },
  "language_info": {
   "codemirror_mode": {
    "name": "ipython",
    "version": 3
   },
   "file_extension": ".py",
   "mimetype": "text/x-python",
   "name": "python",
   "nbconvert_exporter": "python",
   "pygments_lexer": "ipython3",
   "version": "3.12.7"
  }
 },
 "nbformat": 4,
 "nbformat_minor": 5
}
