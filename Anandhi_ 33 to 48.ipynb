{
 "cells": [
  {
   "cell_type": "markdown",
   "id": "df12879a-83d0-41d0-8412-1f7c830a75c8",
   "metadata": {},
   "source": [
    "Python Hackathon 2025 : question 33 to 48"
   ]
  },
  {
   "cell_type": "code",
   "execution_count": 7,
   "id": "35e0c52d-5271-4e34-9545-140e8397403c",
   "metadata": {},
   "outputs": [
    {
     "name": "stdout",
     "output_type": "stream",
     "text": [
      "Requirement already satisfied: pandas in c:\\users\\itsma\\new folder\\lib\\site-packages (2.2.2)\n",
      "Requirement already satisfied: numpy>=1.26.0 in c:\\users\\itsma\\new folder\\lib\\site-packages (from pandas) (1.26.4)\n",
      "Requirement already satisfied: python-dateutil>=2.8.2 in c:\\users\\itsma\\new folder\\lib\\site-packages (from pandas) (2.9.0.post0)\n",
      "Requirement already satisfied: pytz>=2020.1 in c:\\users\\itsma\\new folder\\lib\\site-packages (from pandas) (2024.1)\n",
      "Requirement already satisfied: tzdata>=2022.7 in c:\\users\\itsma\\new folder\\lib\\site-packages (from pandas) (2023.3)\n",
      "Requirement already satisfied: six>=1.5 in c:\\users\\itsma\\new folder\\lib\\site-packages (from python-dateutil>=2.8.2->pandas) (1.16.0)\n"
     ]
    }
   ],
   "source": [
    "#import the CSv file\n",
    "!pip install pandas\n"
   ]
  },
  {
   "cell_type": "code",
   "execution_count": 11,
   "id": "f8ac52a3-3339-4a04-8f9a-610cb5b555db",
   "metadata": {},
   "outputs": [],
   "source": [
    "import numpy as np\n",
    "import pandas as pd\n",
    "import matplotlib.pyplot as plt"
   ]
  },
  {
   "cell_type": "code",
   "execution_count": 13,
   "id": "cee6c0fb-48ad-4362-bc90-82789af2e7db",
   "metadata": {},
   "outputs": [],
   "source": [
    "test_m = pd.read_csv('test_measure.csv')"
   ]
  },
  {
   "cell_type": "code",
   "execution_count": 15,
   "id": "5e31ef21-bfe7-4b3b-b2c1-9b45ae1ce93d",
   "metadata": {},
   "outputs": [],
   "source": [
    "subject_i = pd.read_csv('subject-info.csv')"
   ]
  },
  {
   "cell_type": "code",
   "execution_count": 59,
   "id": "be52a53b-69d3-4bff-8c94-0af5076ca02f",
   "metadata": {},
   "outputs": [
    {
     "data": {
      "text/html": [
       "<div>\n",
       "<style scoped>\n",
       "    .dataframe tbody tr th:only-of-type {\n",
       "        vertical-align: middle;\n",
       "    }\n",
       "\n",
       "    .dataframe tbody tr th {\n",
       "        vertical-align: top;\n",
       "    }\n",
       "\n",
       "    .dataframe thead th {\n",
       "        text-align: right;\n",
       "    }\n",
       "</style>\n",
       "<table border=\"1\" class=\"dataframe\">\n",
       "  <thead>\n",
       "    <tr style=\"text-align: right;\">\n",
       "      <th></th>\n",
       "      <th>time</th>\n",
       "      <th>Speed</th>\n",
       "      <th>HR</th>\n",
       "      <th>VO2</th>\n",
       "      <th>VCO2</th>\n",
       "      <th>RR</th>\n",
       "      <th>VE</th>\n",
       "      <th>ID_test</th>\n",
       "      <th>ID</th>\n",
       "    </tr>\n",
       "  </thead>\n",
       "  <tbody>\n",
       "    <tr>\n",
       "      <th>0</th>\n",
       "      <td>0</td>\n",
       "      <td>5.0</td>\n",
       "      <td>63.0</td>\n",
       "      <td>478.0</td>\n",
       "      <td>360.0</td>\n",
       "      <td>27</td>\n",
       "      <td>13.3</td>\n",
       "      <td>2_1</td>\n",
       "      <td>2</td>\n",
       "    </tr>\n",
       "    <tr>\n",
       "      <th>1</th>\n",
       "      <td>2</td>\n",
       "      <td>5.0</td>\n",
       "      <td>75.0</td>\n",
       "      <td>401.0</td>\n",
       "      <td>295.0</td>\n",
       "      <td>23</td>\n",
       "      <td>10.3</td>\n",
       "      <td>2_1</td>\n",
       "      <td>2</td>\n",
       "    </tr>\n",
       "    <tr>\n",
       "      <th>2</th>\n",
       "      <td>4</td>\n",
       "      <td>5.0</td>\n",
       "      <td>82.0</td>\n",
       "      <td>449.0</td>\n",
       "      <td>319.0</td>\n",
       "      <td>29</td>\n",
       "      <td>12.2</td>\n",
       "      <td>2_1</td>\n",
       "      <td>2</td>\n",
       "    </tr>\n",
       "    <tr>\n",
       "      <th>3</th>\n",
       "      <td>7</td>\n",
       "      <td>5.0</td>\n",
       "      <td>87.0</td>\n",
       "      <td>461.0</td>\n",
       "      <td>340.0</td>\n",
       "      <td>28</td>\n",
       "      <td>12.8</td>\n",
       "      <td>2_1</td>\n",
       "      <td>2</td>\n",
       "    </tr>\n",
       "    <tr>\n",
       "      <th>4</th>\n",
       "      <td>9</td>\n",
       "      <td>5.0</td>\n",
       "      <td>92.0</td>\n",
       "      <td>574.0</td>\n",
       "      <td>417.0</td>\n",
       "      <td>28</td>\n",
       "      <td>14.6</td>\n",
       "      <td>2_1</td>\n",
       "      <td>2</td>\n",
       "    </tr>\n",
       "  </tbody>\n",
       "</table>\n",
       "</div>"
      ],
      "text/plain": [
       "   time  Speed    HR    VO2   VCO2  RR    VE ID_test  ID\n",
       "0     0    5.0  63.0  478.0  360.0  27  13.3     2_1   2\n",
       "1     2    5.0  75.0  401.0  295.0  23  10.3     2_1   2\n",
       "2     4    5.0  82.0  449.0  319.0  29  12.2     2_1   2\n",
       "3     7    5.0  87.0  461.0  340.0  28  12.8     2_1   2\n",
       "4     9    5.0  92.0  574.0  417.0  28  14.6     2_1   2"
      ]
     },
     "execution_count": 59,
     "metadata": {},
     "output_type": "execute_result"
    }
   ],
   "source": [
    "test_m.head()\n",
    "\n"
   ]
  },
  {
   "cell_type": "code",
   "execution_count": 21,
   "id": "038f93f1-b550-415b-b34c-3c12e4a22c9d",
   "metadata": {},
   "outputs": [
    {
     "data": {
      "text/html": [
       "<div>\n",
       "<style scoped>\n",
       "    .dataframe tbody tr th:only-of-type {\n",
       "        vertical-align: middle;\n",
       "    }\n",
       "\n",
       "    .dataframe tbody tr th {\n",
       "        vertical-align: top;\n",
       "    }\n",
       "\n",
       "    .dataframe thead th {\n",
       "        text-align: right;\n",
       "    }\n",
       "</style>\n",
       "<table border=\"1\" class=\"dataframe\">\n",
       "  <thead>\n",
       "    <tr style=\"text-align: right;\">\n",
       "      <th></th>\n",
       "      <th>Age</th>\n",
       "      <th>Weight</th>\n",
       "      <th>Height</th>\n",
       "      <th>Humidity</th>\n",
       "      <th>Temperature</th>\n",
       "      <th>Sex</th>\n",
       "      <th>ID</th>\n",
       "      <th>ID_test</th>\n",
       "    </tr>\n",
       "  </thead>\n",
       "  <tbody>\n",
       "    <tr>\n",
       "      <th>0</th>\n",
       "      <td>10.8</td>\n",
       "      <td>48.8</td>\n",
       "      <td>163.0</td>\n",
       "      <td>39.0</td>\n",
       "      <td>20.7</td>\n",
       "      <td>1</td>\n",
       "      <td>543</td>\n",
       "      <td>543_1</td>\n",
       "    </tr>\n",
       "    <tr>\n",
       "      <th>1</th>\n",
       "      <td>11.8</td>\n",
       "      <td>41.0</td>\n",
       "      <td>150.0</td>\n",
       "      <td>41.0</td>\n",
       "      <td>22.3</td>\n",
       "      <td>1</td>\n",
       "      <td>11</td>\n",
       "      <td>11_1</td>\n",
       "    </tr>\n",
       "    <tr>\n",
       "      <th>2</th>\n",
       "      <td>12.2</td>\n",
       "      <td>46.0</td>\n",
       "      <td>160.0</td>\n",
       "      <td>37.0</td>\n",
       "      <td>21.5</td>\n",
       "      <td>0</td>\n",
       "      <td>829</td>\n",
       "      <td>829_1</td>\n",
       "    </tr>\n",
       "    <tr>\n",
       "      <th>3</th>\n",
       "      <td>13.2</td>\n",
       "      <td>71.0</td>\n",
       "      <td>190.0</td>\n",
       "      <td>49.0</td>\n",
       "      <td>23.8</td>\n",
       "      <td>1</td>\n",
       "      <td>284</td>\n",
       "      <td>284_1</td>\n",
       "    </tr>\n",
       "    <tr>\n",
       "      <th>4</th>\n",
       "      <td>13.7</td>\n",
       "      <td>53.8</td>\n",
       "      <td>169.7</td>\n",
       "      <td>40.0</td>\n",
       "      <td>25.3</td>\n",
       "      <td>0</td>\n",
       "      <td>341</td>\n",
       "      <td>341_1</td>\n",
       "    </tr>\n",
       "  </tbody>\n",
       "</table>\n",
       "</div>"
      ],
      "text/plain": [
       "    Age  Weight  Height  Humidity  Temperature  Sex   ID ID_test\n",
       "0  10.8    48.8   163.0      39.0         20.7    1  543   543_1\n",
       "1  11.8    41.0   150.0      41.0         22.3    1   11    11_1\n",
       "2  12.2    46.0   160.0      37.0         21.5    0  829   829_1\n",
       "3  13.2    71.0   190.0      49.0         23.8    1  284   284_1\n",
       "4  13.7    53.8   169.7      40.0         25.3    0  341   341_1"
      ]
     },
     "execution_count": 21,
     "metadata": {},
     "output_type": "execute_result"
    }
   ],
   "source": [
    "subject_i.head()"
   ]
  },
  {
   "cell_type": "markdown",
   "id": "39289fbd-b9b8-4344-b4f7-4b996dd5a03a",
   "metadata": {},
   "source": [
    "Question:33."
   ]
  },
  {
   "cell_type": "markdown",
   "id": "2ad70f92-8e03-4ff1-870c-522c3960f415",
   "metadata": {},
   "source": [
    "Question:34.Create an array, np.arrange.reshape(3,4). Replace the array elements with their square values if the element is an even Number.\n",
    "            Keep the odd numbers as such. Displaying the resulting array."
   ]
  },
  {
   "cell_type": "markdown",
   "id": "4ec4ef7a-0153-4ea5-a6f4-748f24e09992",
   "metadata": {},
   "source": [
    "Question:35. Read 10 records from dataframe and convert into Json format and print the data"
   ]
  },
  {
   "cell_type": "code",
   "execution_count": 37,
   "id": "ee5b54dc-ddb8-4dc7-bc79-697da157fe7f",
   "metadata": {},
   "outputs": [
    {
     "name": "stdout",
     "output_type": "stream",
     "text": [
      "{\"Age\":10.8,\"Weight\":48.8,\"Height\":163.0,\"Humidity\":39.0,\"Temperature\":20.7,\"Sex\":1,\"ID\":543,\"ID_test\":\"543_1\"}\n",
      "{\"Age\":11.8,\"Weight\":41.0,\"Height\":150.0,\"Humidity\":41.0,\"Temperature\":22.3,\"Sex\":1,\"ID\":11,\"ID_test\":\"11_1\"}\n",
      "{\"Age\":12.2,\"Weight\":46.0,\"Height\":160.0,\"Humidity\":37.0,\"Temperature\":21.5,\"Sex\":0,\"ID\":829,\"ID_test\":\"829_1\"}\n",
      "{\"Age\":13.2,\"Weight\":71.0,\"Height\":190.0,\"Humidity\":49.0,\"Temperature\":23.8,\"Sex\":1,\"ID\":284,\"ID_test\":\"284_1\"}\n",
      "{\"Age\":13.7,\"Weight\":53.8,\"Height\":169.7,\"Humidity\":40.0,\"Temperature\":25.3,\"Sex\":0,\"ID\":341,\"ID_test\":\"341_1\"}\n",
      "{\"Age\":13.8,\"Weight\":53.4,\"Height\":171.0,\"Humidity\":42.0,\"Temperature\":24.4,\"Sex\":0,\"ID\":341,\"ID_test\":\"341_2\"}\n",
      "{\"Age\":14.0,\"Weight\":46.0,\"Height\":160.0,\"Humidity\":40.0,\"Temperature\":25.3,\"Sex\":0,\"ID\":343,\"ID_test\":\"343_1\"}\n",
      "{\"Age\":14.1,\"Weight\":50.0,\"Height\":168.9,\"Humidity\":42.0,\"Temperature\":24.2,\"Sex\":0,\"ID\":330,\"ID_test\":\"330_1\"}\n",
      "{\"Age\":14.1,\"Weight\":47.2,\"Height\":160.2,\"Humidity\":40.0,\"Temperature\":25.2,\"Sex\":0,\"ID\":338,\"ID_test\":\"338_1\"}\n",
      "{\"Age\":14.1,\"Weight\":49.7,\"Height\":160.1,\"Humidity\":40.0,\"Temperature\":25.8,\"Sex\":0,\"ID\":339,\"ID_test\":\"339_1\"}\n",
      "\n"
     ]
    }
   ],
   "source": [
    "# Get the first 10 records of the patient record from the subject-info\n",
    "subject_10_records=subject_i.head(10) \n",
    "# convert into Json\n",
    "subject_son=subject_10_records.to_json(orient='records',lines=True)\n",
    "# print the data\n",
    "print(subject_json)"
   ]
  },
  {
   "cell_type": "markdown",
   "id": "f5859955-8f4f-497b-baad-a4fc92df1bed",
   "metadata": {},
   "source": [
    "Question:36"
   ]
  },
  {
   "cell_type": "markdown",
   "id": "5aed1454-758b-4e57-abd4-e163765e9079",
   "metadata": {},
   "source": [
    "Question:37. Who is the youngest athlete and how many tests did she take part in?"
   ]
  },
  {
   "cell_type": "code",
   "execution_count": 94,
   "id": "6fce1ae9-33c1-4c87-8409-3cab7f93dc8b",
   "metadata": {},
   "outputs": [
    {
     "name": "stdout",
     "output_type": "stream",
     "text": [
      "The youngest athlete ID is  543 and her age is 10.8 is and she took part in 676 tests.\n"
     ]
    }
   ],
   "source": [
    "\n",
    "#  Find the youngest athlete (the one with the minimum age)\n",
    "youngest_athlete = subject_i.loc[subject_i['Age'].idxmin()]\n",
    "\n",
    "\n",
    "# Get the athlete ID,Age and ID_test\n",
    "youngest_athlete_id = youngest_athlete['ID']\n",
    "youngest_athlete_age = youngest_athlete['Age']\n",
    "youngest_athlete_test_id = youngest_athlete['ID_test']\n",
    "\n",
    "\n",
    "youngest_tests = test_m[test_m['ID_test'] == youngest_athlete_test_id]\n",
    "\n",
    "num_tests = len(youngest_tests)\n",
    "\n",
    "# Print the result\n",
    "print(f\"The youngest athlete ID is  {youngest_athlete_id} and her age is {youngest_athlete_age} is and she took part in {num_tests} tests.\")\n",
    "\n",
    "\n"
   ]
  },
  {
   "cell_type": "markdown",
   "id": "5ab63d8b-45b0-4f7a-b5a2-6484a295caf1",
   "metadata": {},
   "source": [
    "Question:38"
   ]
  },
  {
   "cell_type": "markdown",
   "id": "6e631582-dc11-45bc-a886-0558b9f3dc88",
   "metadata": {},
   "source": [
    "Question:39"
   ]
  },
  {
   "cell_type": "markdown",
   "id": "f002ce8e-4246-443a-bfe9-582cb675c215",
   "metadata": {},
   "source": [
    "Question:40. Identify the test that took the longest time to complete"
   ]
  },
  {
   "cell_type": "code",
   "execution_count": 96,
   "id": "9c0f8377-cd9b-43c8-abfe-8d3c4d12fa53",
   "metadata": {},
   "outputs": [
    {
     "name": "stdout",
     "output_type": "stream",
     "text": [
      "The test with the longest time is Test ID 699_1, with a time of 1712 units.\n"
     ]
    }
   ],
   "source": [
    "# Step 4: Find the test that took the longest time to complete\n",
    "longest_test = test_m.loc[test_m['time'].idxmax()]\n",
    "\n",
    "# Step 5: Output the result (test ID, and the longest time)\n",
    "test_id = longest_test['ID_test']\n",
    "time_taken = longest_test['time']\n",
    "print(f\"The test with the longest time is Test ID {test_id}, with a time of {time_taken} units.\")"
   ]
  },
  {
   "cell_type": "markdown",
   "id": "9e453c7d-2ca8-419b-be81-42d35b5a231e",
   "metadata": {},
   "source": [
    "Question:41"
   ]
  },
  {
   "cell_type": "markdown",
   "id": "43afb6a2-2fb7-41b9-87fc-ead90c636131",
   "metadata": {},
   "source": [
    "Question:42"
   ]
  },
  {
   "cell_type": "markdown",
   "id": "f8724355-cb56-4a85-a98a-adf67730ea23",
   "metadata": {},
   "source": [
    "Question:43"
   ]
  },
  {
   "cell_type": "markdown",
   "id": "446a6d59-8515-4ebc-b93c-cf323c1a4f14",
   "metadata": {},
   "source": [
    "Question:44"
   ]
  },
  {
   "cell_type": "markdown",
   "id": "c931927f-5d08-4329-b22d-8cb57e64a359",
   "metadata": {},
   "source": [
    "Question:45"
   ]
  },
  {
   "cell_type": "markdown",
   "id": "cf83e5e6-1b36-455b-a61f-235cd76a359d",
   "metadata": {},
   "source": [
    "Question:46"
   ]
  },
  {
   "cell_type": "markdown",
   "id": "b76f6044-8d62-4755-8d98-30dbc5550c3d",
   "metadata": {},
   "source": [
    "Question:47. Assuming age is given for the current year (2025), list the partcipants born on leap year?"
   ]
  },
  {
   "cell_type": "code",
   "execution_count": 37,
   "id": "bb1be01c-4394-4a53-b8bb-d332d6c8e568",
   "metadata": {},
   "outputs": [
    {
     "name": "stdout",
     "output_type": "stream",
     "text": [
      "      ID  Age  birth_year\n",
      "3    284   13        2012\n",
      "4    341   13        2012\n",
      "5    341   13        2012\n",
      "113  177   17        2008\n",
      "114  303   17        2008\n",
      "..   ...  ...         ...\n",
      "977  653   53        1972\n",
      "978  756   53        1972\n",
      "984  389   57        1968\n",
      "989  390   61        1964\n",
      "990  596   61        1964\n",
      "\n",
      "[252 rows x 3 columns]\n"
     ]
    }
   ],
   "source": [
    "# Calculate birth year assuming age given for the current year (2025)\n",
    "subject_i['birth_year'] = 2025 - subject_i['Age']\n",
    "\n",
    " #  Function to check for leap year\n",
    "def is_leap_year(year):\n",
    "    return (year % 4 == 0 and year % 100 != 0) or (year % 400 == 0)\n",
    "\n",
    "# Filtering the  participants born in a leap year\n",
    "leap_year_participants = subject_i[subject_i['birth_year'].apply(is_leap_year)]\n",
    "\n",
    "# Display the result\n",
    "print(leap_year_participants[['ID', 'Age', 'birth_year']])"
   ]
  },
  {
   "cell_type": "code",
   "execution_count": null,
   "id": "f41643f6-f909-4558-8eb9-cbb34fefdfee",
   "metadata": {},
   "outputs": [],
   "source": [
    "Question:48"
   ]
  }
 ],
 "metadata": {
  "kernelspec": {
   "display_name": "Python [conda env:base]",
   "language": "python",
   "name": "conda-base-py"
  },
  "language_info": {
   "codemirror_mode": {
    "name": "ipython",
    "version": 3
   },
   "file_extension": ".py",
   "mimetype": "text/x-python",
   "name": "python",
   "nbconvert_exporter": "python",
   "pygments_lexer": "ipython3",
   "version": "3.12.7"
  }
 },
 "nbformat": 4,
 "nbformat_minor": 5
}
