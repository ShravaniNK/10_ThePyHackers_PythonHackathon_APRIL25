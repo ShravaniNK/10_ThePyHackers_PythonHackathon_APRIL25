{
 "cells": [
  {
   "cell_type": "markdown",
   "id": "6d1ec167-4f0d-448b-b7cd-79adf8a487fa",
   "metadata": {},
   "source": [
    "Data Description\n",
    "The dataset contains two files:\n",
    "\n",
    "subject-info.csv contains the participant info at the time of the test. The variable ID identifies a participant, whereas the variable ID_test \n",
    "identifies an exercise test. This file contains 992 lines, one for each test. The different variables are described in the table below, with their \n",
    "corresponding amount or median [Inter Quartile Range] value.\n",
    "\n",
    "variable\n",
    "\n",
    "value\n",
    "\n",
    "ID_test\t992\n",
    "ID\t857\n",
    "Age (years)\t27.10 [21.10, 36.32]\n",
    "Weight (kg)\t73.00 [66.00, 80.23]\n",
    "Height (cm)\t175.00 [170.00, 180.00]\n",
    "Humidity (%)\t47.00 [42.00, 54.00]\n",
    "Temperature (°C)\t22.90 [20.80, 24.40]\n",
    "Sex = 1 (Female) (%)\t149 (15.0)\n",
    "\n",
    "\n",
    "test_measure.csv, contains all the cardiorespiratory measurements taken during each effort test. The data is in long format, so the file contains one \n",
    "line for each breath measurement for all of the 992 effort tests, resulting in the 575087 lines present in the file. The time of each measurement is \n",
    "identified by the variable time indicating the seconds elapsed since the effort test start, the exercise test is identified by the ID_test variable,\n",
    "and the variable ID indicates the participant. These effort tests contain a median [Inter Quartile Range] of 580 [484, 673] measures, for a median \n",
    "duration of 1093.00 [978.75, 1208.00] seconds. The variables in this file are:\n",
    "\n",
    "\n",
    "time\tTime since the measurement starts, in seconds\n",
    "Speed\tSpeed of the treadmill, in km/h\n",
    "HR\tHeart rate, in beat per min\n",
    "VO2\tOxygen consumption, in mL/min\n",
    "VCO2\tCarbon dioxide production, in mL/min\n",
    "RR\tRespiration rate, in respiration per minute\n",
    "VE\tPulmonary ventilation, in L/min\n",
    "ID\tParticipant identification\n",
    "ID_test\tEffort test identification\n",
    "Note that VO2, VCO2, and VE measures are missing for 30 tests.\n",
    "\n",
    "Usage Notes\n",
    "ID_test, the variable identifying the GET, is named from the ID of the participant paired with the GET index. For example, ID_date = 245_3 is the third \n",
    "exercise test of participant ID = 245. An example of calculation in R [16] of simple heart rate recovery and cardiorespiratory index from these files\n",
    "is provided in an associated GitHub repository [17]."
   ]
  },
  {
   "cell_type": "markdown",
   "id": "faaaa4ce-f0b3-42bf-b082-61a4efa2badd",
   "metadata": {},
   "source": [
    "## Importing Libraries"
   ]
  },
  {
   "cell_type": "code",
   "execution_count": 1,
   "id": "222b994e-80d7-444f-a078-94912362f6c8",
   "metadata": {},
   "outputs": [
    {
     "name": "stdout",
     "output_type": "stream",
     "text": [
      "Requirement already satisfied: pywaffle in c:\\users\\shrav\\appdata\\local\\programs\\python\\python39\\lib\\site-packages (1.1.1)\n",
      "Requirement already satisfied: fontawesomefree in c:\\users\\shrav\\appdata\\local\\programs\\python\\python39\\lib\\site-packages (from pywaffle) (6.6.0)\n",
      "Requirement already satisfied: matplotlib in c:\\users\\shrav\\appdata\\local\\programs\\python\\python39\\lib\\site-packages (from pywaffle) (3.9.4)\n",
      "Requirement already satisfied: fonttools>=4.22.0 in c:\\users\\shrav\\appdata\\local\\programs\\python\\python39\\lib\\site-packages (from matplotlib->pywaffle) (4.57.0)\n",
      "Requirement already satisfied: kiwisolver>=1.3.1 in c:\\users\\shrav\\appdata\\local\\programs\\python\\python39\\lib\\site-packages (from matplotlib->pywaffle) (1.3.2)\n",
      "Requirement already satisfied: packaging>=20.0 in c:\\users\\shrav\\appdata\\local\\programs\\python\\python39\\lib\\site-packages (from matplotlib->pywaffle) (23.2)\n",
      "Requirement already satisfied: importlib-resources>=3.2.0 in c:\\users\\shrav\\appdata\\local\\programs\\python\\python39\\lib\\site-packages (from matplotlib->pywaffle) (6.5.2)\n",
      "Requirement already satisfied: numpy>=1.23 in c:\\users\\shrav\\appdata\\local\\programs\\python\\python39\\lib\\site-packages (from matplotlib->pywaffle) (1.24.2)\n",
      "Requirement already satisfied: contourpy>=1.0.1 in c:\\users\\shrav\\appdata\\local\\programs\\python\\python39\\lib\\site-packages (from matplotlib->pywaffle) (1.3.0)\n",
      "Requirement already satisfied: python-dateutil>=2.7 in c:\\users\\shrav\\appdata\\local\\programs\\python\\python39\\lib\\site-packages (from matplotlib->pywaffle) (2.8.2)\n",
      "Requirement already satisfied: pillow>=8 in c:\\users\\shrav\\appdata\\local\\programs\\python\\python39\\lib\\site-packages (from matplotlib->pywaffle) (9.5.0)\n",
      "Requirement already satisfied: pyparsing>=2.3.1 in c:\\users\\shrav\\appdata\\local\\programs\\python\\python39\\lib\\site-packages (from matplotlib->pywaffle) (2.4.7)\n",
      "Requirement already satisfied: cycler>=0.10 in c:\\users\\shrav\\appdata\\local\\programs\\python\\python39\\lib\\site-packages (from matplotlib->pywaffle) (0.11.0)\n",
      "Requirement already satisfied: zipp>=3.1.0 in c:\\users\\shrav\\appdata\\local\\programs\\python\\python39\\lib\\site-packages (from importlib-resources>=3.2.0->matplotlib->pywaffle) (3.18.1)Note: you may need to restart the kernel to use updated packages.\n",
      "\n",
      "Requirement already satisfied: six>=1.5 in c:\\users\\shrav\\appdata\\local\\programs\\python\\python39\\lib\\site-packages (from python-dateutil>=2.7->matplotlib->pywaffle) (1.16.0)\n"
     ]
    },
    {
     "name": "stderr",
     "output_type": "stream",
     "text": [
      "WARNING: Ignoring invalid distribution -illow (c:\\users\\shrav\\appdata\\local\\programs\\python\\python39\\lib\\site-packages)\n",
      "WARNING: Ignoring invalid distribution -atplotlib (c:\\users\\shrav\\appdata\\local\\programs\\python\\python39\\lib\\site-packages)\n",
      "WARNING: Ignoring invalid distribution -illow (c:\\users\\shrav\\appdata\\local\\programs\\python\\python39\\lib\\site-packages)\n",
      "WARNING: Ignoring invalid distribution -atplotlib (c:\\users\\shrav\\appdata\\local\\programs\\python\\python39\\lib\\site-packages)\n",
      "WARNING: Ignoring invalid distribution -illow (c:\\users\\shrav\\appdata\\local\\programs\\python\\python39\\lib\\site-packages)\n",
      "WARNING: Ignoring invalid distribution -atplotlib (c:\\users\\shrav\\appdata\\local\\programs\\python\\python39\\lib\\site-packages)\n",
      "WARNING: Ignoring invalid distribution -illow (c:\\users\\shrav\\appdata\\local\\programs\\python\\python39\\lib\\site-packages)\n",
      "WARNING: Ignoring invalid distribution -atplotlib (c:\\users\\shrav\\appdata\\local\\programs\\python\\python39\\lib\\site-packages)\n",
      "WARNING: Ignoring invalid distribution -illow (c:\\users\\shrav\\appdata\\local\\programs\\python\\python39\\lib\\site-packages)\n",
      "WARNING: Ignoring invalid distribution -atplotlib (c:\\users\\shrav\\appdata\\local\\programs\\python\\python39\\lib\\site-packages)\n",
      "WARNING: Ignoring invalid distribution -illow (c:\\users\\shrav\\appdata\\local\\programs\\python\\python39\\lib\\site-packages)\n",
      "WARNING: Ignoring invalid distribution -atplotlib (c:\\users\\shrav\\appdata\\local\\programs\\python\\python39\\lib\\site-packages)\n",
      "\n",
      "[notice] A new release of pip is available: 23.0.1 -> 25.0.1\n",
      "[notice] To update, run: c:\\users\\shrav\\appdata\\local\\programs\\python\\python39\\python.exe -m pip install --upgrade pip\n"
     ]
    }
   ],
   "source": [
    " pip install pywaffle"
   ]
  },
  {
   "cell_type": "code",
   "execution_count": 2,
   "id": "3b6ff5d2-2e67-44ae-bec3-921e490357c2",
   "metadata": {},
   "outputs": [
    {
     "ename": "ImportError",
     "evalue": "cannot import name 'mplDeprecation' from 'matplotlib._api.deprecation' (c:\\users\\shrav\\appdata\\local\\programs\\python\\python39\\lib\\site-packages\\matplotlib\\_api\\deprecation.py)",
     "output_type": "error",
     "traceback": [
      "\u001b[1;31m---------------------------------------------------------------------------\u001b[0m",
      "\u001b[1;31mImportError\u001b[0m                               Traceback (most recent call last)",
      "\u001b[1;32m~\\AppData\\Local\\Temp/ipykernel_10992/1047165327.py\u001b[0m in \u001b[0;36m<module>\u001b[1;34m\u001b[0m\n\u001b[0;32m      1\u001b[0m \u001b[1;32mimport\u001b[0m \u001b[0mnumpy\u001b[0m \u001b[1;32mas\u001b[0m \u001b[0mnp\u001b[0m\u001b[1;33m\u001b[0m\u001b[1;33m\u001b[0m\u001b[0m\n\u001b[0;32m      2\u001b[0m \u001b[1;32mimport\u001b[0m \u001b[0mpandas\u001b[0m \u001b[1;32mas\u001b[0m \u001b[0mpd\u001b[0m\u001b[1;33m\u001b[0m\u001b[1;33m\u001b[0m\u001b[0m\n\u001b[1;32m----> 3\u001b[1;33m \u001b[1;32mimport\u001b[0m \u001b[0mseaborn\u001b[0m \u001b[1;32mas\u001b[0m \u001b[0msns\u001b[0m\u001b[1;33m\u001b[0m\u001b[1;33m\u001b[0m\u001b[0m\n\u001b[0m\u001b[0;32m      4\u001b[0m \u001b[1;32mimport\u001b[0m \u001b[0mmatplotlib\u001b[0m\u001b[1;33m.\u001b[0m\u001b[0mpyplot\u001b[0m \u001b[1;32mas\u001b[0m \u001b[0mplt\u001b[0m\u001b[1;33m\u001b[0m\u001b[1;33m\u001b[0m\u001b[0m\n\u001b[0;32m      5\u001b[0m \u001b[1;33m\u001b[0m\u001b[0m\n",
      "\u001b[1;32mc:\\users\\shrav\\appdata\\local\\programs\\python\\python39\\lib\\site-packages\\seaborn\\__init__.py\u001b[0m in \u001b[0;36m<module>\u001b[1;34m\u001b[0m\n\u001b[0;32m      1\u001b[0m \u001b[1;31m# Import seaborn objects\u001b[0m\u001b[1;33m\u001b[0m\u001b[1;33m\u001b[0m\u001b[1;33m\u001b[0m\u001b[0m\n\u001b[1;32m----> 2\u001b[1;33m \u001b[1;32mfrom\u001b[0m \u001b[1;33m.\u001b[0m\u001b[0mrcmod\u001b[0m \u001b[1;32mimport\u001b[0m \u001b[1;33m*\u001b[0m  \u001b[1;31m# noqa: F401,F403\u001b[0m\u001b[1;33m\u001b[0m\u001b[1;33m\u001b[0m\u001b[0m\n\u001b[0m\u001b[0;32m      3\u001b[0m \u001b[1;32mfrom\u001b[0m \u001b[1;33m.\u001b[0m\u001b[0mutils\u001b[0m \u001b[1;32mimport\u001b[0m \u001b[1;33m*\u001b[0m  \u001b[1;31m# noqa: F401,F403\u001b[0m\u001b[1;33m\u001b[0m\u001b[1;33m\u001b[0m\u001b[0m\n\u001b[0;32m      4\u001b[0m \u001b[1;32mfrom\u001b[0m \u001b[1;33m.\u001b[0m\u001b[0mpalettes\u001b[0m \u001b[1;32mimport\u001b[0m \u001b[1;33m*\u001b[0m  \u001b[1;31m# noqa: F401,F403\u001b[0m\u001b[1;33m\u001b[0m\u001b[1;33m\u001b[0m\u001b[0m\n\u001b[0;32m      5\u001b[0m \u001b[1;32mfrom\u001b[0m \u001b[1;33m.\u001b[0m\u001b[0mrelational\u001b[0m \u001b[1;32mimport\u001b[0m \u001b[1;33m*\u001b[0m  \u001b[1;31m# noqa: F401,F403\u001b[0m\u001b[1;33m\u001b[0m\u001b[1;33m\u001b[0m\u001b[0m\n",
      "\u001b[1;32mc:\\users\\shrav\\appdata\\local\\programs\\python\\python39\\lib\\site-packages\\seaborn\\rcmod.py\u001b[0m in \u001b[0;36m<module>\u001b[1;34m\u001b[0m\n\u001b[0;32m      1\u001b[0m \u001b[1;34m\"\"\"Control plot style and scaling using the matplotlib rcParams interface.\"\"\"\u001b[0m\u001b[1;33m\u001b[0m\u001b[1;33m\u001b[0m\u001b[0m\n\u001b[0;32m      2\u001b[0m \u001b[1;32mimport\u001b[0m \u001b[0mfunctools\u001b[0m\u001b[1;33m\u001b[0m\u001b[1;33m\u001b[0m\u001b[0m\n\u001b[1;32m----> 3\u001b[1;33m \u001b[1;32mimport\u001b[0m \u001b[0mmatplotlib\u001b[0m \u001b[1;32mas\u001b[0m \u001b[0mmpl\u001b[0m\u001b[1;33m\u001b[0m\u001b[1;33m\u001b[0m\u001b[0m\n\u001b[0m\u001b[0;32m      4\u001b[0m \u001b[1;32mfrom\u001b[0m \u001b[0mcycler\u001b[0m \u001b[1;32mimport\u001b[0m \u001b[0mcycler\u001b[0m\u001b[1;33m\u001b[0m\u001b[1;33m\u001b[0m\u001b[0m\n\u001b[0;32m      5\u001b[0m \u001b[1;32mfrom\u001b[0m \u001b[1;33m.\u001b[0m \u001b[1;32mimport\u001b[0m \u001b[0mpalettes\u001b[0m\u001b[1;33m\u001b[0m\u001b[1;33m\u001b[0m\u001b[0m\n",
      "\u001b[1;32mc:\\users\\shrav\\appdata\\local\\programs\\python\\python39\\lib\\site-packages\\matplotlib\\__init__.py\u001b[0m in \u001b[0;36m<module>\u001b[1;34m\u001b[0m\n\u001b[0;32m    157\u001b[0m \u001b[1;31m# cbook must import matplotlib only within function\u001b[0m\u001b[1;33m\u001b[0m\u001b[1;33m\u001b[0m\u001b[1;33m\u001b[0m\u001b[0m\n\u001b[0;32m    158\u001b[0m \u001b[1;31m# definitions, so it is safe to import from it here.\u001b[0m\u001b[1;33m\u001b[0m\u001b[1;33m\u001b[0m\u001b[1;33m\u001b[0m\u001b[0m\n\u001b[1;32m--> 159\u001b[1;33m \u001b[1;32mfrom\u001b[0m \u001b[1;33m.\u001b[0m \u001b[1;32mimport\u001b[0m \u001b[0m_api\u001b[0m\u001b[1;33m,\u001b[0m \u001b[0m_version\u001b[0m\u001b[1;33m,\u001b[0m \u001b[0mcbook\u001b[0m\u001b[1;33m,\u001b[0m \u001b[0m_docstring\u001b[0m\u001b[1;33m,\u001b[0m \u001b[0mrcsetup\u001b[0m\u001b[1;33m\u001b[0m\u001b[1;33m\u001b[0m\u001b[0m\n\u001b[0m\u001b[0;32m    160\u001b[0m \u001b[1;32mfrom\u001b[0m \u001b[0mmatplotlib\u001b[0m\u001b[1;33m.\u001b[0m\u001b[0mcbook\u001b[0m \u001b[1;32mimport\u001b[0m \u001b[0msanitize_sequence\u001b[0m\u001b[1;33m\u001b[0m\u001b[1;33m\u001b[0m\u001b[0m\n\u001b[0;32m    161\u001b[0m \u001b[1;32mfrom\u001b[0m \u001b[0mmatplotlib\u001b[0m\u001b[1;33m.\u001b[0m\u001b[0m_api\u001b[0m \u001b[1;32mimport\u001b[0m \u001b[0mMatplotlibDeprecationWarning\u001b[0m\u001b[1;33m\u001b[0m\u001b[1;33m\u001b[0m\u001b[0m\n",
      "\u001b[1;32mc:\\users\\shrav\\appdata\\local\\programs\\python\\python39\\lib\\site-packages\\matplotlib\\cbook\\__init__.py\u001b[0m in \u001b[0;36m<module>\u001b[1;34m\u001b[0m\n\u001b[0;32m     30\u001b[0m \u001b[1;32mimport\u001b[0m \u001b[0mmatplotlib\u001b[0m\u001b[1;33m\u001b[0m\u001b[1;33m\u001b[0m\u001b[0m\n\u001b[0;32m     31\u001b[0m \u001b[1;32mfrom\u001b[0m \u001b[0mmatplotlib\u001b[0m \u001b[1;32mimport\u001b[0m \u001b[0m_api\u001b[0m\u001b[1;33m,\u001b[0m \u001b[0m_c_internal_utils\u001b[0m\u001b[1;33m\u001b[0m\u001b[1;33m\u001b[0m\u001b[0m\n\u001b[1;32m---> 32\u001b[1;33m from matplotlib._api.deprecation import (\n\u001b[0m\u001b[0;32m     33\u001b[0m     MatplotlibDeprecationWarning, mplDeprecation)\n\u001b[0;32m     34\u001b[0m \u001b[1;33m\u001b[0m\u001b[0m\n",
      "\u001b[1;31mImportError\u001b[0m: cannot import name 'mplDeprecation' from 'matplotlib._api.deprecation' (c:\\users\\shrav\\appdata\\local\\programs\\python\\python39\\lib\\site-packages\\matplotlib\\_api\\deprecation.py)"
     ]
    }
   ],
   "source": [
    "import numpy as np\n",
    "import pandas as pd\n",
    "import seaborn as sns\n",
    "import matplotlib.pyplot as plt\n",
    "\n",
    "from mpl_toolkits.mplot3d import Axes3D\n",
    "import plotly.express as px\n",
    "\n",
    "import warnings\n",
    "# Ignore all warnings\n",
    "warnings.filterwarnings(\"ignore\")\n",
    "\n",
    "from IPython.display import display, HTML\n",
    "from pywaffle import Waffle"
   ]
  },
  {
   "cell_type": "code",
   "execution_count": null,
   "id": "fde23836-e5d1-4aca-abd6-b9b427ad7743",
   "metadata": {},
   "outputs": [],
   "source": [
    "subject_i = pd.read_csv(\"subject-info.csv\")"
   ]
  },
  {
   "cell_type": "code",
   "execution_count": null,
   "id": "59b02de4-0931-4aca-bfe4-d046b35aaa70",
   "metadata": {},
   "outputs": [],
   "source": [
    "test_m = pd.read_csv(\"test_measure.csv\")"
   ]
  },
  {
   "cell_type": "markdown",
   "id": "4a460961-e348-4f02-a12c-665bc355e370",
   "metadata": {},
   "source": [
    "### 1. What is the average age of Female athletes who participated in this graded exercise tests?\n"
   ]
  },
  {
   "cell_type": "code",
   "execution_count": null,
   "id": "24c7f636-a65e-4e6d-95f8-8dcbc1d436e8",
   "metadata": {},
   "outputs": [],
   "source": [
    "female=subject_i[subject_i[\"Sex\"]==1]\n",
    "avg_age= np.mean(female['Age'])\n",
    "print(f\"Average age of Female Athletes who participated in the Graded Excercise tests is {avg_age}.\")"
   ]
  },
  {
   "cell_type": "markdown",
   "id": "3aaaedd7-ca03-4bd0-8ac0-7a2451c9121b",
   "metadata": {},
   "source": [
    "### 2. Visualize age distribution of all athletes and display the median value in the chart."
   ]
  },
  {
   "cell_type": "code",
   "execution_count": null,
   "id": "1b5eedc9-b61e-4d6d-9ba2-1b98df1cb7b9",
   "metadata": {},
   "outputs": [],
   "source": [
    "    \n",
    "plt.plot(subject_i['Age'], label='Age',marker='o', ms=2.5, mfc='cyan')\n",
    "mean_age=subject_i['Age'].mean()\n",
    "print(subject_i['Age'],mean_age)\n",
    "\n",
    "plt.axhline(mean_age, color='red', linestyle='--', label=f'Mean = {mean_age:.2f}')\n",
    "plt.legend()\n",
    "plt.show()"
   ]
  },
  {
   "cell_type": "markdown",
   "id": "665a14c0-1c0f-44d6-b3ec-1f2010120747",
   "metadata": {},
   "source": [
    "### 3.\tFind the maximum time taken for all tests and then visualize the distribution of number of tests based on the test duration in minutes.Use a line chart and display the count of tests in the chart as well.\n"
   ]
  },
  {
   "cell_type": "code",
   "execution_count": null,
   "id": "6fed32b8-ba2e-45c0-a089-86e07519c39f",
   "metadata": {},
   "outputs": [],
   "source": [
    "plt.figure(figsize=(18,8))\n",
    "Time=pd.DataFrame(test_m['ID_test'], columns=['ID_test'])\n",
    "Time['time']=test_m['time']/60\n",
    "\n",
    "Time['suff_testid']=Time['ID_test'].str.split('_').str[1]\n",
    "\n",
    "new_t= pd.DataFrame(Time.groupby(['suff_testid'])['time'].max())\n",
    "new_t = new_t.rename(columns={'time': 'maxtime'})\n",
    "m2= new_t.sort_values(by='suff_testid', key=lambda x: x.astype(int))\n",
    "new_t1= pd.DataFrame(Time.groupby(['suff_testid'])['suff_testid'].count())\n",
    "new_t1 = new_t1.rename(columns={'suff_testid': 'Count'})\n",
    "merged_df = pd.merge(new_t, new_t1, on='suff_testid', how='inner')\n",
    "merged_df=merged_df.sort_values(by='suff_testid', key=lambda x: x.astype(int))\n",
    "\n",
    "print(merged_df)\n",
    "y=m2['maxtime']\n",
    "\n",
    "plt.tight_layout()\n",
    "plt.xticks(rotation=90, ha='right')\n",
    "plt.plot(y)\n",
    "plt.title('Max Time in minutes per Test')\n",
    "plt.xlabel('Testid')\n",
    "plt.ylabel('Max Time')\n",
    "plt.show()"
   ]
  },
  {
   "cell_type": "markdown",
   "id": "e99f0e34-9f27-42bc-9717-3ca80d0d0b13",
   "metadata": {},
   "source": [
    "### 4. Display the consolidated list of overweight or obese people based on their BMI."
   ]
  },
  {
   "cell_type": "code",
   "execution_count": null,
   "id": "4a892bc9-f09a-4d4f-a2a1-7bc290ede065",
   "metadata": {},
   "outputs": [],
   "source": [
    "#BMI = Weight (kg) / [Height (cm)/100] /^2  \n",
    "#BMI between 25 and 29.9 is considered overweight. \n",
    "\n",
    "BMI=pd.DataFrame(subject_i['ID'],columns=['ID'])\n",
    "BMI['Weight']=subject_i['Weight']\n",
    "BMI['Height']=subject_i['Height']\n",
    "BMI['BMI']=subject_i['Weight']/((subject_i['Height']/100)**2)\n",
    "#BMI['Age']=subject_i['Age']\n",
    "Overweight= BMI[(BMI['BMI'] > 25) & (BMI['BMI'] < 29.9)]\n",
    "print('List of Overweight or obese people as per their BMI:')\n",
    "print(Overweight)"
   ]
  },
  {
   "cell_type": "markdown",
   "id": "07a1d1e4-ad18-47b7-9d2d-dc8e6155c150",
   "metadata": {},
   "source": [
    "### 5.\tCreate a heatmap to visualize the correlations among any three cardiorespiratory measurements, Age, and BMI."
   ]
  },
  {
   "cell_type": "code",
   "execution_count": null,
   "id": "b8d0ae91-09ed-425e-ad3e-c47670d45285",
   "metadata": {},
   "outputs": [],
   "source": [
    "\n",
    "plt.figure(figsize=(8,8))\n",
    "sns.set_context('paper', font_scale=1.4)\n",
    "\n",
    "HR_H=pd.DataFrame(subject_i['ID_test'],columns=['ID_test'])\n",
    "HR_H['Age']=subject_i['Age']\n",
    "HR_H['BMI']=BMI['BMI']\n",
    "#print(HR_H)\n",
    "\n",
    "#grouped = merged_HR.groupby(['ID_test'])['HR'].mean().unstack()\n",
    "\n",
    "\n",
    "heat=pd.DataFrame(test_m['ID_test'], columns=['ID_test'])\n",
    "heat['HR']=test_m['HR']\n",
    "heat.fillna(test_m['HR'].mean(), inplace=True)\n",
    "heat.groupby(['ID_test'])['HR'].mean()\n",
    "#print(heat)\n",
    "\n",
    "merged_HR = pd.merge(HR_H, heat, on='ID_test', how='inner')\n",
    "merged_HR['Age'] = merged_HR['Age'].round(1).astype(int)\n",
    "merged_HR['BMI'] = merged_HR['BMI'].round(1).astype(int)\n",
    "\n",
    "#print(merged_HR)\n",
    "merged_HR = merged_HR.pivot_table(index='BMI', columns='Age', values='HR')\n",
    "plt.title(\"Heart Rate with correspondance to Age and BMI\")\n",
    "sns.heatmap(merged_HR, cmap='Blues', linewidth=0.1)\n",
    "plt.show()"
   ]
  },
  {
   "cell_type": "code",
   "execution_count": null,
   "id": "c352d608",
   "metadata": {},
   "outputs": [],
   "source": [
    "plt.figure(figsize=(9,6))\n",
    "sns.set_context('paper', font_scale=1.4)\n",
    "\n",
    "Vo2_H=pd.DataFrame(subject_i['ID_test'],columns=['ID_test'])\n",
    "Vo2_H['Age']=subject_i['Age']\n",
    "Vo2_H['BMI']=BMI['BMI']\n",
    "#print(HR_H)\n",
    "\n",
    "#grouped = merged_HR.groupby(['ID_test'])['HR'].mean().unstack()\n",
    "\n",
    "\n",
    "heat=pd.DataFrame(test_m['ID_test'], columns=['ID_test'])\n",
    "heat['VO2']=test_m['VO2']\n",
    "#heat.fillna(test_m['HR'].mean(), inplace=True)\n",
    "#heat.groupby(['ID_test'])['HR'].mean()\n",
    "#print(heat)\n",
    "\n",
    "merged_vo2 = pd.merge(Vo2_H, heat, on='ID_test', how='inner')\n",
    "merged_vo2['Age'] = merged_vo2['Age'].round(1).astype(int)\n",
    "merged_vo2['BMI'] = merged_vo2['BMI'].round(1).astype(int)\n",
    "\n",
    "#print(merged_HR)\n",
    "merged_vo2 = merged_vo2.pivot_table(index='Age', columns='BMI', values='VO2')\n",
    "sns.heatmap(merged_vo2, cmap='Oranges', linewidth=0.1)\n",
    "plt.title(\"Heart Rate with correspondance to Age and BMI\")\n",
    "plt.show()"
   ]
  },
  {
   "cell_type": "code",
   "execution_count": null,
   "id": "1fb1c3b1",
   "metadata": {},
   "outputs": [],
   "source": [
    "plt.figure(figsize=(9,6))\n",
    "sns.set_context('paper', font_scale=1.4)\n",
    "\n",
    "Vco2_H=pd.DataFrame(subject_i['ID_test'],columns=['ID_test'])\n",
    "Vco2_H['Age']=subject_i['Age']\n",
    "Vco2_H['BMI']=BMI['BMI']\n",
    "\n",
    "heat=pd.DataFrame(test_m['ID_test'], columns=['ID_test'])\n",
    "heat['VCO2']=test_m['VCO2']\n",
    "\n",
    "\n",
    "merged_vco2 = pd.merge(Vco2_H, heat, on='ID_test', how='inner')\n",
    "merged_vco2['Age'] = merged_vco2['Age'].round(1).astype(int)\n",
    "merged_vco2['BMI'] = merged_vco2['BMI'].round(1).astype(int)\n",
    "\n",
    "#print(merged_HR)\n",
    "merged_vco2 = merged_vco2.pivot_table(index='Age', columns='BMI', values='VCO2')\n",
    "sns.heatmap(merged_vco2, cmap='Oranges', linewidth=0.1)\n",
    "plt.title(\"Heart Rate with correspondance to Age and BMI\")\n",
    "plt.show(block=True)"
   ]
  },
  {
   "cell_type": "markdown",
   "id": "8ecfdfe0-ea25-404b-a809-4d7ca749db9f",
   "metadata": {},
   "source": [
    "### 6 Generate subplots for second-degree trigonometric functions,using x=np.arange(0,4*np.pi,0.1) in object oriented approach. Label every π interval on X axis."
   ]
  },
  {
   "cell_type": "code",
   "execution_count": null,
   "id": "02d8b7eb-e8c5-4309-afd8-e4245287f255",
   "metadata": {},
   "outputs": [],
   "source": [
    "plt.figure(figsize=(12, 6))\n",
    "plt.subplot(1,2,1)\n",
    "x=np.arange(0,4*np.pi,0.1)\n",
    "y = np.sin(x)**2\n",
    "plt.plot(x, y)\n",
    "xticks = [0, np.pi, 2*np.pi, 3*np.pi, 4*np.pi]\n",
    "xtick_labels = ['0', 'pi', '2pi', '3pi', '4pi']\n",
    "plt.xticks(xticks, xtick_labels)\n",
    "plt.title(\"y = sin^2(x)\")\n",
    "plt.xlabel(\"x\")\n",
    "plt.ylabel(\"y\")\n",
    "\n",
    "plt.subplot(1,2,2)\n",
    "x=np.arange(0,4*np.pi,0.1)\n",
    "y = np.cos(x)**2\n",
    "plt.plot(x, y)\n",
    "xticks = [0, np.pi, 2*np.pi, 3*np.pi, 4*np.pi]\n",
    "xtick_labels = ['0', 'pi', '2pi', '3pi', '4pi']\n",
    "plt.xticks(xticks, xtick_labels)\n",
    "plt.title(\"y = cos^2(x)\")\n",
    "plt.xlabel(\"x\")\n",
    "plt.ylabel(\"y\")\n",
    "\n",
    "\n",
    "plt.subplots_adjust(wspace=0.4) \n",
    "\n",
    "plt.show()"
   ]
  },
  {
   "cell_type": "markdown",
   "id": "957056f0-17bf-4870-8dd4-834f945d9128",
   "metadata": {},
   "source": [
    "### 7. Get a number from the user and print its multiplication table from 1 to 10."
   ]
  },
  {
   "cell_type": "code",
   "execution_count": null,
   "id": "79ea774a-a5bd-483e-bc34-f675a6f09006",
   "metadata": {},
   "outputs": [],
   "source": [
    "n = int(input(\"Enter an integer number: \"))\n",
    "\n",
    "i=1\n",
    "print(f\"Multiplication table for {n}\")\n",
    "for i in range(1,11):\n",
    "  m=n*i\n",
    "  print(f\"{n}*{i} ={m}\")\n",
    "\n",
    "  i +=1\n",
    "  if i == 11:\n",
    "      break\n"
   ]
  },
  {
   "cell_type": "markdown",
   "id": "80a2ca47",
   "metadata": {},
   "source": [
    "### 8. Write a function to display a correlation matrix between speed of the treadmill and any cardiorespiratory measurement of the athelete. (Exclude warmup period)."
   ]
  },
  {
   "cell_type": "code",
   "execution_count": null,
   "id": "d8540997",
   "metadata": {},
   "outputs": [],
   "source": [
    "#assuming the Warmup peroid as a HR under 95\n",
    "\n",
    "CR1=pd.DataFrame(test_m['ID_test'], columns=['ID_test'])\n",
    "CR1['speed']=test_m['Speed']\n",
    "CR1['HR']=test_m['HR']\n",
    "CR1=CR1[CR1['HR']>=95]\n",
    "def display_hr_speed_correlation(df, method='kendall', figsize=(6, 5), annot=True, cmap='coolwarm'):\n",
    "\n",
    "    df = df.reset_index(drop=True)  \n",
    "    subset = df[['HR', 'speed']].dropna() \n",
    "    corr = subset.corr(method=method)\n",
    "    # plt.figure(figsize=figsize)\n",
    "    # sns.heatmap(corr, annot=annot, cmap=cmap, fmt=\".2f\", square=True, linewidths=0.5)\n",
    "    # plt.title(f'{method.capitalize()} Correlation between HR and Speed', fontsize=14)\n",
    "    # plt.xticks()\n",
    "    # plt.yticks()\n",
    "    # plt.show()\n",
    "    return corr\n",
    "\n",
    "c1= display_hr_speed_correlation(CR1)\n",
    "print(\"Below is the correlation matrix for Speed Vs Heart rate:\")\n",
    "print(c1)"
   ]
  },
  {
   "cell_type": "markdown",
   "id": "2453f369",
   "metadata": {},
   "source": [
    "### 9\tWhat percentage of athletes exceeded 90% of max HR after warm up period? "
   ]
  },
  {
   "cell_type": "code",
   "execution_count": null,
   "id": "55ab3ae5",
   "metadata": {},
   "outputs": [],
   "source": [
    "#considering 10 minutes as warm up peroid\n",
    "\n",
    "DF= pd.DataFrame(test_m['HR'], columns=['HR'])\n",
    "DF['ID']=test_m['ID']\n",
    "DF['time']=test_m['time']\n",
    "#print(DF)\n",
    "total_participants=DF['ID'].nunique()\n",
    "maxhr90=DF['HR'].max()*.90\n",
    "#print(maxhr90,total_participants)\n",
    "\n",
    "above_90=DF[(DF[\"HR\"]>maxhr90) & (DF[\"time\"]>600)]\n",
    "Participants_abv90=above_90['ID'].nunique()\n",
    "#print(above_90)\n",
    "#print(Participants_abv90)\n",
    "\n",
    "Total_percentage=Participants_abv90/total_participants*100\n",
    "\n",
    "print(f'{Total_percentage}% of total partocoapnts have exceeded the 90 % of max HR after warm up peroid')"
   ]
  },
  {
   "cell_type": "markdown",
   "id": "ed265903",
   "metadata": {},
   "source": [
    "### 10 Which athlete spent the longest time period in this exercise program to complete all of their cardiorespiratory measurements (including the time interval between different test cases)?"
   ]
  },
  {
   "cell_type": "code",
   "execution_count": null,
   "id": "1d8125dc",
   "metadata": {},
   "outputs": [],
   "source": [
    "Time1=pd.DataFrame(test_m['ID_test'], columns=['ID_test'])\n",
    "Time1['time']=test_m['time']\n",
    "Time1['ID']=test_m['ID']\n",
    "\n",
    "time_grp=Time1.groupby(['ID_test'])\n",
    "t1=time_grp.max()\n",
    "new_tm=pd.DataFrame(t1.groupby(['ID'])['time'].sum())\n",
    "\n",
    "max2 =new_tm['time'].idxmax()\n",
    "max1= new_tm.loc[max2]\n",
    "\n",
    "print(f'Participant {max2} spent the longest time in the exercise program. Time spent by them is {max1['time']} seconds')"
   ]
  },
  {
   "cell_type": "markdown",
   "id": "a4591cf7-c463-46a6-a1f9-61ae30982dd6",
   "metadata": {},
   "source": [
    "### 11.\tPlot a 3-D graph using any set of random values chosen by you"
   ]
  },
  {
   "cell_type": "code",
   "execution_count": null,
   "id": "f1483574-5cb1-45b1-9ea3-cc4e237e9e8e",
   "metadata": {},
   "outputs": [],
   "source": [
    "from mpl_toolkits.mplot3d import Axes3D\n",
    "\n",
    "x=np.random.randint(0,100,10)\n",
    "y=np.random.randint(10,100,10)\n",
    "z=[1,20,50,23,45,68,78,41,39,90]\n",
    "fig=plt.figure()  #This creates a new figure canvas using matplotlib.pyplot.figure().\n",
    "ax = fig.add_subplot(111, projection='3d') #represents your 3D axes object.\n",
    "ax.plot3D(x, y, z, 'orange', marker='*', mec='b', mfc='blue')\n",
    "plt.show()"
   ]
  },
  {
   "cell_type": "markdown",
   "id": "0245c626-6188-4461-80f4-f742de6feee1",
   "metadata": {},
   "source": [
    "### 12.connect to database using PostgreSQL and get the details of participants in test 1 and age > 50"
   ]
  },
  {
   "cell_type": "code",
   "execution_count": null,
   "id": "de15001a-071d-451b-9fdb-97dca010e186",
   "metadata": {},
   "outputs": [],
   "source": [
    "import psycopg2\n",
    "\n",
    "conn = psycopg2.connect(\n",
    "    dbname=\"dvdrental\",\n",
    "    user=\"postgres\",\n",
    "    password=\"postgres\",\n",
    "    host=\"localhost\",\n",
    "    port=\"5432\"\n",
    ")\n",
    "\n",
    "cur = conn.cursor()\n",
    "\n",
    "cur.execute(\"\"\"\n",
    "select * from subject_info \n",
    "where \n",
    "\"Age\" > 50\n",
    "and\n",
    "rtrim(\"ID_test\") like '%\\\\_1' escape '\\\\';\n",
    "\"\"\")\n",
    "\n",
    "column_names = [desc[0] for desc in cur.description]\n",
    "results = cur.fetchall()\n",
    "\n",
    "print(\"  \".join(column_names))\n",
    "\n",
    "for row in results:\n",
    "  print(\"\\t\".join(str(item) for item in row))\n",
    "  \n",
    "cur.close()\n",
    "conn.close()"
   ]
  },
  {
   "cell_type": "code",
   "execution_count": null,
   "id": "4139db35-dd0a-4b3f-be90-b3a80f396f4c",
   "metadata": {},
   "outputs": [],
   "source": []
  },
  {
   "cell_type": "markdown",
   "id": "52cd8f48-3eed-4caf-8dfa-964934069ca5",
   "metadata": {},
   "source": [
    "### 13\tMake athelete ID as index to the subject_info table and arrange index in sorted order.\n"
   ]
  },
  {
   "cell_type": "code",
   "execution_count": null,
   "id": "bd824ecb-563f-4a51-a8dd-9875e83ce439",
   "metadata": {},
   "outputs": [],
   "source": [
    "subject_i1=subject_i\n",
    "subject_i1.set_index('ID', inplace=True)\n",
    "subject_i1=subject_i1.sort_index()\n",
    "print(subject_i1)"
   ]
  },
  {
   "cell_type": "markdown",
   "id": "4be41f2d-f7a9-4bc3-a133-35edbcac8032",
   "metadata": {},
   "source": [
    "### 14. Calculate RER (Respiratory Exchange Ratio) , and categorize exercise phase to warmup, moderate, peak exercise according to RER."
   ]
  },
  {
   "cell_type": "code",
   "execution_count": null,
   "id": "913f949d-1232-480d-a0a2-c0a35f997d51",
   "metadata": {},
   "outputs": [],
   "source": [
    "# RER=the ratio of carbon dioxide (CO2) produced to oxygen (O2) consumed\n",
    "test1=pd.DataFrame(test_m['ID'], columns=['ID'])\n",
    "test1['VCO2']=test_m['VCO2']\n",
    "test1['VO2']=test_m['VO2']\n",
    "test1['ID_test']=test_m['ID_test']\n",
    "test1['RER'] =test1['VCO2']/test1['VO2']\n",
    "test1['RER']=test1['RER'].fillna(test1['RER'].mean())\n",
    "test1.sort_values(\"RER\", inplace=True)\n",
    "\n",
    "#assuming the RER range from warmup, moderate and peak exercise as 0.5-0.85- 1\n",
    "#warmup -0.5 to 0.85\n",
    "#moderate - 0.85 - 1\n",
    "#peak greater than 1\n",
    "\n",
    "def categorize(RER):\n",
    " if RER >=1 :\n",
    "    return 'Peak Exercise'\n",
    "\n",
    " elif RER >=0.85:\n",
    "      return 'Moderate Exercise'\n",
    "\n",
    " else:\n",
    "      return 'Warmup'\n",
    "\n",
    "test1['category'] = test1['RER'].apply(categorize)\n",
    "\n",
    "print(test1 )"
   ]
  },
  {
   "cell_type": "markdown",
   "id": "3aaacfc0-9aaf-4f34-8a33-4c3b144dd616",
   "metadata": {},
   "source": [
    "### 15\tCalculate the moving average(rolling mean) of HR for participant with ID 2 in a window size of 10 and plot a graph to show both moving average and original HR.\n",
    "\n"
   ]
  },
  {
   "cell_type": "code",
   "execution_count": null,
   "id": "d61e838c-697f-489b-ab0e-399be3d3ac27",
   "metadata": {},
   "outputs": [],
   "source": [
    "\n",
    "mov_avg=pd.DataFrame(test_m[test_m['ID']==2], columns=['HR'])\n",
    "mov_avg['moving_avg'] = mov_avg['HR'].rolling(window=10).mean()\n",
    "\n",
    "mov_avg['moving_avg'].fillna(mov_avg['moving_avg'].mean(), inplace=True)\n",
    "print(mov_avg)\n",
    "\n",
    "plt.plot(mov_avg['HR'], label='Original HR')\n",
    "plt.plot(mov_avg['moving_avg'], label='10-Point Moving Avg', linewidth=2)\n",
    "plt.title('Heart Rate and Moving Average')\n",
    "plt.xlabel('Index')\n",
    "plt.ylabel('HR')\n",
    "plt.legend()\n",
    "plt.show()\n"
   ]
  },
  {
   "cell_type": "markdown",
   "id": "23632637",
   "metadata": {},
   "source": [
    "### 16 What was the average time each test lasted for all athletes ?"
   ]
  },
  {
   "cell_type": "code",
   "execution_count": null,
   "id": "2a2428bd-88b8-497d-a07a-7c6b16738139",
   "metadata": {},
   "outputs": [],
   "source": [
    "Time=pd.DataFrame(test_m['ID_test'], columns=['ID_test'])\n",
    "Time['time']=test_m['time']\n",
    "\n",
    "\n",
    "new_t= pd.DataFrame(Time.groupby(['ID_test'])['time'].max().reset_index())\n",
    "new_t = new_t.rename(columns={'time': 'maxtime'})\n",
    "new_t['testid']=new_t['ID_test'].str.split('_').str[1]\n",
    "\n",
    "new_t2= pd.DataFrame(new_t.groupby(['testid'])['maxtime'].mean().reset_index())\n",
    "new_t2= new_t2.sort_values(by='testid', key=lambda x: x.astype(int))\n",
    "\n",
    "print(\"Below are the average times taken by all the participants for each test:\")\n",
    "print(new_t2)"
   ]
  },
  {
   "cell_type": "markdown",
   "id": "0fec5e52-dfba-45d3-a7b9-6cc6de7232f1",
   "metadata": {},
   "source": [
    "### 17.Display a histogram showing the distribution of athletes by their BMI values."
   ]
  },
  {
   "cell_type": "code",
   "execution_count": null,
   "id": "a1b00fa3-c69f-48e6-ba2d-d447bbd8c076",
   "metadata": {},
   "outputs": [],
   "source": [
    "#Calculating the BMI values\n",
    "subject_df = subject_i.copy()\n",
    "subject_df['BMI'] = round(subject_df['Weight'] / ((subject_df['Height'] /100) **2),1)\n",
    "#print(subject_i['BMI'])\n",
    "\n",
    "#histogram plot for BMI distribution\n",
    "plt.figure(figsize=(8,5))\n",
    "counts, bins, patches = plt.hist(subject_df['BMI'], bins=8, edgecolor='black')\n",
    "#print(\"Bin edges:\", bins)\n",
    "#print(\"Frequencies:\", counts)\n",
    "plt.title('Distribution of BMI Values')\n",
    "plt.xlabel('BMI')\n",
    "plt.ylabel('Frequency')\n",
    "plt.grid(axis='y', linestyle='--', alpha=0.7)\n",
    "\n",
    "# Label each bar with the count on top\n",
    "for count, patch in zip(counts, patches):\n",
    "    height = patch.get_height()\n",
    "    plt.text(\n",
    "        patch.get_x() + patch.get_width() / 2,  # X-position (center of bar)\n",
    "        height + 1,                             # Y-position (slightly above bar)\n",
    "        int(count),                             # Text (count value)\n",
    "        ha='center', va='bottom', fontsize=10, color='RED'  # Label alignment, fontsize and its color\n",
    "            )\n",
    "\n",
    "plt.show()\n",
    "\n"
   ]
  },
  {
   "cell_type": "markdown",
   "id": "378963a2-0dd9-4e0b-842f-ce1fd039cf4f",
   "metadata": {},
   "source": [
    "### 18. \" Who is the tallest participant in the dataset? What is  his/her Vo2 kg/ml?\""
   ]
  },
  {
   "cell_type": "code",
   "execution_count": null,
   "id": "deb6a2df-e052-499e-9517-49fc4d88a64b",
   "metadata": {},
   "outputs": [],
   "source": [
    "# Merge the two DataFrames on 'ID'\n",
    "combined_df = pd.merge(subject_i, test_m, on='ID')\n",
    "\n",
    "# Find the tallest person\n",
    "tallest_person = combined_df[combined_df['Height'] == combined_df['Height'].max()]\n",
    "print(f\"ID of the Tallest Person in the Dataset is: {tallest_person['ID'].values[0]}\")\n",
    "\n",
    "# Calculate peak VO2 per kg\n",
    "max_vo2 = tallest_person['VO2'].max()\n",
    "vo2_kg_ml = max_vo2 / tallest_person['Weight'].iloc[0]\n",
    "print(\"Peak VO₂ (mL/kg/min):\", round(vo2_kg_ml, 2))\n",
    "\n"
   ]
  },
  {
   "cell_type": "markdown",
   "id": "11254e03-fe34-4cd4-8ce4-a19f24fb5398",
   "metadata": {},
   "source": [
    "### 19.\"What is the highest recorded heart rate ? Identify the patient with the highest recorded heart rate.\""
   ]
  },
  {
   "cell_type": "code",
   "execution_count": null,
   "id": "4bcbf9c9-851c-47ed-9e41-267969e675ed",
   "metadata": {},
   "outputs": [],
   "source": [
    "# Find the maximum heart rate value from the test data\n",
    "print(\"Highest Heart Rate:\")\n",
    "print(test_m['HR'].max())\n",
    "\n",
    "# Filter the combined DataFrame to get the row(s) with the highest heart rate\n",
    "Highest_HR = combined_df[combined_df['HR'] == combined_df['HR'].max()]\n",
    "\n",
    "# Display ID, Sex, and HR of the person(s) with the highest heart rate\n",
    "print(\"ID, Sex, and Heart Rate of the individual(s) with the highest HR:\")\n",
    "print(Highest_HR[['ID', 'Sex', 'HR']])\n"
   ]
  },
  {
   "cell_type": "markdown",
   "id": "64048f2c-6061-4c3d-95e4-93e436bb6d9c",
   "metadata": {},
   "source": [
    "### 20.What is the VO2 max(mL/kg/min) of the shortest male athlete?"
   ]
  },
  {
   "cell_type": "code",
   "execution_count": null,
   "id": "4afe092e-8331-45cd-9873-0370ef94d210",
   "metadata": {},
   "outputs": [],
   "source": [
    "# Filter only male athletes\n",
    "male_athletes = subject_i[subject_i['Sex'] == 0]\n",
    "\n",
    "# Find the shortest height among male athletes\n",
    "shortest_height = male_athletes['Height'].min()\n",
    "\n",
    "# Get the male athlete with that shortest height\n",
    "shortest_male = male_athletes[male_athletes['Height'] == shortest_height]\n",
    "\n",
    "# Get the ID of the shortest male\n",
    "shortest_male_id = shortest_male['ID'].values[0]\n",
    "\n",
    "# Find all test records for that ID\n",
    "shortest_male_tests = test_m[test_m['ID'] == shortest_male_id]\n",
    "\n",
    "# Find the max VO2 from their test data\n",
    "max_vo2 = shortest_male_tests['VO2'].max()\n",
    "\n",
    "# Get their weight from subject_i\n",
    "weight_kg = shortest_male['Weight'].values[0]\n",
    "\n",
    "# Calculate VO2 max in mL/kg/min\n",
    "vo2_max_per_kg = max_vo2 / weight_kg\n",
    "\n",
    "# Print result\n",
    "print(f\"Shortest Male Athlete ID: {shortest_male_id}\")\n",
    "print(f\"Height: {shortest_height} cm\")\n",
    "print(f\"Weight: {weight_kg} kg\")\n",
    "print(f\"VO₂ max: {round(vo2_max_per_kg, 2)} mL/kg/min\")\n",
    "\n"
   ]
  },
  {
   "cell_type": "markdown",
   "id": "72e954d3-04ba-4eb9-b9ef-29a3a7905a28",
   "metadata": {},
   "source": [
    "### 21.\"Analyze the mean VO2 and VCO2 values by humidity level using a Multiseries Bar Chart.Based on your findings, how does low humidity affect respiratory and cardiovascular function during exercise (VO2 and VCO2) ? Humidity level (<30 - Low) , (30 to 60 - Normal ) ,(>60 - High)\""
   ]
  },
  {
   "cell_type": "code",
   "execution_count": null,
   "id": "ee086673-c5b1-4870-a83d-d6842b7db312",
   "metadata": {},
   "outputs": [],
   "source": [
    "# Create Humidity Category\n",
    "def categorize_humidity(h):\n",
    "    if h < 30:\n",
    "        return 'Low'\n",
    "    elif h <= 60:\n",
    "        return 'Normal'\n",
    "    else:\n",
    "        return 'High'\n",
    "\n",
    "# Apply the categorization\n",
    "combined_df['Humidity_Level'] = combined_df['Humidity'].apply(categorize_humidity)\n",
    "\n",
    "# Group and calculate means\n",
    "mean_values = combined_df.groupby('Humidity_Level')[['VO2', 'VCO2']].mean().reset_index()\n",
    "\n",
    "# Plot multiseries bar chart\n",
    "x = mean_values['Humidity_Level']\n",
    "vo2 = mean_values['VO2']\n",
    "vco2 = mean_values['VCO2']\n",
    "\n",
    "bar_width = 0.35\n",
    "index = range(len(x))\n",
    "\n",
    "plt.figure(figsize=(8, 5))\n",
    "vo2_bars = plt.bar(index, vo2, bar_width, label='VO₂ (mL/min)')\n",
    "vco2_bars = plt.bar([i + bar_width for i in index], vco2, bar_width, label='VCO₂ (mL/min)')\n",
    "\n",
    "# Setting lables to vo2 bars\n",
    "for bar in vo2_bars:\n",
    "    height = bar.get_height()\n",
    "    plt.text(bar.get_x() + bar.get_width()/2, height + 10, f'{height:.1f}', ha='center', va='bottom', fontsize=9)\n",
    "\n",
    "# Setting lables to vco2 bars\n",
    "for bar in vco2_bars:\n",
    "    height = bar.get_height()\n",
    "    plt.text(bar.get_x() + bar.get_width()/2, height + 10, f'{height:.1f}', ha='center', va='bottom', fontsize=9)\n",
    "\n",
    "plt.xlabel('Humidity Level')\n",
    "plt.ylabel('Mean Values (mL/min)')\n",
    "plt.title('Mean VO₂ and VCO₂ by Humidity Level')\n",
    "plt.xticks([i + bar_width / 2 for i in index], x)\n",
    "plt.legend()\n",
    "plt.tight_layout()\n",
    "plt.grid(axis='y', linestyle='--', alpha=0.5)\n",
    "plt.show()\n"
   ]
  },
  {
   "cell_type": "markdown",
   "id": "0a5d4597-d02f-4e5d-a0ed-995fc0de4831",
   "metadata": {},
   "source": [
    "### Analysis Summary:\n",
    "##### <i>Based on mean values among different humidity level, Oxygen consumption(vo2) and Carbon Dioxide Output(vco2) values are lower in low humidity and higher in normal and high humidity level this shows that low humidity may reduce respiratory and cardiovascular stress during exercise, while high humidity increases the <br>physiological load, leading to greater oxygen utilization and metabolic output.</i> "
   ]
  },
  {
   "cell_type": "code",
   "execution_count": null,
   "id": "05d15acf-07a1-4c95-baff-0af079153b1b",
   "metadata": {},
   "outputs": [],
   "source": []
  },
  {
   "cell_type": "markdown",
   "id": "7741300f-78cd-486b-bcb4-5b9a661f0454",
   "metadata": {},
   "source": [
    "### 22. \"Display the average speed of each participant  in ' peak exercise' based on RER (Following question no.14)\"\n",
    "\n"
   ]
  },
  {
   "cell_type": "code",
   "execution_count": null,
   "id": "600b72a7-6624-4fb1-991f-1e781ab1f0ae",
   "metadata": {},
   "outputs": [],
   "source": []
  },
  {
   "cell_type": "markdown",
   "id": "c178d71a-071e-4d1d-8db5-d5548cfa0f97",
   "metadata": {},
   "source": [
    "### 23.\"Assign one of the following 5 heart rate zones for every Athletes  and add this as a column to a new table with all unique IDs. <br> Exclude Warm-Up Phase\n",
    "Zone 1 (recovery/easy)       <100 HR max\n",
    "<br> Zone 2 (aerobic/base)        100-120 HR max\n",
    "<br>Zone 3 (tempo)        120-135 HR max\n",
    "<br>Zone 4 (lactate threshold)        135-155 HR max\n",
    "<br>Zone 5 (anaerobic)        155+ HR max and above\"\"\""
   ]
  },
  {
   "cell_type": "code",
   "execution_count": null,
   "id": "443ac2de-ee0e-427d-b041-7edf685fa340",
   "metadata": {},
   "outputs": [],
   "source": [
    "# excluding warm up phase, based on time(assuming warm-up is first 60 seconds)\n",
    "filtered = test_m[test_m['time'] > 30]\n",
    "\n",
    "# Get Mean HR per athlete\n",
    "mean_hr_by_id = filtered.groupby('ID')['HR'].mean().reset_index()\n",
    "mean_hr_by_id.rename(columns={'HR': 'Mean_HR'}, inplace=True)\n",
    "\n",
    "# Define function to assign heart rate zone\n",
    "def assign_hr_zone(hr):\n",
    "    if hr < 100:\n",
    "        return 'Zone 1 (Recovery/Easy)'\n",
    "    elif hr < 120:\n",
    "        return 'Zone 2 (Aerobic/Base)'\n",
    "    elif hr < 135:\n",
    "        return 'Zone 3 (Tempo)'\n",
    "    elif hr < 155:\n",
    "        return 'Zone 4 (Lactate Threshold)'\n",
    "    else:\n",
    "        return 'Zone 5 (Anaerobic)'\n",
    "\n",
    "# Apply the zone function\n",
    "mean_hr_by_id['HR_Zone'] = mean_hr_by_id['Mean_HR'].apply(assign_hr_zone)\n",
    "\n",
    "# unique athletes with their mean HR and assigned zone\n",
    "print(f\"Number of Unique IDs: {test_m['ID'].nunique()}\")\n",
    "print(mean_hr_by_id)\n"
   ]
  },
  {
   "cell_type": "code",
   "execution_count": null,
   "id": "41a51dfa-397c-4840-a0d4-02f91cee10f0",
   "metadata": {},
   "outputs": [],
   "source": []
  },
  {
   "cell_type": "markdown",
   "id": "f4336d23-e4e6-4d51-b92f-9e74f452db5b",
   "metadata": {},
   "source": [
    "### 24. Find the athlete who has got optimal respiratory stability based on the measure of  Breathing Interval variability over time."
   ]
  },
  {
   "cell_type": "code",
   "execution_count": null,
   "id": "9b8f069d-7b86-401f-811d-98cbf4e432a3",
   "metadata": {},
   "outputs": [],
   "source": [
    "# RR field has 3.4% null values, interpolating RR values\n",
    "test_m['RR'] = test_m.groupby('ID')['RR'].transform(lambda x: x.interpolate().ffill().bfill())\n",
    "test_m['RR'].isna().sum()\n",
    "\n",
    "# Breathing Interval in seconds\n",
    "filtered = test_m.copy()\n",
    "filtered['RR_Seconds'] = 60 / filtered['RR']\n",
    "\n",
    "# Calculating Standard Deviation for each participant based on breathing interval(secs)\n",
    "stand_dev = filtered.groupby('ID')['RR_Seconds'].std().reset_index()\n",
    "filtered.rename(columns = {'RR_Seconds' : 'RR_Seconds_std'}, inplace = True)\n",
    "\n",
    "# Finding the minimum standard deviation value of RR(sec's) to identify the steady and consistent breathing\n",
    "optimal_athlete_row = filtered.loc[filtered['RR_Seconds_std'].idxmin()]\n",
    "print(f\"Optimal Respiratory Stability Participant id is: {optimal_athlete_row['ID']}\")"
   ]
  },
  {
   "cell_type": "code",
   "execution_count": null,
   "id": "b52452ce-a730-46a6-8e05-cecf9e57096a",
   "metadata": {},
   "outputs": [],
   "source": []
  },
  {
   "cell_type": "markdown",
   "id": "e7793ed6-f849-4982-88a8-752623b08645",
   "metadata": {},
   "source": [
    "### 25. Generate a pie chart to show the gender-wise distribution of athletes."
   ]
  },
  {
   "cell_type": "code",
   "execution_count": null,
   "id": "96d9fcc0-22f7-4d56-80d7-618cce3b596c",
   "metadata": {},
   "outputs": [],
   "source": [
    "# Count gender distribution\n",
    "gender_counts = subject_i['Sex'].value_counts()\n",
    "\n",
    "# Assigning lables\n",
    "lables = ['Male', 'Female']\n",
    "\n",
    "# Plotting Pie chart\n",
    "plt.figure(figsize=(6,6))\n",
    "plt.pie(gender_counts, \n",
    "        labels = lables, \n",
    "        autopct =\"%1.1f%%\", \n",
    "        startangle = 90, \n",
    "        colors =['skyblue', 'lightpink']\n",
    "       )\n",
    "plt.title(\"Gender-wise Distribution of Atheletes\")\n",
    "plt.show()"
   ]
  },
  {
   "cell_type": "code",
   "execution_count": null,
   "id": "4642eb29-786a-4663-b3f8-a7b7d0fc6c0e",
   "metadata": {},
   "outputs": [],
   "source": []
  },
  {
   "cell_type": "markdown",
   "id": "46e755a3-3e46-44b9-89fe-eef5ec323be0",
   "metadata": {},
   "source": [
    "### 26. Use enumeration to print ID, Sex, and BMI of each athlete."
   ]
  },
  {
   "cell_type": "code",
   "execution_count": null,
   "id": "d76b432b-ac73-4a85-892f-fc5b496aaa64",
   "metadata": {},
   "outputs": [],
   "source": [
    "# Enumerate() adds counter to any iterables, we can access both item and index\n",
    "output = \"\"\n",
    "for i, row in enumerate(subject_df.itertuples(index=False), start=1):\n",
    "    output += f\"{i}. ID: {row.ID} | Sex: {'Male' if row.Sex == 'Male' else 'Female'} | BMI: {row.BMI}<br>\"\n",
    "\n",
    "# Wrap the entire output in a scrollable div\n",
    "display(HTML(f\"\"\"\n",
    "<div style=\"height:300px; overflow:auto; border:1px solid #ccc; padding:10px; font-family:monospace;\">\n",
    "{output}\n",
    "</div>\n",
    "\"\"\"))\n"
   ]
  },
  {
   "cell_type": "code",
   "execution_count": null,
   "id": "52a3d36b-28a3-455b-a2d6-bbc70a68a859",
   "metadata": {},
   "outputs": [],
   "source": []
  },
  {
   "cell_type": "markdown",
   "id": "db8d3fe9-fcca-4fad-b759-2becdb82ccc6",
   "metadata": {},
   "source": [
    "### 27. Create a sunburst chart to show the distribution of athletes based on Sex, BMI levels, and Age ranges."
   ]
  },
  {
   "cell_type": "code",
   "execution_count": null,
   "id": "8f82afa2-36d9-42ed-8f34-0617db9e9a63",
   "metadata": {},
   "outputs": [],
   "source": [
    "# Dropping null values \n",
    "subject_df1 = subject_df.copy()\n",
    "subject_df1 = subject_df1.dropna(subset = ['Sex', 'BMI', 'Age'])\n",
    "\n",
    "# Convert 0, 1 to Male, Female\n",
    "subject_df1['Sex'] = subject_df1['Sex'].map({0: 'Male', 1: 'Female'})\n",
    "\n",
    "# Categorize BMI levels\n",
    "def categ_bmi(bmi):\n",
    "     if bmi < 18.5:\n",
    "        return 'Underweight'\n",
    "     elif bmi < 25:\n",
    "        return 'Normal'\n",
    "     elif bmi < 30:\n",
    "        return 'Overweight'\n",
    "     else:\n",
    "        return 'Obese'\n",
    "\n",
    "subject_df1['BMI_level'] = subject_df1['BMI'].apply(categ_bmi)\n",
    "\n",
    "# Categorize age range\n",
    "def categ_age(age):\n",
    "    if age < 20:\n",
    "        return 'Teen'\n",
    "    elif age < 30:\n",
    "        return 'Young Adult'\n",
    "    elif age < 40:\n",
    "        return 'Adult'\n",
    "    elif age < 50:\n",
    "        return 'Mid_Age'\n",
    "    else:\n",
    "        return 'Older Adult'\n",
    "\n",
    "subject_df1['Age_range'] = subject_df1['Age'].apply(categ_age)\n",
    "\n",
    "# Plotting sunburst chart\n",
    "fig = px.sunburst(subject_df1,\n",
    "                  path = ['Sex', 'BMI_level', 'Age_range'],\n",
    "                  values = None,\n",
    "                  title = 'Distribution of Athletes Based on Sex, BMI and Age Ranges'\n",
    "                )\n",
    "\n",
    "# Increase the size of the chart\n",
    "fig.update_layout( width =800,\n",
    "                  height = 800\n",
    "                 )\n",
    "fig.show()\n"
   ]
  },
  {
   "cell_type": "code",
   "execution_count": null,
   "id": "8e9f4c23-4001-4cdc-865f-5aa227855fcb",
   "metadata": {},
   "outputs": [],
   "source": []
  },
  {
   "cell_type": "markdown",
   "id": "c467616d-5068-4acc-8f0d-589e6ddf6fd6",
   "metadata": {},
   "source": [
    "### 28.\"Create a dictionary using any 5 random Athletes ID and their height. <br>Access any one height using the Athlete ID with get() function. \""
   ]
  },
  {
   "cell_type": "code",
   "execution_count": null,
   "id": "68042382-afdf-4c93-a549-70e3a75559b4",
   "metadata": {},
   "outputs": [],
   "source": [
    "# Getting random 5 records\n",
    "sample_df = subject_i[['ID', 'Height']].dropna().sample(5, random_state = 42)\n",
    "\n",
    "# Converting into a Dictionary\n",
    "sample_df_dict = dict(zip(sample_df['ID'], sample_df['Height']))\n",
    "print(\"Athlete Height Dictionary--> \\nID: Height\")\n",
    "print(sample_df_dict)\n",
    "\n",
    "# Pick one ID from dictionary\n",
    "sample_keys = list(sample_df_dict.keys())[0]\n",
    "\n",
    "# Getting height Using get() function \n",
    "height = sample_df_dict.get(sample_keys)\n",
    "print(f\"Height of Athlete with ID {sample_keys} is : {height} cm\")"
   ]
  },
  {
   "cell_type": "markdown",
   "id": "003c2dec-b45a-43af-8647-730a79eab718",
   "metadata": {},
   "source": [
    "### 29."
   ]
  },
  {
   "cell_type": "markdown",
   "id": "a484e40e-06f8-48bc-8214-d651241af56b",
   "metadata": {},
   "source": [
    "### 30. \"Create a waffle chart to show the percentage of participant in each HR zone (followed by question 23)\""
   ]
  },
  {
   "cell_type": "code",
   "execution_count": null,
   "id": "0af34e67-be88-40f2-82a6-14a6b0ec23b5",
   "metadata": {},
   "outputs": [],
   "source": [
    "\n",
    "\n",
    "\n",
    "\n",
    "zone_counts = mean_hr_by_id['HR_Zone'].value_counts().sort_index()\n",
    "\n",
    "# Create a Waffle Chart\n",
    "labels = [\n",
    "    f\"{zone} ({count}, {count / zone_counts.sum() * 100:.1f}%)\"\n",
    "    for zone, count in zone_counts.items()\n",
    "         ]\n",
    "fig = plt.figure(\n",
    "    FigureClass = Waffle,\n",
    "    rows = 5,  \n",
    "    values = zone_counts,\n",
    "    title = {'label': 'HR Zone Distribution of Participants', 'loc': 'center'},\n",
    "    labels = labels,\n",
    "    legend = {'loc': 'upper left', 'bbox_to_anchor': (1.1, 1)},\n",
    "    figsize  =(10, 5),\n",
    ")\n",
    "\n",
    "plt.show()"
   ]
  },
  {
   "cell_type": "code",
   "execution_count": null,
   "id": "7d1d20f7-e459-4a06-85d2-a5e0293cc506",
   "metadata": {},
   "outputs": [],
   "source": []
  },
  {
   "cell_type": "markdown",
   "id": "583e7380-65ac-470d-b2c6-fb3e4a95efa7",
   "metadata": {},
   "source": [
    "### 31. Calculate the Tidal volume of every athlete and display it as a list."
   ]
  },
  {
   "cell_type": "code",
   "execution_count": null,
   "id": "9beb1a19-4b6f-4a2b-9795-d077d70333a0",
   "metadata": {},
   "outputs": [],
   "source": [
    "\n",
    "\n",
    "# Exclude rows where VE or RR is missing or RR is zero\n",
    "filtered = test_m[(test_m['VE'].notna()) & (test_m['RR'].notna()) & (test_m['RR'] > 0)].copy()\n",
    "\n",
    "# Calculate Tidal Volume\n",
    "filtered['Tidal_Volume_L'] = filtered['VE'] / filtered['RR']  # Result in Liters per breath\n",
    "\n",
    "# Converting to mL \n",
    "filtered['Tidal_Volume_mL'] = filtered['Tidal_Volume_L'] * 1000\n",
    "\n",
    "# Display as list (average tidal volume per athlete)\n",
    "tidal_volume_list = round(filtered.groupby('ID')['Tidal_Volume_mL'].mean().reset_index(),1)\n",
    "\n",
    "print(\"Average Tidal Volume per Athlete (in mL):\")\n",
    "print(tidal_volume_list)\n",
    "\n",
    "\n",
    "\n",
    "\n"
   ]
  },
  {
   "cell_type": "markdown",
   "id": "32e32cab-50c4-4400-b529-fdc8864bed5e",
   "metadata": {},
   "source": [
    "### 32.create a Pivot table to summarize the count of each HR Zone"
   ]
  },
  {
   "cell_type": "code",
   "execution_count": null,
   "id": "67fe764b-399b-48a5-b68f-b5385ec826ce",
   "metadata": {},
   "outputs": [],
   "source": [
    "print(mean_hr_by_id.nunique())\n",
    "# Create a pivot table to count athletes in each HR Zone\n",
    "hr_zone_pivot = pd.pivot_table(\n",
    "    mean_hr_by_id,\n",
    "    index='HR_Zone',         # Group by HR Zone\n",
    "    values='ID',             # Count IDs\n",
    "    aggfunc='count'          # Count how many athletes in each zone\n",
    ")\n",
    "\n",
    "# Rename column\n",
    "hr_zone_pivot.rename(columns={'ID': 'Athlete_Count'}, inplace=True)\n",
    "\n",
    "# Display the pivot table\n",
    "print(hr_zone_pivot)\n",
    "\n"
   ]
  },
  {
   "cell_type": "code",
   "execution_count": null,
   "id": "6267b66a-3cc9-40c6-b62e-d718b942aeed",
   "metadata": {},
   "outputs": [],
   "source": [
    "!pip install ipywidgets\n",
    "!pip install ydata-profiling\n",
    "%matplotlib inline\n",
    "!pip install psycopg2"
   ]
  },
  {
   "cell_type": "code",
   "execution_count": null,
   "id": "f6d951c9",
   "metadata": {},
   "outputs": [],
   "source": [
    "import json"
   ]
  },
  {
   "cell_type": "markdown",
   "id": "9c1b880d-ffde-408a-b5f8-bccc1c49d38b",
   "metadata": {},
   "source": [
    "### 33.Connect to database using PostgresSQL and increase the temperature 2 degree for participant with maximum humidity and display the result"
   ]
  },
  {
   "cell_type": "code",
   "execution_count": null,
   "id": "d7a0b620-57d7-4e93-89f9-15a5a6a3e993",
   "metadata": {},
   "outputs": [],
   "source": [
    "import psycopg2\n",
    "\n",
    "conn = psycopg2.connect(\n",
    "    dbname=\"subject_info\",\n",
    "    user=\"postgres\",\n",
    "    password=\"pgdb\",\n",
    "    host=\"localhost\",\n",
    "    port=\"5432\"\n",
    ")\n",
    "\n",
    "cur = conn.cursor()\n",
    "\n",
    "cur.execute(\"\"\"\n",
    "    SELECT ID, Humidity, Temperature\n",
    "    FROM subject_info\n",
    "    WHERE Temperature IS NOT NULL\n",
    "    ORDER BY Humidity DESC\n",
    "    LIMIT 1;\n",
    "\"\"\")\n",
    "\n",
    "\n",
    "result = cur.fetchone()\n",
    "\n",
    "if result:\n",
    "    id_with_max_humidity = result[0]\n",
    "    max_humidity = result[1]\n",
    "    current_temperature = result[2]\n",
    "\n",
    "    print(f\"Participant ID: {id_with_max_humidity}, Max Humidity: {max_humidity}, Current Temperature: {current_temperature}\")\n",
    "\n",
    "    simulated_temperature = current_temperature + 2\n",
    "\n",
    "    print(f\"Temperature increased to {simulated_temperature}° for Participant ID: {id_with_max_humidity}\")\n",
    "\n",
    "   \n",
    "    cur.execute(\"\"\"\n",
    "        SELECT ID, Age, Weight, Height, Humidity, Temperature, Sex, ID_test\n",
    "        FROM subject_info\n",
    "        WHERE ID = %s;\n",
    "    \"\"\", (id_with_max_humidity,))\n",
    "\n",
    "    original_result = cur.fetchone()\n",
    "    if original_result:\n",
    "       \n",
    "        result = list(original_result)\n",
    "        result[5] = simulated_temperature  \n",
    "\n",
    "        print(\"Updated participant info:\")\n",
    "        print(tuple(result))  \n",
    "\n",
    "cur.close()\n",
    "conn.close()"
   ]
  },
  {
   "cell_type": "markdown",
   "id": "c3a4dcc0-4ba4-4d4a-9dbb-f9a41ea10acf",
   "metadata": {},
   "source": [
    "### 34.Create an array, np.arrange.reshape(3,4). Replace the array elements with their square values if the element is an even Number. Keep the odd numbers as such. Displaying the resulting array."
   ]
  },
  {
   "cell_type": "code",
   "execution_count": null,
   "id": "38c19236-5655-4aad-9fa3-fa796b889b14",
   "metadata": {},
   "outputs": [],
   "source": [
    "arr = np.arange(12).reshape(3, 4)\n",
    "\n",
    "result = np.where(arr % 2 == 0, arr ** 2, arr)\n",
    "\n",
    "\n",
    "print(\"Original array:\\n\", arr)\n",
    "print(\"\\n Resulting array (even numbers squared):\\n\", result)"
   ]
  },
  {
   "cell_type": "markdown",
   "id": "d98c26ed-2012-4535-909f-9bd3a7fb7d45",
   "metadata": {},
   "source": [
    "### 35. Read 10 records from dataframe and convert into Json format and print the data"
   ]
  },
  {
   "cell_type": "code",
   "execution_count": null,
   "id": "1198efc0-8cf5-4838-9b3f-3a052b3065c3",
   "metadata": {},
   "outputs": [],
   "source": [
    "subset_df = test_m.head(10)\n",
    "\n",
    "# Convert the dataframe to JSON format\n",
    "json_data = subset_df.to_json(orient='records')\n",
    "\n",
    "# Print the JSON data\n",
    "print(json.dumps(json.loads(json_data), indent=4))"
   ]
  },
  {
   "cell_type": "markdown",
   "id": "2febfed4-d770-4763-b34a-813dd28ba3d0",
   "metadata": {},
   "source": [
    "### 36. Create a Barchart in HR vs count and apply hatches to the bars? # recheck"
   ]
  },
  {
   "cell_type": "code",
   "execution_count": null,
   "id": "01d23166-f3b0-4149-bf24-f08c22a84d0c",
   "metadata": {},
   "outputs": [],
   "source": [
    "zones = {\n",
    "    'Zone 1': test_m[test_m['HR'] < 100],\n",
    "    'Zone 2': test_m[(test_m['HR'] >= 100) & (test_m['HR'] <= 120)],\n",
    "    'Zone 3': test_m[(test_m['HR'] > 120) & (test_m['HR'] <= 135)],\n",
    "    'Zone 4': test_m[(test_m['HR'] > 135) & (test_m['HR'] <= 155)],\n",
    "    'Zone 5': test_m[test_m['HR'] > 155]\n",
    "}\n",
    "\n",
    "counts = {zone: len(data) for zone, data in zones.items()}\n",
    "print(counts)\n",
    "\n",
    "\n",
    "df = pd.DataFrame({\n",
    "    'HR Zone': list(counts.keys()),\n",
    "    'Count': list(counts.values())\n",
    "})\n",
    "\n",
    "hatches = ['*', '\\\\', '|', '.', '+']\n",
    "\n",
    "\n",
    "plt.figure(figsize=(10, 6))\n",
    "bars = plt.bar(df['HR Zone'], df['Count'], color='red')\n",
    "\n",
    "\n",
    "for bar, hatch in zip(bars, hatches):\n",
    "    bar.set_hatch(hatch)\n",
    "\n",
    "plt.xlabel('HR Zone')\n",
    "plt.ylabel('Count')\n",
    "plt.title('HR Zone vs Count with Hatches')\n",
    "\n",
    "\n",
    "plt.show()\n"
   ]
  },
  {
   "cell_type": "markdown",
   "id": "49c4da35-ae34-49e0-a811-357739e94909",
   "metadata": {},
   "source": [
    "### 37. Who is the youngest athlete and how many tests did she take part in?\n"
   ]
  },
  {
   "cell_type": "code",
   "execution_count": null,
   "id": "9d505944-f5e9-4258-b2d3-f00b25017110",
   "metadata": {},
   "outputs": [],
   "source": [
    "youngest_athlete = subject_i.loc[subject_i['Age'].idxmin()]\n",
    "\n",
    "youngest_athlete_id = youngest_athlete['ID']\n",
    "youngest_athlete_age = youngest_athlete['Age']\n",
    "youngest_athlete_test_id = youngest_athlete['ID_test']\n",
    "\n",
    "youngest_tests = test_m[test_m['ID_test'] == youngest_athlete_test_id]\n",
    "\n",
    "num_tests = len(youngest_tests)\n",
    "\n",
    "print(f\"The youngest athlete ID is  {youngest_athlete_id}.\")\n",
    "print(f\"Her age is {youngest_athlete_age}.\")\n",
    "print(f\"She took part in {num_tests} tests.\")\n",
    "\n"
   ]
  },
  {
   "cell_type": "markdown",
   "id": "a85ea9ae-9498-4bac-a908-7eee11f9cd22",
   "metadata": {},
   "source": [
    "### 38. Plot the changes in HR and VO2 over time for each ID_Test. Add a trendline to compare the HR and VO2 changes."
   ]
  },
  {
   "cell_type": "code",
   "execution_count": null,
   "id": "2c190bb6-d165-4c72-b85c-0ed28cc9978b",
   "metadata": {},
   "outputs": [],
   "source": []
  },
  {
   "cell_type": "markdown",
   "id": "48ad3337-0df6-4c4b-882a-5f89b951ecc0",
   "metadata": {},
   "source": [
    "### 39. Find the average HRV for individual athlets, using short-term varaiablity analysis (RMSSD)"
   ]
  },
  {
   "cell_type": "code",
   "execution_count": null,
   "id": "f9dd0cfe-5deb-4a3d-8f4a-757df8489b68",
   "metadata": {},
   "outputs": [],
   "source": [
    "test_m = test_m.dropna(subset=['HR'])\n",
    "\n",
    "test_m = test_m.sort_values(by=['ID', 'time'])\n",
    "\n",
    "test_m['RR_interval'] = 60000 / test_m['HR']\n",
    "\n",
    "def calculate_rmssd(rr_intervals):\n",
    "    rr_diff = np.diff(rr_intervals)\n",
    "    squared_diff = rr_diff ** 2\n",
    "    rmssd = np.sqrt(np.mean(squared_diff))\n",
    "    return rmssd if len(rr_diff) > 0 else np.nan  \n",
    "\n",
    "\n",
    "rmssd_per_athlete = (\n",
    "    test_m.groupby('ID')['RR_interval']\n",
    "    .apply(lambda x: calculate_rmssd(x.values))\n",
    "    .reset_index()\n",
    ")\n",
    "\n",
    "\n",
    "rmssd_per_athlete.columns = ['ID', 'Average_HRV_RMSSD_ms']\n",
    "\n",
    "print(\" Average HRV per Athlete:\")\n",
    "print(rmssd_per_athlete)"
   ]
  },
  {
   "cell_type": "markdown",
   "id": "c71fc6ec-15eb-4fdb-9895-35d417e6d61e",
   "metadata": {},
   "source": [
    "### 40.  Identify the test that took the longest time to complete"
   ]
  },
  {
   "cell_type": "code",
   "execution_count": null,
   "id": "f1a96458-77cd-49a9-89bc-d48cb0aa4530",
   "metadata": {},
   "outputs": [],
   "source": [
    "longest_test = test_m.loc[test_m['time'].idxmax()]\n",
    "longest_test_id = longest_test['ID_test']\n",
    "time_taken = longest_test['time']\n",
    "print(f\"The test that took the longest time ID_Test: {longest_test_id}\")\n",
    "print(f\"Duration of the longest test: {time_taken} seconds\")"
   ]
  },
  {
   "cell_type": "markdown",
   "id": "1f7775ac-b1c4-4005-a988-c212f409e277",
   "metadata": {},
   "source": [
    "### 41 Perform an EDA of subject_info using YDATA Profiling"
   ]
  },
  {
   "cell_type": "code",
   "execution_count": null,
   "id": "dc63547c-f42d-4441-a750-7a86b86bbeb2",
   "metadata": {},
   "outputs": [],
   "source": [
    "from ydata_profiling import ProfileReport\n",
    "\n",
    "# Generate the profile report\n",
    "profile = ProfileReport(subject_i, title=\"EDA Report of Subject-info\")\n",
    "\n",
    "profile"
   ]
  },
  {
   "cell_type": "markdown",
   "id": "aaf21743-b836-4c04-8e62-0de6e32f54d1",
   "metadata": {},
   "source": [
    "### 42 How does respiration rate progress based on trendmill speed for different BMI levels? Visualize this relationship and find which BMI level has the highest mean respiration rate?"
   ]
  },
  {
   "cell_type": "code",
   "execution_count": null,
   "id": "eabd01b8-c2e3-4155-ae52-bf0ffc41dd6b",
   "metadata": {},
   "outputs": [],
   "source": [
    "sns.set(style=\"whitegrid\")\n",
    "\n",
    "# Calculate BMI\n",
    "subject_i['Height_m'] = subject_i['Height'] / 100\n",
    "subject_i['BMI'] = subject_i['Weight'] / (subject_i['Height_m'] ** 2)\n",
    "\n",
    "def bmi_category(bmi):\n",
    "    if bmi < 18.5:\n",
    "        return 'Underweight'\n",
    "    elif 18.5 <= bmi < 25:\n",
    "        return 'Normal'\n",
    "    elif 25 <= bmi < 30:\n",
    "        return 'Overweight'\n",
    "    else:\n",
    "        return 'Obese'\n",
    "\n",
    "subject_i['BMI_Category'] = subject_i['BMI'].apply(bmi_category)\n",
    "merged_df = pd.merge(test_m, subject_i[['ID', 'BMI_Category']], on='ID')\n",
    "filtered_df = merged_df.dropna(subset=['RR', 'Speed'])\n",
    "\n",
    "mean_rr_df = (\n",
    "    filtered_df.groupby('BMI_Category')['RR']\n",
    "    .mean()\n",
    "    .reindex(['Underweight', 'Normal', 'Overweight', 'Obese'])  # for consistent order\n",
    "    .reset_index()\n",
    ")\n",
    "\n",
    "bmi_palette = {\n",
    "    'Underweight': '#7FB3D5',  # Light blue\n",
    "    'Normal': '#82E0AA',       # Light green\n",
    "    'Overweight': '#F7DC6F',   # Yellow\n",
    "    'Obese': '#EC7063'         # Red/pink\n",
    "}\n",
    "\n",
    "plt.figure(figsize=(10, 6))\n",
    "sns.barplot(\n",
    "    data=mean_rr_df,\n",
    "    x='BMI_Category',\n",
    "    y='RR',\n",
    "    hue='BMI_Category',\n",
    "    palette=bmi_palette,\n",
    "    dodge=False,\n",
    "    legend=False\n",
    ")\n",
    "\n",
    "plt.title('Mean Respiration Rate (RR) by BMI Category')\n",
    "plt.xlabel('BMI Category')\n",
    "plt.ylabel('Mean Respiration Rate (breaths/min)')\n",
    "plt.tight_layout()\n",
    "plt.show()\n",
    "\n",
    "\n",
    "print(\"\\n📈 Mean Respiration Rate by BMI Category:\")\n",
    "print(mean_rr_df)\n",
    "\n",
    "highest = mean_rr_df.loc[mean_rr_df['RR'].idxmax()]\n",
    "print(f\"\\n🏆 Highest Mean RR: {highest['BMI_Category']} ({highest['RR']:.2f} breaths/min)\")"
   ]
  },
  {
   "cell_type": "markdown",
   "id": "83e84cf6-830e-4b32-9758-2292408e5a3f",
   "metadata": {},
   "source": [
    "### 43 Identify cases of possible bradycardia at rest and display number of athletes based on gender"
   ]
  },
  {
   "cell_type": "code",
   "execution_count": null,
   "id": "4cf66776-87fb-43c2-8995-aa2324503e20",
   "metadata": {},
   "outputs": [],
   "source": [
    "resting_hr = test_m.groupby('ID_test')['HR'].min().reset_index()\n",
    "resting_hr.rename(columns={'HR': 'Resting_HR'}, inplace=True)\n",
    "\n",
    "bradycardia_df = resting_hr[resting_hr['Resting_HR'] < 60]\n",
    "\n",
    "merged = pd.merge(bradycardia_df, subject_i[['ID_test', 'Sex']], left_on='ID_test', right_on='ID_test')\n",
    "\n",
    "bradycardia_counts = merged['Sex'].value_counts()\n",
    "\n",
    "print(\"Bradycardia Cases by Gender (Resting HR < 60 bpm):\")\n",
    "print(bradycardia_counts)"
   ]
  },
  {
   "cell_type": "markdown",
   "id": "a2b08324-1c53-4156-a5cb-80d6e5608ef6",
   "metadata": {},
   "source": [
    "### 44 Calculate the average heart rate corresponding to the speed of the treadmill and plot a line graph to visualize the relationship."
   ]
  },
  {
   "cell_type": "code",
   "execution_count": null,
   "id": "4362d138-48ef-4e95-ba71-1c0df40d6284",
   "metadata": {},
   "outputs": [],
   "source": [
    "test_m = test_m.dropna(subset=['Speed', 'HR'])\n",
    "avg_hr_by_speed = test_m.groupby('Speed')['HR'].mean().reset_index()\n",
    "avg_hr_by_speed = avg_hr_by_speed.sort_values('Speed')\n",
    "plt.figure(figsize=(10, 6))\n",
    "sns.lineplot(data=avg_hr_by_speed, x='Speed', y='HR', marker='.', color='black')\n",
    "\n",
    "plt.title('Average Heart Rate vs. Treadmill Speed')\n",
    "plt.xlabel('Treadmill Speed (km/h or m/s)')\n",
    "plt.ylabel('Average Heart Rate (bpm)')\n",
    "plt.grid(True)\n",
    "plt.tight_layout()\n",
    "plt.show()"
   ]
  },
  {
   "cell_type": "markdown",
   "id": "6e03dbaf-a61e-40c1-93d0-2b2c5a279eda",
   "metadata": {},
   "source": [
    "### 45 Analyze the trend of HR at the start of the test vs the middle and the end. What is the overall trend?"
   ]
  },
  {
   "cell_type": "code",
   "execution_count": null,
   "id": "65e9a1cc-3392-47e6-883e-9f33b7a7639b",
   "metadata": {},
   "outputs": [],
   "source": [
    "id_col = test_m['ID_test']\n",
    "\n",
    "def categorize_phase(group):\n",
    "    duration = group['time'].max() - group['time'].min()\n",
    "    group = group.copy()\n",
    "    group['Phase'] = group['time'].apply(\n",
    "        lambda t: 'Start' if t <= group['time'].min() + duration / 3 else\n",
    "                  'Middle' if t <= group['time'].min() + 2 * duration / 3 else\n",
    "                  'End'\n",
    "    )\n",
    "    return group\n",
    "\n",
    "grouped = test_m[['ID_test', 'time', 'HR']].copy()\n",
    "result = []\n",
    "\n",
    "for id_test, group in grouped.groupby('ID_test'):\n",
    "    categorized = categorize_phase(group)\n",
    "    result.append(categorized)\n",
    "\n",
    "\n",
    "test_m = pd.concat(result).reset_index(drop=True)\n",
    "\n",
    "phase_avg_hr = test_m.groupby('Phase')['HR'].mean().reset_index()\n",
    "\n",
    "phase_avg_hr['Phase'] = pd.Categorical(phase_avg_hr['Phase'], categories=['Start', 'Middle', 'End'], ordered=True)\n",
    "phase_avg_hr = phase_avg_hr.sort_values('Phase')\n",
    "\n",
    "plt.figure(figsize=(8, 6))\n",
    "plt.plot(phase_avg_hr['Phase'], phase_avg_hr['HR'], marker='o', linestyle='-', color='blue')\n",
    "plt.title('Heart Rate Trend Across Test Phases')\n",
    "plt.xlabel('Phase')\n",
    "plt.ylabel('Average Heart Rate (HR)')\n",
    "plt.grid(True)\n",
    "plt.tight_layout()\n",
    "plt.show()\n",
    "\n",
    "print(\"Heart Rate progression from Start to Middle to End phases typically reflects initial adaptation, peak exertion, and recovery.\")"
   ]
  },
  {
   "cell_type": "markdown",
   "id": "ecc02ba2-24bf-4105-8571-57bb7761dc1d",
   "metadata": {},
   "source": [
    "### 46. Find the oldest athlete in the dataset and determine the number of breaths recorded for the oldest athlete during the test."
   ]
  },
  {
   "cell_type": "code",
   "execution_count": null,
   "id": "9a4d5ecf-77ee-48bd-963d-b06beb9ca84b",
   "metadata": {},
   "outputs": [],
   "source": [
    "oldest_age = subject_i['Age'].max()\n",
    "oldest_athlete = subject_i[subject_i['Age'] == oldest_age]\n",
    "\n",
    "oldest_ids = oldest_athlete['ID_test'].unique()\n",
    "\n",
    "breath_counts = test_m[test_m['ID_test'].isin(oldest_ids)].shape[0]\n",
    "\n",
    "print(\"Oldest Athlete Age:\", oldest_age)\n",
    "print(\"ID_test:\", list(oldest_ids))\n",
    "print(\"Number of breaths recorded during the test:\", breath_counts)\n"
   ]
  },
  {
   "cell_type": "code",
   "execution_count": null,
   "id": "6b6d8243-5683-4a40-aebf-1a47ddde1994",
   "metadata": {},
   "outputs": [],
   "source": []
  },
  {
   "cell_type": "markdown",
   "id": "fb451dd1-bd4c-4d2b-896f-eb8bc0350573",
   "metadata": {},
   "source": [
    "### 47. Assuming age is given for the current year (2025), list the partcipants born on leap year?"
   ]
  },
  {
   "cell_type": "code",
   "execution_count": null,
   "id": "d657d7fd-2925-4ee5-b64a-027d37620fc8",
   "metadata": {},
   "outputs": [],
   "source": [
    "# Calculate birth year assuming age given for the current year (2025)\n",
    "subject_i['birth_year'] = 2025 - subject_i['Age']\n",
    "\n",
    " #  Function to check for leap year\n",
    "def is_leap_year(year):\n",
    "    return (year % 4 == 0 and year % 100 != 0) or (year % 400 == 0)\n",
    "\n",
    "# Filtering the  participants born in a leap year\n",
    "leap_year_participants = subject_i[subject_i['birth_year'].apply(is_leap_year)]\n",
    "\n",
    "# Display the result\n",
    "print(leap_year_participants[['ID', 'Age', 'birth_year']])"
   ]
  },
  {
   "cell_type": "markdown",
   "id": "5702b153-dd81-47cf-9a83-8bfb4cc4012c",
   "metadata": {},
   "source": [
    "### 48 Use a pairplot to analyze the relationship between temperature, humidity, and VO2 max (ml/kg/min) across different fitness levels. Hint: Classify 'Fitness Level' as 'Low' if VO2 max (ml/kg/min) is below the median, otherwise classify as 'High'"
   ]
  },
  {
   "cell_type": "code",
   "execution_count": null,
   "id": "4b114f2d-e054-4cda-af64-d612643180b4",
   "metadata": {},
   "outputs": [],
   "source": [
    "test_m = pd.read_csv('test_measure.csv')\n",
    "subject_i = pd.read_csv('subject-info.csv')\n",
    "\n",
    "merged_df = pd.merge(test_m, subject_i, on='ID')\n",
    "\n",
    "\n",
    "median_vo2 = merged_df['VO2'].median()\n",
    "\n",
    "merged_df['Fitness_Level'] = merged_df['VO2'].apply(\n",
    "    lambda vo2: 'Low' if vo2 < median_vo2 else 'High'\n",
    ")\n",
    "\n",
    "\n",
    "pairplot_data = merged_df[['Temperature', 'Humidity', 'VO2', 'Fitness_Level']]\n",
    "\n",
    "sns.pairplot(\n",
    "    pairplot_data, \n",
    "    vars=['Temperature', 'Humidity', 'VO2'], \n",
    "    hue='Fitness_Level', \n",
    "    diag_kind='kde', \n",
    "    palette='Set2'\n",
    ")\n",
    "\n",
    "plt.suptitle(\"Relationship Between Temperature, Humidity, and VO2 Max Across Fitness Levels\", y=1.02)\n",
    "plt.show()"
   ]
  },
  {
   "cell_type": "code",
   "execution_count": null,
   "id": "90514f88-b15a-4ae9-a84e-2d071c14d360",
   "metadata": {},
   "outputs": [],
   "source": []
  },
  {
   "cell_type": "code",
   "execution_count": null,
   "id": "e154d09c-930a-47e8-b5e6-bc876d1bb1c0",
   "metadata": {},
   "outputs": [],
   "source": []
  },
  {
   "cell_type": "markdown",
   "id": "845781f0-9f65-4e74-8161-07f092eb1a72",
   "metadata": {},
   "source": [
    "### 49 Identify the test name that had the shortest time duration. "
   ]
  },
  {
   "cell_type": "code",
   "execution_count": null,
   "id": "ef8d83e1-6d1c-494b-9690-a7ad813f0483",
   "metadata": {},
   "outputs": [],
   "source": [
    "test_measure = pd.read_csv(\"test_measure.csv\")\n",
    "subject_info = pd.read_csv(\"subject-info.csv\")\n",
    "\n",
    "# Calculate duration for each test (ID_test)\n",
    "duration_per_test = test_measure.groupby(\"ID_test\")[\"time\"].agg([\"min\", \"max\"])\n",
    "\n",
    "print(duration_per_test)\n",
    "\n",
    "duration_per_test[\"duration\"] = duration_per_test[\"max\"] - duration_per_test[\"min\"]\n",
    "\n",
    "# Identify the test with the shortest duration\n",
    "shortest_test = duration_per_test[\"duration\"].idxmin()\n",
    "print(shortest_test)\n",
    "\n",
    "shortest_duration = duration_per_test.loc[shortest_test, \"duration\"]\n",
    "\n",
    "print(f\"Test with the shortest duration is '{shortest_test}' with a duration of {shortest_duration} minutes.\")\n"
   ]
  },
  {
   "cell_type": "markdown",
   "id": "bb1906aa-f0ce-42e6-a488-03498d04ada0",
   "metadata": {},
   "source": [
    "### 50 What is the percentage difference in mean Carbon dioxide production between male and female athletes?\n"
   ]
  },
  {
   "cell_type": "code",
   "execution_count": null,
   "id": "56e924eb-c61a-49f4-bfad-ab5878908dad",
   "metadata": {},
   "outputs": [],
   "source": [
    "merged_df = pd.merge(test_measure, subject_info, on='ID')\n",
    "\n",
    "# Group by 'sex' and calculate the mean of 'VCO2'\n",
    "mean_vco2_by_sex = merged_df.groupby('Sex')['VCO2'].mean()\n",
    "\n",
    "# Calculate percentage difference between the means of sex 0 and 1\n",
    "percentage_difference = ((mean_vco2_by_sex[1] - mean_vco2_by_sex[0]) / mean_vco2_by_sex[0]) * 100\n",
    "\n",
    "mean_vco2_by_sex, percentage_difference\n"
   ]
  },
  {
   "cell_type": "code",
   "execution_count": null,
   "id": "4fff24ce-e7ec-4c94-94b0-414cff0b4bb1",
   "metadata": {},
   "outputs": [],
   "source": []
  },
  {
   "cell_type": "markdown",
   "id": "8fc79c4e-6373-4b36-9138-c17c64fe245c",
   "metadata": {},
   "source": [
    "### 51 Calculate the Fitness Index, generate a bar chart of Fitness Index categories, and export it as SVG file.\n"
   ]
  },
  {
   "cell_type": "code",
   "execution_count": null,
   "id": "7f6097d4-3a86-4520-9397-dd0d39c41584",
   "metadata": {},
   "outputs": [],
   "source": [
    "max_vo2 = test_measure.groupby('ID_test')['VO2'].max().reset_index()\n",
    "max_vo2.rename(columns={'VO2': 'Max_VO2'}, inplace=True)\n",
    "\n",
    "# Merge with subject info\n",
    "merged_df = pd.merge(subject_info, max_vo2, on='ID_test')\n",
    "\n",
    "# Compute Fitness Index = Max_VO2 / Weight\n",
    "merged_df['Fitness_Index'] = merged_df['Max_VO2'] / merged_df['Weight']\n",
    "\n",
    "# Categorize Fitness Index into bins\n",
    "bins = [0, 20, 30, 40, 50, float('inf')]\n",
    "labels = ['Poor', 'Fair', 'Average', 'Good', 'Excellent']\n",
    "merged_df['Fitness_Category'] = pd.cut(merged_df['Fitness_Index'], bins=bins, labels=labels)\n",
    "\n",
    "# Count categories for the bar chart\n",
    "category_counts = merged_df['Fitness_Category'].value_counts().sort_index()\n",
    "\n",
    "# Plot the bar chart\n",
    "plt.figure(figsize=(8, 6))\n",
    "category_counts.plot(kind='bar')\n",
    "plt.title('Fitness Index Categories')\n",
    "plt.xlabel('Category')\n",
    "plt.ylabel('Number of Test')\n",
    "plt.tight_layout()\n",
    "\n",
    "plt.savefig(\"test.svg\", format=\"svg\")\n",
    "\n",
    "plt.show()\n",
    "\n"
   ]
  },
  {
   "cell_type": "markdown",
   "id": "73588e7a-2773-4b5a-bca2-a853419bee6d",
   "metadata": {},
   "source": [
    "### 52 Transpose this numpy matrix. and calculate sum of each row after transposing. "
   ]
  },
  {
   "cell_type": "code",
   "execution_count": null,
   "id": "9f8d76c3-b751-4107-a3d1-e01d120584d3",
   "metadata": {},
   "outputs": [],
   "source": [
    "\n",
    "#Find the row with highest sum(after transposing)\n",
    "\n",
    "#input array\n",
    "arr = np.array([[3, 5, 7, 9],\n",
    "                   [2, 0, 8, 10],\n",
    "                   [1, 4, 8, 12],\n",
    "                   [5, 9, 14, 15]])\n",
    "\n",
    "transposed_arr = arr.T\n",
    "sum_row = np.sum(transposed_arr, axis=1)\n",
    "row_max_sum = np.argmax(sum_row)\n",
    "\n",
    "print(\"The given matrix:\\n\", arr)\n",
    "print(\"The transposed matrix:\\n\", transposed_arr)\n",
    "print(\"Sum of each row:\", sum_row)\n",
    "print(\"The row with the highest sum: (index starts with 0)\", row_max_sum)"
   ]
  },
  {
   "cell_type": "markdown",
   "id": "305783f5-6ccd-4a8f-a75b-ccdb5008f652",
   "metadata": {},
   "source": [
    "### 53 Display participant details with highest average cardiorespiratory fitness in terms of VO2 max."
   ]
  },
  {
   "cell_type": "code",
   "execution_count": null,
   "id": "ffc1a1b1-68f4-4d29-a332-f4d62f2a55af",
   "metadata": {},
   "outputs": [],
   "source": [
    "\n",
    "# Group the test_measure data by 'ID' and calculate the average VO2 per participant\n",
    "avg_vo2 = test_measure.groupby('ID')['VO2'].mean().reset_index()\n",
    "avg_vo2.rename(columns={'VO2': 'Average_VO2_Max'}, inplace=True)\n",
    "\n",
    "# Find the maximum average VO2 max value\n",
    "max_vo2 = avg_vo2['Average_VO2_Max'].max()\n",
    "\n",
    "# Filter the participant(s) with the highest average VO2 max\n",
    "top_participants = avg_vo2[avg_vo2['Average_VO2_Max'] == max_vo2]\n",
    "\n",
    "# Merge with subject_info to get detailed participant information\n",
    "result = pd.merge(top_participants, subject_info, on='ID')\n",
    "\n",
    "result[['ID', 'Average_VO2_Max', 'Age', 'Weight', 'Height', 'Sex']]\n",
    "\n",
    "\n",
    "\n"
   ]
  },
  {
   "cell_type": "code",
   "execution_count": null,
   "id": "c19b3cbb-d14d-46d6-9f0e-7f848b6bb569",
   "metadata": {},
   "outputs": [],
   "source": []
  },
  {
   "cell_type": "markdown",
   "id": "929c5314-43a6-4e15-b0e0-eec02c9fd609",
   "metadata": {},
   "source": [
    "### 54 calculate the heart rate reserve and show the distribution as density plot "
   ]
  },
  {
   "cell_type": "code",
   "execution_count": null,
   "id": "5bd66ae3-020f-41a9-a738-8f6e5f10e7cb",
   "metadata": {},
   "outputs": [],
   "source": [
    "# group by ID and get the aggregator for HR min and max\n",
    "\n",
    "hr_stats_group_by = test_measure.groupby('ID').agg(Rest_HR=('HR', 'min'), Max_HR=('HR', 'max')).reset_index()\n",
    "\n",
    "# merge HR stats with subject info dataset\n",
    "merged_df = pd.merge(subject_info, hr_stats_group_by, on='ID', how='inner')\n",
    "\n",
    "# Calculate the HRR \n",
    "merged_df['HRR'] = merged_df['Max_HR'] - merged_df['Rest_HR']\n",
    "\n",
    "# Display the results in table format with ID, Age, Rest_HR, Max_HR and HRR values\n",
    "merged_df[['ID', 'Age', 'Rest_HR', 'Max_HR', 'HRR']].head()"
   ]
  },
  {
   "cell_type": "code",
   "execution_count": null,
   "id": "04ae9cf1-70f3-4578-bc0a-8458f696bc9b",
   "metadata": {},
   "outputs": [],
   "source": []
  },
  {
   "cell_type": "markdown",
   "id": "ed69c8a0-a668-44ee-bb85-4379acdf6221",
   "metadata": {},
   "source": [
    "### 55 Create a boxplot comparing heart rates between males and females, showing hue as speed category."
   ]
  },
  {
   "cell_type": "code",
   "execution_count": null,
   "id": "e21bcf22-f8f9-431e-b11b-7093d99cc064",
   "metadata": {},
   "outputs": [],
   "source": [
    "\n",
    "\n",
    "# Merge the two datasets on ID\n",
    "merged_df = pd.merge(test_measure, subject_info[['ID', 'Sex']], on='ID')\n",
    "\n",
    "# Create a speed category column category like low < 5, medium 5-10, high > 10\n",
    "def categorize_speed(speed):\n",
    "    if speed < 5:\n",
    "        return 'Low'\n",
    "    elif speed <= 10:\n",
    "        return 'Medium'\n",
    "    else:\n",
    "        return 'High'\n",
    "\n",
    "merged_df['Speed_Category'] = merged_df['Speed'].apply(categorize_speed)\n",
    "\n",
    "# Plotting boxplot\n",
    "plt.figure(figsize=(10, 6))\n",
    "sns.boxplot(x='Sex', y='HR', hue='Speed_Category', data=merged_df)\n",
    "plt.title('Heart Rate Comparison by Sex and Speed Category')\n",
    "plt.xlabel('Sex (0 = Female, 1 = Male)')\n",
    "plt.ylabel('Heart Rate (HR)')\n",
    "plt.legend(title='Speed Category')\n",
    "plt.tight_layout()\n",
    "plt.show()\n",
    "\n",
    "\n"
   ]
  },
  {
   "cell_type": "markdown",
   "id": "1a8f957b-cb52-4937-8892-2b98bd1c218f",
   "metadata": {},
   "source": [
    "### 56 Choose any feature that follows a Gaussian distribution, convert it into a standard normal distribution, and visualize the results?"
   ]
  },
  {
   "cell_type": "code",
   "execution_count": null,
   "id": "fdea2a50-799c-464a-a72f-ad65a6033dfe",
   "metadata": {},
   "outputs": [],
   "source": [
    "\n",
    "# Create a Gaussian-distributed feature\n",
    "np.random.seed(42)\n",
    "data = np.random.normal(loc=50, scale=10, size=1000)  # mean=50, std=10\n",
    "df = pd.DataFrame({'original_feature': data})\n",
    "\n",
    "# Convert it to a standard normal distribution \n",
    "df['standardized_feature'] = (df['original_feature'] - df['original_feature'].mean()) / df['original_feature'].std()\n",
    "\n",
    "# Visualize both original and standardized features\n",
    "plt.figure(figsize=(12, 5))\n",
    "\n",
    "# Original distribution\n",
    "plt.subplot(1, 2, 1)\n",
    "plt.hist(df['original_feature'], bins=30, edgecolor='black', alpha=0.7)\n",
    "plt.title('Original Gaussian Distribution')\n",
    "plt.xlabel('Value')\n",
    "plt.ylabel('Frequency')\n",
    "\n",
    "# Standardized distribution\n",
    "plt.subplot(1, 2, 2)\n",
    "plt.hist(df['standardized_feature'], bins=30, edgecolor='black', alpha=0.7)\n",
    "plt.title('Standard Normal Distribution (Z-score)')\n",
    "plt.xlabel('Z-value')\n",
    "plt.ylabel('Frequency')\n",
    "\n",
    "plt.tight_layout()\n",
    "plt.show()"
   ]
  },
  {
   "cell_type": "markdown",
   "id": "6dbe2492-d979-47f6-96e9-c1d3fc9b6de2",
   "metadata": {},
   "source": [
    "### 57 Identify the participant who has taken maximum number of Graded Exercise test and justify.\n"
   ]
  },
  {
   "cell_type": "code",
   "execution_count": null,
   "id": "d85ee2ba-c63f-4a1e-82e9-efd52cde3245",
   "metadata": {},
   "outputs": [],
   "source": [
    "\n",
    "subject_info = pd.read_csv('subject-info.csv')\n",
    "test_measure = pd.read_csv('test_measure.csv')\n",
    "\n",
    "#total test count\n",
    "test_counts = test_measure['ID_test'].drop_duplicates().groupby(test_measure['ID']).count()\n",
    "\n",
    "\n",
    "max_tests = test_counts.max()\n",
    "top_participant_ids = test_counts[test_counts == max_tests].index\n",
    "\n",
    "\n",
    "top_participant_details = subject_info[subject_info['ID'].isin(top_participant_ids)]\n",
    "\n",
    "print(top_participant_details[['ID', 'Age', 'Weight', 'Height']])\n",
    "print(f\"\\max tests: {max_tests}\")\n",
    "\n",
    "\n",
    "\n"
   ]
  },
  {
   "cell_type": "code",
   "execution_count": null,
   "id": "ebc4ea9d-246f-4b4e-a5ec-4d1049491b67",
   "metadata": {},
   "outputs": [],
   "source": []
  },
  {
   "cell_type": "markdown",
   "id": "0c8e637f-1418-4540-9326-851fd87a8d0a",
   "metadata": {},
   "source": [
    "### 58 For participant ID 725 show trend of  any three variables against time in a single canva ?"
   ]
  },
  {
   "cell_type": "code",
   "execution_count": null,
   "id": "cd55184b-a9d6-454b-86be-1992d390b750",
   "metadata": {},
   "outputs": [],
   "source": [
    "# Filter test_measure data for ID 725\n",
    "\n",
    "id_725_data = test_measure[test_measure[\"ID\"] == 725]\n",
    "\n",
    "# Plot three variables: HR (Heart Rate), VO2, and Speed against time in single canva\n",
    "plt.figure(figsize=(10, 6))\n",
    "plt.plot(id_725_data[\"time\"], id_725_data[\"HR\"], label=\"Heart Rate (HR)\")\n",
    "plt.plot(id_725_data[\"time\"], id_725_data[\"VO2\"], label=\"VO2\")\n",
    "plt.plot(id_725_data[\"time\"], id_725_data[\"Speed\"], label=\"Speed\")\n",
    "\n",
    "plt.title(\"Trend of HR, VO2, and Speed over Time for ID 725\")\n",
    "plt.xlabel(\"Time\")\n",
    "plt.ylabel(\"Values\")\n",
    "plt.legend()\n",
    "plt.grid(True)\n",
    "plt.tight_layout()\n",
    "plt.show()"
   ]
  },
  {
   "cell_type": "code",
   "execution_count": null,
   "id": "a12b195a-019c-4e31-81e4-aef23840ce5c",
   "metadata": {},
   "outputs": [],
   "source": []
  },
  {
   "cell_type": "markdown",
   "id": "db6ce032-b1c0-44a6-979d-1d461535e3d8",
   "metadata": {},
   "source": [
    "### 59 Create a scatter plot with a regression line using Altair, take a random sample data with features 'x' and 'y'.\n"
   ]
  },
  {
   "cell_type": "code",
   "execution_count": null,
   "id": "8d33c514-2984-41eb-96ca-4a900a809fee",
   "metadata": {},
   "outputs": [],
   "source": []
  },
  {
   "cell_type": "code",
   "execution_count": null,
   "id": "ed164912-3496-482c-9dea-ed614d65f63e",
   "metadata": {},
   "outputs": [],
   "source": []
  },
  {
   "cell_type": "markdown",
   "id": "e4a925a7-ff27-42fc-9ed8-4c0f33de2b9b",
   "metadata": {},
   "source": [
    "### 60 Use a strip plot to illustrate the distribution of Heart Rate Reserve (HRR) values, highlighting the lowest and highest values to showcase the range of HRR.\n"
   ]
  },
  {
   "cell_type": "code",
   "execution_count": null,
   "id": "a5b51a3b-2427-4e2a-92a7-5cdbe62b0e3f",
   "metadata": {},
   "outputs": [],
   "source": [
    "\n",
    "merged_df = pd.merge(subject_info, test_measure, on='ID', how='inner')\n",
    "\n",
    "\n",
    "merged_df['Estimated_HRR'] = (220 - merged_df['Age']) - merged_df['HR']\n",
    "\n",
    "plt.figure(figsize=(10, 5))\n",
    "sns.stripplot(data=merged_df, x='Estimated_HRR', color='yellow', jitter=True)\n",
    "\n",
    "plt.axvline(merged_df['Estimated_HRR'].min(), color='red', linestyle='--', label='Min HRR')\n",
    "plt.axvline(merged_df['Estimated_HRR'].max(), color='green', linestyle='--', label='Max HRR')\n",
    "\n",
    "plt.title(\"Distribution of Estimated Heart Rate Reserve (HRR)\")\n",
    "plt.xlabel(\"Estimated HRR\")\n",
    "plt.legend()\n",
    "plt.tight_layout()\n",
    "plt.show()\n"
   ]
  },
  {
   "cell_type": "code",
   "execution_count": null,
   "id": "64574def-680e-4223-bf42-ff0d209ae1d5",
   "metadata": {},
   "outputs": [],
   "source": []
  },
  {
   "cell_type": "markdown",
   "id": "35477bea-4b13-4bc7-a04c-0c21161d42de",
   "metadata": {},
   "source": [
    "### 61 Create a swarm plot to visualize the relationship between humidity and temperature for each gender.\n"
   ]
  },
  {
   "cell_type": "code",
   "execution_count": null,
   "id": "4dda4541-3646-4da3-9c77-81f8faf12dd4",
   "metadata": {},
   "outputs": [],
   "source": [
    "\n",
    "merged_df = pd.merge(subject_info, test_measure, on='ID', how='inner')\n",
    "plt.figure(figsize=(10, 6))\n",
    "sns.stripplot(data=merged_df, x='Sex', y='Temperature', hue='Humidity', palette='coolwarm', dodge=True)\n",
    "plt.title('Strip Plot: Temperature vs Humidity by Sex')\n",
    "plt.xlabel('Sex (0: Female, 1: Male)')\n",
    "plt.ylabel('Temperature')\n",
    "plt.legend(title='Humidity', bbox_to_anchor=(1.05, 1), loc='upper left')\n",
    "plt.tight_layout()\n",
    "plt.show()\n"
   ]
  },
  {
   "cell_type": "code",
   "execution_count": null,
   "id": "73ea1c4c-aeff-492a-a465-54fd1625df9c",
   "metadata": {},
   "outputs": [],
   "source": []
  },
  {
   "cell_type": "markdown",
   "id": "21550a6d-2d95-42af-8f88-e69eb41158d6",
   "metadata": {},
   "source": [
    "### 62 Analyze the relationship between fitness levels and physiological attributes and identify trends in the scatter plot of VO2 max (ml/kg/min) versus age\n"
   ]
  },
  {
   "cell_type": "code",
   "execution_count": null,
   "id": "ad06e8a6-c9e5-454d-bdc1-663b1e936be1",
   "metadata": {},
   "outputs": [],
   "source": [
    "\n",
    "# Merge datasets using 'ID' column\n",
    "merged_df = pd.merge(subject_info, test_measure, on='ID')\n",
    "\n",
    "# Create scatter plot: VO2 vs Age\n",
    "plt.figure(figsize=(10, 6))\n",
    "plt.scatter(merged_df['Age'], merged_df['VO2'], alpha=0.6)\n",
    "plt.title('VO2 Max vs Age')\n",
    "plt.xlabel('Age (years)')\n",
    "plt.ylabel('VO2 Max (ml/kg/min)')\n",
    "plt.grid(True)\n",
    "plt.tight_layout()\n",
    "plt.show()"
   ]
  },
  {
   "cell_type": "code",
   "execution_count": null,
   "id": "9a7128cd-48be-4d42-9598-168415068d51",
   "metadata": {},
   "outputs": [],
   "source": []
  },
  {
   "cell_type": "markdown",
   "id": "06c68b89-ba70-4b07-8008-50317d0d2125",
   "metadata": {},
   "source": [
    "### 63 Calculate the warm-up time, GET time, cool-down time, for each athlete test and find athlete who has maximum GET time ?\n"
   ]
  },
  {
   "cell_type": "code",
   "execution_count": null,
   "id": "44df6480-ee90-45bd-8950-d30774898005",
   "metadata": {},
   "outputs": [],
   "source": [
    "\n",
    "# Initialize list for results\n",
    "results = []\n",
    "\n",
    "# group  by  test ID\n",
    "for test_id, group in test_measure.groupby('ID_test'):\n",
    "    group = group.sort_values('time')\n",
    "\n",
    "    # To Find warm-up end (first time VO2 > 500)\n",
    "    warmup_end = group[group['VO2'] > 500]['time'].min()\n",
    "    if pd.isna(warmup_end):\n",
    "        warmup_end = group['time'].min()\n",
    "\n",
    "    # To Find GET end (first time RR > 30 after warm-up)\n",
    "    get_end = group[(group['time'] > warmup_end) & (group['RR'] > 30)]['time'].min()\n",
    "    if pd.isna(get_end):\n",
    "        get_end = group['time'].max()\n",
    "\n",
    "    # calclulate Compute durations\n",
    "    warmup_time = warmup_end - group['time'].min()\n",
    "    get_time = get_end - warmup_end\n",
    "    cooldown_time = group['time'].max() - get_end\n",
    "\n",
    "    results.append({\n",
    "        'ID_test': test_id,\n",
    "        'Warmup_Time': warmup_time,\n",
    "        'GET_Time': get_time,\n",
    "        'Cooldown_Time': cooldown_time\n",
    "    })\n",
    "\n",
    "# Create DataFrame\n",
    "results_df = pd.DataFrame(results)\n",
    "\n",
    "# To Find the athlete with max GET time\n",
    "max_get = results_df[results_df['GET_Time'] == results_df['GET_Time'].max()]\n",
    "\n",
    "print (max_get)"
   ]
  },
  {
   "cell_type": "code",
   "execution_count": null,
   "id": "9ba5debd-4583-4c2f-a2e2-ef06d2c2e8f2",
   "metadata": {},
   "outputs": [],
   "source": []
  },
  {
   "cell_type": "markdown",
   "id": "aff7d6cd-bd13-4e6d-93b1-9eebe1d25dba",
   "metadata": {},
   "source": [
    "### 64 Compare the time it takes to multiply each element in a large array by 2  using an explicit loop and a vectorized operation with NumPy\n"
   ]
  },
  {
   "cell_type": "code",
   "execution_count": null,
   "id": "13de736b-4d2b-4c31-8324-8385632dd061",
   "metadata": {},
   "outputs": [],
   "source": [
    "import time\n",
    "\n",
    "arr_size = 10000000\n",
    "arr = np.arange(arr_size)\n",
    "\n",
    "# using explicit loop method\n",
    "start_time = time.time()\n",
    "for i in range(arr_size):\n",
    "    arr[i] = arr[i] * 2\n",
    "end_time = time.time()\n",
    "explicit_loop_time = end_time - start_time\n",
    "\n",
    "# NumPy vectorized operation method\n",
    "arr = np.arange(arr_size) # Reset array\n",
    "start_time = time.time()\n",
    "arr = arr * 2\n",
    "end_time = time.time()\n",
    "numpy_time = end_time - start_time\n",
    "\n",
    "print(f\"Time taken by explicit loop method: {explicit_loop_time:.4f} seconds\")\n",
    "print(f\"Time taken by NumPy vectorized operation method: {numpy_time:.4f} seconds\")\n",
    "print(f\"NumPy was {explicit_loop_time/numpy_time:.0f} times faster\")\n"
   ]
  },
  {
   "cell_type": "code",
   "execution_count": null,
   "id": "e80e5f9f-818b-473e-8364-efcd5b06ebdd",
   "metadata": {},
   "outputs": [],
   "source": [
    "### Make copies of the dataframes subject_i and test_m to work on the questions. \n",
    "### This will help avoid challenges while merging the notebooks.\n",
    "#Make a dupicate dataframes to work on the questions and remove rows with Nan Values\n",
    "subject_df = subject_i\n",
    "test_df= test_m"
   ]
  },
  {
   "cell_type": "code",
   "execution_count": null,
   "id": "10c843b0-32e2-4cdc-9716-1d7b073b1258",
   "metadata": {},
   "outputs": [],
   "source": [
    "subject_df['Sex'].replace(0,'Male',inplace=True)\n",
    "subject_df['Sex'].replace(1,'Female',inplace=True)"
   ]
  },
  {
   "cell_type": "code",
   "execution_count": null,
   "id": "4abc073d-a4af-4852-968a-52ba88bf7798",
   "metadata": {},
   "outputs": [],
   "source": [
    "subject_df.head(10)"
   ]
  },
  {
   "cell_type": "markdown",
   "id": "3fa5dba8-ea41-4395-b25a-95c7c546be9c",
   "metadata": {},
   "source": [
    "### 65. Calculate the percentage of male athletes who exceeded, the maximum treadmill speed of female athletes."
   ]
  },
  {
   "cell_type": "code",
   "execution_count": null,
   "id": "d1b3a4de-b88c-4d4e-8479-94cd56df3f1e",
   "metadata": {},
   "outputs": [],
   "source": [
    "# taking max speed of the ID\n",
    "Speed  = test_df.groupby('ID')['Speed'].max().reset_index()\n",
    "Speed.columns = ['ID', 'MaxSpeed']\n",
    "max_speed = pd.merge(Speed, subject_i['Sex'], on='ID')\n",
    "max_speed.head()\n"
   ]
  },
  {
   "cell_type": "code",
   "execution_count": null,
   "id": "da984c44-615b-420a-af5f-2b624feb0594",
   "metadata": {},
   "outputs": [],
   "source": [
    "# Extracting the speed values of the female athletes as a list\n",
    "female_speed = max_speed[max_speed['Sex'] =='Female']['MaxSpeed'].tolist()\n",
    "#print(len(female_max_speed))   138\n",
    "#print(min(female_speed))  7\n",
    "#print(max(female_speed)) 21.8"
   ]
  },
  {
   "cell_type": "code",
   "execution_count": null,
   "id": "767e40aa-22fa-4f80-b114-a054137beb56",
   "metadata": {},
   "outputs": [],
   "source": [
    "#Extracting the speed values of the male athletes as a list\n",
    "male_speed = max_speed[max_speed['Sex'] =='Male']['MaxSpeed'].tolist()\n",
    "#print(len(male_speed)) 719\n",
    "#print(min(male_speed)) 8.5\n",
    "#print(max(male_speed)) 23.1"
   ]
  },
  {
   "cell_type": "code",
   "execution_count": null,
   "id": "f1a4008b-6704-45ed-a3ac-f018e688edd0",
   "metadata": {},
   "outputs": [],
   "source": [
    "#extracting the number of males whose speed is more than 12.94 which is the maximun speed of female athletes\n",
    "males_greater_than_female_maxspeed = [num for num in male_speed if num > max(female_speed)]\n",
    "print(len(males_greater_than_female_maxspeed)) # 98 males have  speed more than max. average speed of females\n"
   ]
  },
  {
   "cell_type": "code",
   "execution_count": null,
   "id": "ec84e7dd-053b-4ece-8349-fe005ef7086c",
   "metadata": {},
   "outputs": [],
   "source": [
    "# Final Solution to #65\n",
    "# To calculate the percentage of male athletes who exceeded, the maximum treadmill speed of female athletes. \n",
    "# method 1: if we want only the %of males out of total males\n",
    "perc1 = (len(males_greater_than_female_maxspeed)/ len(male_speed))* 100\n",
    "\n",
    "#method2: if we want the %of males out of total males + total females\n",
    "perc2 = (len(males_greater_than_female_maxspeed)/ (len(male_speed) + len(female_speed)))* 100\n",
    "\n",
    "print(\"The % of males out of only the total males who exceeded the maximum treadmill speed of female athletes is\", round(perc1,2))\n",
    "print(\"The % of males out of total population who exceeded the maximum treadmill speed of female athletes is\",round(perc2,2))\n"
   ]
  },
  {
   "cell_type": "markdown",
   "id": "ccf92c01-4d88-498c-b29d-6faa51e96cfa",
   "metadata": {},
   "source": [
    "### 66. Visualize the number of test taken by participants and their trend of maximum Vo2 level as dual chart ?\n"
   ]
  },
  {
   "cell_type": "code",
   "execution_count": null,
   "id": "482e2fa6-ecbf-44bf-853a-906333faa6b9",
   "metadata": {},
   "outputs": [],
   "source": [
    "#number of test taken by participants\n",
    "testcount = test_df.groupby('ID')['ID_test'].nunique().reset_index()\n",
    "testcount.columns = ['ID', 'testCounts']"
   ]
  },
  {
   "cell_type": "code",
   "execution_count": null,
   "id": "a69c63a3-2cc7-47c4-bbd3-9fe18b56abb4",
   "metadata": {},
   "outputs": [],
   "source": [
    "# maximum Vo2 level\n",
    "vo2max = test_df.groupby('ID')['VO2'].max().reset_index()\n",
    "vo2max.columns = ['ID', 'Vo2Max']"
   ]
  },
  {
   "cell_type": "code",
   "execution_count": null,
   "id": "5d545b9d-4817-4b3e-9ecd-227d376c38a5",
   "metadata": {},
   "outputs": [],
   "source": [
    "participants_max_vo2 = pd.merge(testcount, vo2max, on='ID')\n",
    "participants_max_vo2.head()"
   ]
  },
  {
   "cell_type": "code",
   "execution_count": null,
   "id": "aee8da2b-92c4-4cbf-a91e-25f6cab40d98",
   "metadata": {},
   "outputs": [],
   "source": [
    "import plotly.graph_objects as go\n",
    "from plotly.subplots import make_subplots\n",
    "\n",
    "fig = make_subplots(specs= [[{\"secondary_y\" :True}]])\n",
    "\n",
    "fig.add_trace(\n",
    "            go.Scatter(x = participants_max_vo2[\"ID\"], y = participants_max_vo2['Vo2Max'], name = \"Max VO2 Values\", mode='markers'),\n",
    "            secondary_y =True\n",
    ")\n",
    "\n",
    "fig.add_trace(\n",
    "            go.Scatter(x = participants_max_vo2[\"ID\"], y = participants_max_vo2['testCounts'], name = \"Test Counts\", mode='markers',opacity=0.5),\n",
    "            secondary_y =False\n",
    ")\n",
    "\n",
    "\n",
    "fig.update_layout(title_text = \"Test Counts with Maximum VO2 Values\", title_x =0.5)\n",
    "fig.update_xaxes(title_text = \"ID\")\n",
    "fig.update_yaxes(title_text = \"testCounts\", secondary_y =False)\n",
    "fig.update_yaxes(title_text = \"Oxygen Consumption\", secondary_y =True)\n",
    "\n",
    "\n",
    "fig.show()"
   ]
  },
  {
   "cell_type": "code",
   "execution_count": null,
   "id": "cb1361b1-2f0c-43a8-9df7-66182898ac30",
   "metadata": {},
   "outputs": [],
   "source": [
    "# Using Matplotlib\n",
    "\n",
    "COLOR_1 = \"red\"\n",
    "COLOR_2 = \"blue\"\n",
    "\n",
    "fig, ax1 = plt.subplots(figsize=(14, 8))\n",
    "ax2 = ax1.twinx()\n",
    "\n",
    "ax1.scatter(x = participants_max_vo2[\"ID\"], y = participants_max_vo2['testCounts'],  color=COLOR_1, s= 25)\n",
    "ax2.scatter(x = participants_max_vo2[\"ID\"], y = participants_max_vo2['Vo2Max'], color=COLOR_2, alpha= 0.5, s=25)\n",
    "\n",
    "\n",
    "ax1.set_xlabel(\"Participant ID\")\n",
    "ax1.set_ylabel(\"Test Counts\", color=COLOR_1, fontsize=14)\n",
    "ax1.tick_params(axis=\"y\", labelcolor=COLOR_1)\n",
    "ax1.set_ylim([0, 6]) # Set y limit for second y axis\n",
    "ax1.set_yticks(np.arange(0, 6, 1)) # Set increments for second y axis\n",
    "\n",
    "\n",
    "ax2.set_ylabel(\"Oxygen Consumption)\", color=COLOR_2, fontsize=14)\n",
    "ax2.tick_params(axis=\"y\", labelcolor=COLOR_2)\n",
    "ax2.set_ylim([0, 6000]) # Set y limit for second y axis\n",
    "ax2.set_yticks(np.arange(0, 6000, 1000)) # Set increments for second y axis\n",
    "\n",
    "fig.suptitle(\"Test Counts with Maximum VO2 Values\", fontsize=20)\n",
    "fig.autofmt_xdate()\n",
    "\n",
    "plt.show()"
   ]
  },
  {
   "cell_type": "markdown",
   "id": "0f5bfbc4-9405-4adf-bf2e-29633c77c9af",
   "metadata": {},
   "source": [
    "### 67. Create violin chart for any two column from the dataset ?"
   ]
  },
  {
   "cell_type": "code",
   "execution_count": null,
   "id": "2342c9b8-8957-46b1-a1c8-34993b8a3809",
   "metadata": {},
   "outputs": [],
   "source": [
    "import seaborn as sns\n",
    "import pandas as pd\n",
    "import matplotlib.pyplot as plt\n",
    "\n",
    "# Sample data (replace with your actual data)\n",
    "\n",
    "df = subject_df[['Weight','Height']]\n",
    "\n",
    "# Melt the dataframe to long format\n",
    "df_melted = pd.melt(df, var_name='variable', value_name='value')\n",
    "\n",
    "# Create the violin plot\n",
    "fig =plt.figure(figsize =(12,10))\n",
    "\n",
    "sns.violinplot(x='variable', y='value', data=df_melted)\n",
    "\n",
    "# Show the plot\n",
    "plt.show()"
   ]
  },
  {
   "cell_type": "markdown",
   "id": "8956fbed-40b4-4fda-a4b5-ca0152931adc",
   "metadata": {},
   "source": [
    "### 68. Calculate BSA (Body surface area) without using function and store as column in dataframe and categorize.\n"
   ]
  },
  {
   "cell_type": "code",
   "execution_count": null,
   "id": "bcc75656-7adc-4344-a024-9cd16958012f",
   "metadata": {},
   "outputs": [],
   "source": [
    "\n",
    "# Using the most commonly used formula \"Du Bois Formula:BSA (m²) = 0.007184 x (Height (cm) ^ 0.725) x (Weight (kg) ^ 0.425).\"\n",
    "#subject_df['BSA'] = round((0.007184 * (subject_df['Height']**0.725) * (subject_df['Weight']**0.425)),2)\n",
    "\n",
    "subject_df['BSA'] = round(np.sqrt(subject_df['Height']*subject_df['Weight']/3600), 2)\n",
    "\n",
    "# Categorize BSA\n",
    "def categorize_bsa(bsa):\n",
    "    if bsa < 1.6:\n",
    "        return 'Low'\n",
    "    elif 1.6 <= bsa < 2.0:\n",
    "        return 'Average'\n",
    "    else:\n",
    "        return 'High'\n",
    "\n",
    "subject_df['bsa_category'] = subject_df['BSA'].apply(categorize_bsa)\n",
    "\n",
    "subject_df.head(15)\n"
   ]
  },
  {
   "cell_type": "markdown",
   "id": "9c4fefb1-6439-471c-9dbb-f7a00fa7f18c",
   "metadata": {},
   "source": [
    "### 69. Write a python function that efficiently processes large data into chunks to analyze average heart rate and maximum oxygen consumption for each test. Print the chunks during processing.\n"
   ]
  },
  {
   "cell_type": "code",
   "execution_count": null,
   "id": "c32c2ae3-5274-4117-b882-0f996638a070",
   "metadata": {},
   "outputs": [],
   "source": [
    "\n",
    "# Due to large volume of the test dataset, I have only sampled 100 rows of data and chunk size of 50 for this question\n",
    "\n",
    "def test_process(sampled_df, chunk_size = 50):\n",
    "    \n",
    "    for i in range(0, len(sampled_df), chunk_size):\n",
    "        chunk = sampled_df[i:i + chunk_size]\n",
    "        print(\"---------------------------------------------------------------\")\n",
    "        print(f\"Processing chunk {i // chunk_size + 1} of {chunk_size} rows\")\n",
    "        print(\"---------------------------------------------------------------\")\n",
    "        print(chunk.head())\n",
    "    \n",
    "        test_ids = chunk['ID_test'].unique()\n",
    "    \n",
    "        # Add processing logic here to analyze average heart rate and maximum oxygen consumption for each test\n",
    "        for test_id in test_ids:\n",
    "            test_data = chunk[chunk['ID_test'] == test_id]\n",
    "            # calculate average heart rate and maximum oxygen consumption \n",
    "            avg_heart_rate = test_data['HR'].mean(skipna=True)\n",
    "            max_oxygen_consumption = test_data['VO2'].max()\n",
    "            print(\"\\n\")\n",
    "            print(f\"Test ID: {test_id}\")\n",
    "            print(f\"average heart rate: {avg_heart_rate:.2f}\")\n",
    "            print(f\"maximum oxygen consumption: {max_oxygen_consumption:.2f}\")\n",
    "    print(\"-----------------------------------------------------------------\")\n",
    "    \n",
    "       \n",
    "sampled_df = test_df.sample(n= 100, random_state =123)\n",
    "test_process(sampled_df, chunk_size=50)\n",
    "\n"
   ]
  },
  {
   "cell_type": "code",
   "execution_count": null,
   "id": "3b364ed9-21fe-4eee-8c4d-bfd75102b91c",
   "metadata": {},
   "outputs": [],
   "source": [
    "# This is for the whole test measure data\n",
    "'''\n",
    "def treadmill_data(filename, chunk_size= 2000):\n",
    "    \n",
    "    print(f\"Processing Data in Chunks of {chunk_size} rows...\")\n",
    "    print(\"---------------------------------------------------\")\n",
    "    for chunk in pd.read_csv(filename, chunksize = chunk_size):\n",
    "        print(\"Processing data chunks:\")\n",
    "        print(chunk.head())\n",
    "        test_ids = chunk['ID_test'].unique()\n",
    "\n",
    "        for test_id in test_ids:\n",
    "            test_data = chunk[chunk['ID_test'] == test_id]\n",
    "            # calculate average heart rate and maximum oxygen consumption \n",
    "            avg_heart_rate = test_data['HR'].mean(skipna=True)\n",
    "            max_oxygen_consumption = test_data['VO2'].max()\n",
    "            print(\"\\n\")\n",
    "            print(f\"Test ID: {test_id}\")\n",
    "            print(f\"average heart rate: {avg_heart_rate:.2f}\")\n",
    "            print(f\"maximum oxygen consumption: {max_oxygen_consumption:.2f}\")\n",
    "        \n",
    "    print(\"-----------------------------------------------------------------\")\n",
    "\n",
    "\n",
    "treadmill_data('test_measure.csv', chunk_size=2000)\n",
    "\n",
    "'''"
   ]
  },
  {
   "cell_type": "markdown",
   "id": "fc8d55bc-2934-424d-8d7e-b32e7afdda57",
   "metadata": {},
   "source": [
    "### 70. How does the body's production of carbon dioxide related to the consumption of oxygen with increasing levels of pulmonary ventilation during GET? \n"
   ]
  },
  {
   "cell_type": "code",
   "execution_count": null,
   "id": "1a0a2ab3-f505-43b2-877a-99e722942382",
   "metadata": {},
   "outputs": [],
   "source": [
    "\n",
    "# VE on x axis, vo2 and vco2 on y axis\n",
    "\n",
    "#Consider Athelete with ID 100 \n",
    "athlete_100 = test_df[test_df['ID_test']== '100_1'].reset_index()\n",
    "df= athlete_100\n",
    "df.head()\n",
    "\n",
    "df.drop('index', axis=1, inplace=True)\n",
    "df.head()\n",
    "\n",
    "# Method 1: Using matplotlib subplotsdf= athlete_100\n",
    "fig, axes = plt.subplots(2, 1, figsize=(12, 10), sharex=True) # 2 rows, 1 column\n",
    "\n",
    "axes[0].scatter(np.array(df['VE']), np.array(df['VCO2']), label='Carbon Dioxide', color='red')\n",
    "axes[0].set_ylabel('Carbon Dioxide')\n",
    "axes[0].legend()\n",
    "\n",
    "axes[1].scatter(np.array(df['VE']), np.array(df['VO2']), label='Oxygen Saturation', color='blue')\n",
    "axes[1].set_ylabel('Oxygen Saturation')\n",
    "axes[1].set_xlabel('Pulmonary Ventilation')\n",
    "axes[1].legend()\n",
    "\n",
    "plt.tight_layout()\n",
    "plt.show()\n"
   ]
  },
  {
   "cell_type": "markdown",
   "id": "af6cfa54-afbe-4728-b27c-a56d54671ec3",
   "metadata": {},
   "source": [
    "### Analysis: \n",
    "\n",
    "It is observed from the plots, as the pulmonary ventilation increases, oxygen consumption tends to increase and subsequently production of carbon dioxide increases. During a graded exercise test, as the pulmonary ventilation increases with exercise intensity, the body's carbon dioxide (CO2) production and oxygen consumption (O2) rates also rise proportionally. This is true during accleration but with decceleration of treadmill the rate of relationship between oxygen consumption and carbon dioxide production slightly differed or deviated.\n",
    "\n",
    "\n",
    "\n",
    "\n",
    "\n"
   ]
  },
  {
   "cell_type": "markdown",
   "id": "98c953f4-5911-4432-9be7-72d0fe5da56a",
   "metadata": {},
   "source": [
    "### 71. Create a Funnel chart of Age Category (Child, Teen, Adult and Senior) ?\n"
   ]
  },
  {
   "cell_type": "code",
   "execution_count": null,
   "id": "2dd49ac6-d4c8-4586-92fd-5af000bc4f16",
   "metadata": {},
   "outputs": [],
   "source": [
    "#Age Category\n",
    "def age_category(df):\n",
    "    if df['Age'] > 10 and df['Age'] < 13: \n",
    "        return 'Child'\n",
    "    if df['Age'] >= 13 and df['Age'] < 20: \n",
    "        return 'Teen'\n",
    "    if df['Age'] >= 20 and df['Age'] < 60: \n",
    "        return 'Adult'\n",
    "    if df['Age'] >= 60 : \n",
    "        return 'Senior'\n",
    "\n",
    "subject_df['Age Category'] = subject_df.apply(lambda x : age_category(x), axis = 1)\n",
    "subject_df.head()\n",
    "\n",
    "\n",
    "\n",
    "subject_df['Age Category'].unique()\n",
    "age_df = subject_df['Age Category'].value_counts()\n",
    "age_df.values\n",
    "\n",
    "fig = px.funnel(subject_df, x = age_df.values, y =subject_df['Age Category'].unique(), width = 800, height = 600)\n",
    "fig.show()"
   ]
  },
  {
   "cell_type": "markdown",
   "id": "e1770767-861d-4e13-ad58-62fee92b3457",
   "metadata": {},
   "source": [
    "### 72. Visualize different physiological parameters over time for a specific test of an athlete using multiple panels?\n"
   ]
  },
  {
   "cell_type": "code",
   "execution_count": null,
   "id": "b2660df5-50c3-4338-81a9-1df886ccb768",
   "metadata": {},
   "outputs": [],
   "source": [
    "#Consider Athelete with ID 100 \n",
    "df_100 = test_df[test_df['ID_test']== '100_1'].reset_index()\n",
    "df_100.head()\n",
    "\n",
    "# Drop the indexes\n",
    "df_100.drop('index', axis=1, inplace=True)\n",
    "df_100.head()\n",
    "\n",
    "#  Using matplotlib subplots\n",
    "\n",
    "fig, axes = plt.subplots(5, 1, figsize=(12, 10), sharex=True) # 5 rows, 1 column\n",
    "\n",
    "axes[0].plot(np.array(df_100['time']), np.array(df_100['HR']), label='Heart Rate', color='red')\n",
    "axes[0].set_ylabel('HR')\n",
    "axes[0].legend()\n",
    "\n",
    "axes[1].plot(np.array(df_100['time']), np.array(df_100['VO2']), label='Oxygen Consumption', color='green')\n",
    "axes[1].set_ylabel('VO2')\n",
    "axes[1].legend()\n",
    "\n",
    "axes[2].plot(np.array(df_100['time']), np.array(df_100['VCO2']), label='Carbon Dioxide', color='orange')\n",
    "axes[2].set_ylabel('VCO2')\n",
    "axes[2].legend()\n",
    "\n",
    "axes[3].plot(np.array(df_100['time']), np.array(df_100['RR']), label='Respiratory Rate', color='brown')\n",
    "axes[3].set_ylabel('RR')\n",
    "axes[3].legend()\n",
    "\n",
    "axes[4].plot(np.array(df_100['time']), np.array(df_100['VE']), label='Pulmonary Ventilation', color='blue')\n",
    "axes[4].set_ylabel('VE')\n",
    "axes[4].set_xlabel('Time')\n",
    "axes[4].legend()\n",
    "\n",
    "\n",
    "plt.tight_layout()\n",
    "plt.show()"
   ]
  },
  {
   "cell_type": "markdown",
   "id": "8ba3c239-fb4e-4c38-96b6-35ba5c2b3ec7",
   "metadata": {},
   "source": [
    "### 73. Print first 10 records of the subject_info based on ID, without using head() method."
   ]
  },
  {
   "cell_type": "code",
   "execution_count": null,
   "id": "700d98ea-2f51-40d8-81da-2e0df3c24138",
   "metadata": {},
   "outputs": [],
   "source": [
    "# using iloc we can access the first 10 rows/ records of a dataframe\n",
    "subject_df.iloc[: 11]    "
   ]
  },
  {
   "cell_type": "markdown",
   "id": "9d1071d4-77db-4108-978f-366897b72347",
   "metadata": {},
   "source": [
    "### 74. Determine the treadmill speed range and age range in which you observe the highest average heart rate.\n"
   ]
  },
  {
   "cell_type": "code",
   "execution_count": null,
   "id": "7f07c149-0335-41a6-9e4e-ad35e53a6715",
   "metadata": {},
   "outputs": [],
   "source": [
    "# Defining Age range\n",
    "def age_range(df):\n",
    "    if df['Age'] >= 10 and df['Age'] <= 20: \n",
    "        return '10-20'\n",
    "    if df['Age'] > 20  and df['Age'] <= 30: \n",
    "        return '20-30'\n",
    "    if df['Age'] > 30 and df['Age'] <= 40: \n",
    "        return '30-40'\n",
    "    if df['Age'] > 40 and df['Age'] <= 50: \n",
    "        return '40-50'\n",
    "    if df['Age'] > 50 and df['Age'] <= 60: \n",
    "        return '50-60'\n",
    "    if df['Age'] > 60 : \n",
    "        return '60+'\n",
    "\n",
    "subject_df['AgeRange'] = subject_df.apply(lambda x : age_range(x), axis = 1)\n",
    "#subject_df\n"
   ]
  },
  {
   "cell_type": "code",
   "execution_count": null,
   "id": "02837b04-681d-4096-8e30-cf6ae0667824",
   "metadata": {},
   "outputs": [],
   "source": [
    "# Defining speed range\n",
    "def speed_range(df):\n",
    "    if df['Speed'] >=0 and df['Speed'] <=5: \n",
    "        return '0-5'\n",
    "    if df['Speed'] > 5 and df['Speed'] <= 10: \n",
    "        return '5-10'\n",
    "    if df['Speed'] > 10 and df['Speed'] <= 15: \n",
    "        return '10-15'\n",
    "    if df['Speed'] >15 and  df['Speed'] <= 20: \n",
    "        return '15-20'\n",
    "    if df['Speed'] > 20:\n",
    "        return '20-30'\n",
    "\n",
    "test_df['SpeedRange'] = test_df.apply(lambda x : speed_range(x), axis = 1)\n",
    "#test_df"
   ]
  },
  {
   "cell_type": "code",
   "execution_count": null,
   "id": "f04d6f5b-eadd-4dd9-aebd-86b515356018",
   "metadata": {},
   "outputs": [],
   "source": [
    "# Merge subject and test data\n",
    "test_cleaned = test_df.dropna(subset=['HR'])\n",
    "merge_df = test_cleaned.merge(subject_df, on=['ID','ID_test'])\n",
    "merge_df.head()"
   ]
  },
  {
   "cell_type": "code",
   "execution_count": null,
   "id": "c77f6e1c-22d2-4753-aa16-b78e3daa6630",
   "metadata": {},
   "outputs": [],
   "source": [
    "# Grouping by treadmill speed range and age range\n",
    "grouped = merge_df.groupby(['SpeedRange', 'AgeRange'])['HR'].mean().reset_index()\n",
    "\n",
    "# Find the group with highest avg HR\n",
    "max_hr_group = grouped.iloc[grouped['HR'].idxmax()]\n",
    "print(\"Highest Average Heart Rate Group:\\n\")\n",
    "print(max_hr_group)"
   ]
  },
  {
   "cell_type": "markdown",
   "id": "7b814833-9d10-4c2f-bc41-d8931d0ab97b",
   "metadata": {},
   "source": [
    "### 75. Identify subjects whose heart rate (HR) is consistently above their age group’s 75th percentile."
   ]
  },
  {
   "cell_type": "code",
   "execution_count": null,
   "id": "40fcd580-7344-48d5-b68a-be52f0d06fab",
   "metadata": {},
   "outputs": [],
   "source": [
    "# Merge subject and test data after removing the null values from heart rate column\n",
    "test_cleaned = test_df.dropna(subset=['HR'])\n",
    "df1 = test_cleaned.merge(subject_df, on=['ID','ID_test'])\n",
    "\n",
    "# Compute 75th percentile HR for each age group\n",
    "hr_75th = df1.groupby('AgeRange')['HR'].quantile(0.75).to_dict()\n",
    "print(\"The 75th percentiles of Heart rate for each Age Range is: \\n\",hr_75th)\n",
    "\n",
    "# Add threshold column to each row for comparison\n",
    "df1['HR_75th'] = df1['AgeRange'].map(hr_75th)\n",
    "\n",
    "# select only required columns\n",
    "selected_data = df1[['ID','AgeRange', 'HR', 'HR_75th']]\n",
    "#selected_data.head()\n",
    "new_data = selected_data.drop_duplicates()\n",
    "#new_data.head()"
   ]
  },
  {
   "cell_type": "code",
   "execution_count": null,
   "id": "598573fc-00ac-4a41-9f83-ad1d1c3278f1",
   "metadata": {},
   "outputs": [],
   "source": [
    "# apply the transform function to check which HR values are above their 75th quartile\n",
    "cons_subjects = new_data.groupby(['ID', 'AgeRange'])['HR'].transform(lambda x: x > x.quantile(0.75)).reset_index()\n",
    "#cons_subjects\n",
    "\n",
    "# Select only the data that returned TRUE \n",
    "sel_data = cons_subjects[cons_subjects['HR'] == True]\n",
    "#print(len(sel_data))\n",
    "\n",
    "# Extract the index values that are ID in the new_data\n",
    "list_ID = sel_data['index'].tolist()\n",
    "#print(list_ID)\n",
    "\n",
    "filtered_df = new_data[new_data['ID'].isin(list_ID)]\n",
    "\n",
    "# after selecting only the IDs that have HR True, we get 541 rows\n",
    "f1 = filtered_df[filtered_df['HR'] > filtered_df['HR_75th'] ]\n",
    "#f1\n",
    "\n",
    "# Further filtering down the dataset to extract only the unique ID with HR greater than their 75th quantile\n",
    "list1 = f1['ID'].unique()\n",
    "# print(len(list1)) # 33 subjects\n",
    "\n",
    "final_dataset = f1.drop_duplicates(subset=['ID'])\n",
    "final_dataset.sort_values(by='AgeRange')"
   ]
  },
  {
   "cell_type": "markdown",
   "id": "f5ff22fc-c355-4b19-b8a1-db7dbcfc1d47",
   "metadata": {},
   "source": [
    "### 76. List the participants ID and test _ID who started their warm up with speed less than 5km/h ?\n"
   ]
  },
  {
   "cell_type": "code",
   "execution_count": null,
   "id": "6ea3f528-d110-4410-9ab7-61d6480e9994",
   "metadata": {},
   "outputs": [],
   "source": [
    "# Filter rows where speed less than 5 km/h\n",
    "speed5_df = test_df[test_df['Speed'] < 5]\n",
    "\n",
    "filtered_df = speed5_df.drop(columns = ['time','HR','VO2','VCO2', 'RR', 'VE','SpeedRange'])\n",
    "\n",
    "warmup_df = filtered_df.drop_duplicates(subset=['ID', 'ID_test'])\n",
    "\n",
    "# List of unique ID participants with warm up speed less than 5km/h\n",
    "warmup_df\n",
    "#.head(10) \n"
   ]
  },
  {
   "cell_type": "markdown",
   "id": "e2340db9-6960-4b2d-be63-b603532ff5c7",
   "metadata": {},
   "source": [
    "### 77. Calculate the mean VO2 max for male and female athletes in the Get Phase.\n",
    "\n"
   ]
  },
  {
   "cell_type": "code",
   "execution_count": null,
   "id": "6a2faadf-84b0-413e-a18c-eb7534f9bc13",
   "metadata": {},
   "outputs": [],
   "source": [
    "# Merge datasets\n",
    "df2 = test_df.merge(subject_df, on=['ID', 'ID_test'])\n",
    "df2.head()"
   ]
  },
  {
   "cell_type": "code",
   "execution_count": null,
   "id": "32316066-d180-4709-b180-1acb87524f4f",
   "metadata": {},
   "outputs": [],
   "source": [
    "VO2_max = df2.groupby(['ID_test','Sex'])['VO2'].max().reset_index()\n",
    "VO2_max.columns = ['ID_test','Sex', 'Max_VO2']\n",
    "VO2_max"
   ]
  },
  {
   "cell_type": "code",
   "execution_count": null,
   "id": "2a9f72c9-2c9a-4409-9545-78629e1cb0f9",
   "metadata": {},
   "outputs": [],
   "source": [
    "# FINAL: The mean VO2 max for male and female athletes in the Get Phase.\n",
    "mean_VO2_max_by_gender  = VO2_max.groupby('Sex')['Max_VO2'].mean()\n",
    "mean_VO2_max_by_gender "
   ]
  },
  {
   "cell_type": "markdown",
   "id": "60e72c2c-ba34-4b16-9802-66e8cea25a61",
   "metadata": {},
   "source": [
    "### 78. If you consider cool down time as the recovery period after reaching peak speed, display the participant details who has taken the longest Cool Down time.\n",
    "\n"
   ]
  },
  {
   "cell_type": "code",
   "execution_count": null,
   "id": "1b2c5e02-63bc-4d96-8c2c-649f9b513bea",
   "metadata": {},
   "outputs": [],
   "source": [
    "#minimum time at minimum speed---> warmup\n",
    "#max time , max speed\n",
    "#maximum time at minimim speed ---> cool dowm\n",
    "#longest Cool Down time  = maxtime of max speed - end time of the test       \n",
    "\n",
    "# Merge datasets\n",
    "#df2 = test_df.merge(subject_df, on=['ID', 'ID_test'])\n",
    "#df2.head()\n",
    "\n",
    "# For each participant, find the time when peak speed occurs\n",
    "longest_cooldown = []\n",
    "\n",
    "for pid in df2['ID_test'].unique():\n",
    "    sub_df = df2[df2['ID_test'] == pid].sort_values('time')\n",
    "    \n",
    "    max_speed = sub_df['Speed'].max()\n",
    "    peak_time = sub_df[sub_df['Speed'] == max_speed]['time'].max()\n",
    "    \n",
    "    cooldown_time = sub_df['time'].max() - peak_time\n",
    "    \n",
    "    longest_cooldown.append({\n",
    "        'ID_test': pid,\n",
    "        'CoolDownTime': cooldown_time\n",
    "    })\n",
    "\n",
    "# Create DataFrame and find the longest\n",
    "cooldown_df = pd.DataFrame(longest_cooldown)\n",
    "top = cooldown_df.sort_values('CoolDownTime', ascending=False).head(1)\n",
    "\n",
    "# Merge with subject info\n",
    "result = top.merge(subject_df, on='ID_test')\n",
    "result[['ID_test', 'CoolDownTime', 'Age', 'Sex', 'Weight', 'Height']]\n"
   ]
  },
  {
   "cell_type": "markdown",
   "id": "e23c07e3-a361-410c-b245-98fb9afdf74d",
   "metadata": {},
   "source": [
    "### 79. Identify the athlete who recorded the highest treadmill speed during the tests."
   ]
  },
  {
   "cell_type": "code",
   "execution_count": null,
   "id": "73e11965-5380-432b-828b-15df61125873",
   "metadata": {},
   "outputs": [],
   "source": [
    "maxspeed_row_id = test_df['Speed'].idxmax()\n",
    "maxspeed_row = test_df.iloc[maxspeed_row_id]\n",
    "#print(maxspeed_row)\n",
    "print(\"The ID of the athlete who recorded the highest treadmill speed during the test is\", maxspeed_row['ID'])\n",
    "\n",
    "test_df.iloc[maxspeed_row_id]"
   ]
  },
  {
   "cell_type": "markdown",
   "id": "70ebc9ed-efa1-4a7d-be95-e098090076fd",
   "metadata": {},
   "source": [
    "### 80. Show the oxygen consumption trend analysis among women athletes across different age groups "
   ]
  },
  {
   "cell_type": "code",
   "execution_count": null,
   "id": "c2c9b740-95b3-46c1-8088-78907083004e",
   "metadata": {},
   "outputs": [],
   "source": [
    "# take the merged dataset df2 and group by taking sex and agerange to compute the averahe oxygein consumption\n",
    "df3 = df2.groupby(['Sex','AgeRange'])['VO2'].mean().reset_index()\n",
    "\n",
    "# Filter the dataset df3 based on female athletes\n",
    "women_df = df3[df3['Sex'] == 'Female']\n",
    "\n",
    "# replace the VO2 name to avgO2\n",
    "women_df.rename(columns={'VO2': 'avgO2'}, inplace=True)\n",
    "\n",
    "women_df\n",
    "\n",
    "# Plot the trend of VO2 among women athletes across different age groups using line plot\n",
    "\n",
    "fig =plt.figure(figsize =(12,10))\n",
    "plt.plot( np.array(women_df['AgeRange']) ,np.array(women_df['avgO2']), marker ='o', linestyle='-')\n",
    "plt.title('VO2 Trend Among Women Athletes by Age Group')\n",
    "plt.xlabel('Age Group')\n",
    "plt.ylabel('Average VO2')\n",
    "plt.grid(True)\n",
    "plt.show()\n"
   ]
  },
  {
   "cell_type": "markdown",
   "id": "dc4b2a04-8b43-4daa-8985-220a7accdb3f",
   "metadata": {},
   "source": [
    "###  Extra Question: Plot Violin Plot for Age category with respect to weight\n"
   ]
  },
  {
   "cell_type": "code",
   "execution_count": null,
   "id": "4352eb2a-7f2c-49b7-9844-805bc44fa56c",
   "metadata": {},
   "outputs": [],
   "source": [
    "# Plot Violin Chart for Age category with respect to weight\n",
    "fig =plt.figure(figsize =(12,10))\n",
    "palette_dict = {'Male': 'Skyblue', 'Female': 'Pink'}\n",
    "sns.violinplot(x='Age Category' ,y='Weight',data=subject_df, hue='Sex', palette=palette_dict ,split=True)\n",
    "plt.show()\n"
   ]
  },
  {
   "cell_type": "code",
   "execution_count": null,
   "id": "050f04a2-f2fa-45be-b776-c963ff00d5aa",
   "metadata": {},
   "outputs": [],
   "source": []
  },
  {
   "cell_type": "code",
   "execution_count": null,
   "id": "4d676dea-6a0e-4862-b00a-1bb6df8791dd",
   "metadata": {},
   "outputs": [],
   "source": []
  }
 ],
 "metadata": {
  "kernelspec": {
   "display_name": "Python 3 (ipykernel)",
   "language": "python",
   "name": "python3"
  },
  "language_info": {
   "codemirror_mode": {
    "name": "ipython",
    "version": 3
   },
   "file_extension": ".py",
   "mimetype": "text/x-python",
   "name": "python",
   "nbconvert_exporter": "python",
   "pygments_lexer": "ipython3",
   "version": "3.9.2"
  }
 },
 "nbformat": 4,
 "nbformat_minor": 5
}
